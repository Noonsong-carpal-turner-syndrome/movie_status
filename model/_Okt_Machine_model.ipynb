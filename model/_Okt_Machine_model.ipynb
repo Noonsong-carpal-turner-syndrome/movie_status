{
 "cells": [
  {
   "cell_type": "code",
   "execution_count": 8,
   "metadata": {},
   "outputs": [],
   "source": [
    "import konlpy"
   ]
  },
  {
   "cell_type": "code",
   "execution_count": 9,
   "metadata": {},
   "outputs": [],
   "source": [
    "import pandas as pd\n",
    "%matplotlib inline\n",
    "import matplotlib.pyplot as plt\n",
    "import re\n",
    "import tensorflow as tf\n",
    "from konlpy.tag import Okt\n",
    "from tensorflow.keras.preprocessing.text import Tokenizer\n",
    "import numpy as np\n",
    "from tensorflow.keras.preprocessing.sequence import pad_sequences"
   ]
  },
  {
   "cell_type": "markdown",
   "metadata": {},
   "source": [
    "# 데이터 확인"
   ]
  },
  {
   "cell_type": "code",
   "execution_count": 10,
   "metadata": {},
   "outputs": [
    {
     "output_type": "execute_result",
     "data": {
      "text/plain": [
       "  https://ethermine.org/miners/7C4835f1d0818FFC5D5974BC510003Ed67c7a55F/dashboard  \\\n",
       "0  https://ethermine.org/miners/7C4835f1d0818FFC5...                                \n",
       "1  https://docs.google.com/document/d/100AEt7rqVb...                                \n",
       "2  https://docs.google.com/document/u/1/d/100AEt7...                                \n",
       "3          http://q-net.or.kr/man001.do?gSite=Q&gId=                                \n",
       "4      https://blog.naver.com/jung55120/222038434043                                \n",
       "\n",
       "                  Dashboard - Ethermine  2021-04-01 13:08:00  \n",
       "0                   Payouts - Ethermine  2021-04-01 13:06:39  \n",
       "1                  시종설제안서 - Google Docs  2021-04-01 13:06:16  \n",
       "2                  시종설제안서 - Google Docs  2021-04-01 13:06:15  \n",
       "3                         Q-net 자격의 모든것  2021-04-01 13:06:14  \n",
       "4  [자격증 취득] 데이터 비전공자인 내가, AD.. : 네이버블로그  2021-04-01 13:06:14  "
      ],
      "text/html": "<div>\n<style scoped>\n    .dataframe tbody tr th:only-of-type {\n        vertical-align: middle;\n    }\n\n    .dataframe tbody tr th {\n        vertical-align: top;\n    }\n\n    .dataframe thead th {\n        text-align: right;\n    }\n</style>\n<table border=\"1\" class=\"dataframe\">\n  <thead>\n    <tr style=\"text-align: right;\">\n      <th></th>\n      <th>https://ethermine.org/miners/7C4835f1d0818FFC5D5974BC510003Ed67c7a55F/dashboard</th>\n      <th>Dashboard - Ethermine</th>\n      <th>2021-04-01 13:08:00</th>\n    </tr>\n  </thead>\n  <tbody>\n    <tr>\n      <th>0</th>\n      <td>https://ethermine.org/miners/7C4835f1d0818FFC5...</td>\n      <td>Payouts - Ethermine</td>\n      <td>2021-04-01 13:06:39</td>\n    </tr>\n    <tr>\n      <th>1</th>\n      <td>https://docs.google.com/document/d/100AEt7rqVb...</td>\n      <td>시종설제안서 - Google Docs</td>\n      <td>2021-04-01 13:06:16</td>\n    </tr>\n    <tr>\n      <th>2</th>\n      <td>https://docs.google.com/document/u/1/d/100AEt7...</td>\n      <td>시종설제안서 - Google Docs</td>\n      <td>2021-04-01 13:06:15</td>\n    </tr>\n    <tr>\n      <th>3</th>\n      <td>http://q-net.or.kr/man001.do?gSite=Q&amp;gId=</td>\n      <td>Q-net 자격의 모든것</td>\n      <td>2021-04-01 13:06:14</td>\n    </tr>\n    <tr>\n      <th>4</th>\n      <td>https://blog.naver.com/jung55120/222038434043</td>\n      <td>[자격증 취득] 데이터 비전공자인 내가, AD.. : 네이버블로그</td>\n      <td>2021-04-01 13:06:14</td>\n    </tr>\n  </tbody>\n</table>\n</div>"
     },
     "metadata": {},
     "execution_count": 10
    }
   ],
   "source": [
    "dic = pd.read_csv('./data/history.csv',encoding = 'UTF-8-sig')\n",
    "dic[:5]"
   ]
  },
  {
   "cell_type": "code",
   "execution_count": 11,
   "metadata": {},
   "outputs": [
    {
     "output_type": "execute_result",
     "data": {
      "text/plain": [
       "                                                 url  \\\n",
       "0  https://ethermine.org/miners/7C4835f1d0818FFC5...   \n",
       "1  https://docs.google.com/document/d/100AEt7rqVb...   \n",
       "2  https://docs.google.com/document/u/1/d/100AEt7...   \n",
       "3          http://q-net.or.kr/man001.do?gSite=Q&gId=   \n",
       "4      https://blog.naver.com/jung55120/222038434043   \n",
       "\n",
       "                                  title            timestamp  \n",
       "0                   Payouts - Ethermine  2021-04-01 13:06:39  \n",
       "1                  시종설제안서 - Google Docs  2021-04-01 13:06:16  \n",
       "2                  시종설제안서 - Google Docs  2021-04-01 13:06:15  \n",
       "3                         Q-net 자격의 모든것  2021-04-01 13:06:14  \n",
       "4  [자격증 취득] 데이터 비전공자인 내가, AD.. : 네이버블로그  2021-04-01 13:06:14  "
      ],
      "text/html": "<div>\n<style scoped>\n    .dataframe tbody tr th:only-of-type {\n        vertical-align: middle;\n    }\n\n    .dataframe tbody tr th {\n        vertical-align: top;\n    }\n\n    .dataframe thead th {\n        text-align: right;\n    }\n</style>\n<table border=\"1\" class=\"dataframe\">\n  <thead>\n    <tr style=\"text-align: right;\">\n      <th></th>\n      <th>url</th>\n      <th>title</th>\n      <th>timestamp</th>\n    </tr>\n  </thead>\n  <tbody>\n    <tr>\n      <th>0</th>\n      <td>https://ethermine.org/miners/7C4835f1d0818FFC5...</td>\n      <td>Payouts - Ethermine</td>\n      <td>2021-04-01 13:06:39</td>\n    </tr>\n    <tr>\n      <th>1</th>\n      <td>https://docs.google.com/document/d/100AEt7rqVb...</td>\n      <td>시종설제안서 - Google Docs</td>\n      <td>2021-04-01 13:06:16</td>\n    </tr>\n    <tr>\n      <th>2</th>\n      <td>https://docs.google.com/document/u/1/d/100AEt7...</td>\n      <td>시종설제안서 - Google Docs</td>\n      <td>2021-04-01 13:06:15</td>\n    </tr>\n    <tr>\n      <th>3</th>\n      <td>http://q-net.or.kr/man001.do?gSite=Q&amp;gId=</td>\n      <td>Q-net 자격의 모든것</td>\n      <td>2021-04-01 13:06:14</td>\n    </tr>\n    <tr>\n      <th>4</th>\n      <td>https://blog.naver.com/jung55120/222038434043</td>\n      <td>[자격증 취득] 데이터 비전공자인 내가, AD.. : 네이버블로그</td>\n      <td>2021-04-01 13:06:14</td>\n    </tr>\n  </tbody>\n</table>\n</div>"
     },
     "metadata": {},
     "execution_count": 11
    }
   ],
   "source": [
    "dic.columns = ['url', 'title', 'timestamp']\n",
    "dic[:5]"
   ]
  },
  {
   "cell_type": "code",
   "execution_count": 12,
   "metadata": {},
   "outputs": [
    {
     "output_type": "execute_result",
     "data": {
      "text/plain": [
       "                                                 url  \\\n",
       "0  https://ethermine.org/miners/7C4835f1d0818FFC5...   \n",
       "1  https://docs.google.com/document/d/100AEt7rqVb...   \n",
       "2  https://docs.google.com/document/u/1/d/100AEt7...   \n",
       "3          http://q-net.or.kr/man001.do?gSite=Q&gId=   \n",
       "4      https://blog.naver.com/jung55120/222038434043   \n",
       "\n",
       "                                  title            timestamp           domain  \n",
       "0                   Payouts - Ethermine  2021-04-01 13:06:39    ethermine.org  \n",
       "1                  시종설제안서 - Google Docs  2021-04-01 13:06:16  docs.google.com  \n",
       "2                  시종설제안서 - Google Docs  2021-04-01 13:06:15  docs.google.com  \n",
       "3                         Q-net 자격의 모든것  2021-04-01 13:06:14      q-net.or.kr  \n",
       "4  [자격증 취득] 데이터 비전공자인 내가, AD.. : 네이버블로그  2021-04-01 13:06:14   blog.naver.com  "
      ],
      "text/html": "<div>\n<style scoped>\n    .dataframe tbody tr th:only-of-type {\n        vertical-align: middle;\n    }\n\n    .dataframe tbody tr th {\n        vertical-align: top;\n    }\n\n    .dataframe thead th {\n        text-align: right;\n    }\n</style>\n<table border=\"1\" class=\"dataframe\">\n  <thead>\n    <tr style=\"text-align: right;\">\n      <th></th>\n      <th>url</th>\n      <th>title</th>\n      <th>timestamp</th>\n      <th>domain</th>\n    </tr>\n  </thead>\n  <tbody>\n    <tr>\n      <th>0</th>\n      <td>https://ethermine.org/miners/7C4835f1d0818FFC5...</td>\n      <td>Payouts - Ethermine</td>\n      <td>2021-04-01 13:06:39</td>\n      <td>ethermine.org</td>\n    </tr>\n    <tr>\n      <th>1</th>\n      <td>https://docs.google.com/document/d/100AEt7rqVb...</td>\n      <td>시종설제안서 - Google Docs</td>\n      <td>2021-04-01 13:06:16</td>\n      <td>docs.google.com</td>\n    </tr>\n    <tr>\n      <th>2</th>\n      <td>https://docs.google.com/document/u/1/d/100AEt7...</td>\n      <td>시종설제안서 - Google Docs</td>\n      <td>2021-04-01 13:06:15</td>\n      <td>docs.google.com</td>\n    </tr>\n    <tr>\n      <th>3</th>\n      <td>http://q-net.or.kr/man001.do?gSite=Q&amp;gId=</td>\n      <td>Q-net 자격의 모든것</td>\n      <td>2021-04-01 13:06:14</td>\n      <td>q-net.or.kr</td>\n    </tr>\n    <tr>\n      <th>4</th>\n      <td>https://blog.naver.com/jung55120/222038434043</td>\n      <td>[자격증 취득] 데이터 비전공자인 내가, AD.. : 네이버블로그</td>\n      <td>2021-04-01 13:06:14</td>\n      <td>blog.naver.com</td>\n    </tr>\n  </tbody>\n</table>\n</div>"
     },
     "metadata": {},
     "execution_count": 12
    }
   ],
   "source": [
    "dic['domain'] = dic['url'].str.split('/').str[2]\n",
    "dic[:5]"
   ]
  },
  {
   "source": [
    "# 데이터 정리\n",
    "labeling"
   ],
   "cell_type": "markdown",
   "metadata": {}
  },
  {
   "cell_type": "code",
   "execution_count": 17,
   "metadata": {},
   "outputs": [
    {
     "output_type": "stream",
     "name": "stdout",
     "text": [
      "['.\\\\data\\\\history.csv', '.\\\\data\\\\history2.csv', '.\\\\data\\\\history3.csv']\n"
     ]
    }
   ],
   "source": [
    "import glob\n",
    "\n",
    "input_file = r'.\\data' # csv파일들이 있는 디렉토리 위치\n",
    "output_file = r'.\\data\\history_data.csv' # 병합하고 저장하려는 파일명\n",
    "\n",
    "allFile_list = glob.glob(os.path.join(input_file, '*history*.csv')) # glob함수로 sales_로 시작하는 파일들을 모은다\n",
    "print(allFile_list)\n",
    "allData = [] # 읽어 들인 csv파일 내용을 저장할 빈 리스트를 하나 만든다\n",
    "for file in allFile_list:\n",
    "    df = pd.read_csv(file) # for구문으로 csv파일들을 읽어 들인다\n",
    "    allData.append(df) # 빈 리스트에 읽어 들인 내용을 추가한다\n",
    "    \n",
    "\n",
    "dataCombine = pd.concat(allData, axis=0, ignore_index=True) # concat함수를 이용해서 리스트의 내용을 병합\n",
    "# axis=0은 수직으로 병합함. axis=1은 수평. ignore_index=True는 인데스 값이 기존 순서를 무시하고 순서대로 정렬되도록 한다.\n",
    "dataCombine.to_csv(output_file, index=False) # to_csv함수로 저장한다. 인데스를 빼려면 False로 설정"
   ]
  },
  {
   "cell_type": "code",
   "execution_count": null,
   "metadata": {},
   "outputs": [],
   "source": [
    "# dic = pd.read_csv(file, encoding = 'UTF-8-sig')\n",
    "# dic.columns = ['url', 'title', 'timestamp']\n",
    "# dic['label'] = -1\n",
    "\n",
    "def labeling(file):#기사 내용 중 단어 선별하기\n",
    "    pd.read csv\n",
    "    etc = ['']    # 기타: 0\n",
    "    ent = ['youtube', 'webtoon']    # 엔터테인먼트: 1\n",
    "    prod = ['bank']   # 생산성 및 금융: 2\n",
    "    sns = ['blog', 'news', 'facebook', 'instagram', 'twitter', 'tistory'] # 소셜: 3\n",
    "    shop = ['shopping', 'store']    # 쇼핑 및 음식: 4\n",
    "    doc = ['document', 'docs', 'pdf']  # 정보 및 문서: 5\n",
    "    edu = ['exam', 'career']  #  자기계발: 6\n",
    "    labels = [etc, ent, prod, sns, shop, doc, edu, car]\n",
    "\n",
    "    for key in label for label in labels:\n",
    "        pat = '*'+key+'*'\n",
    "        if pat.search(str(x)):\n",
    "            f['label'] = 1\n",
    "        elif str(x).search(str(x)):\n",
    "            f['label'] = 2\n",
    "    for word in sns:\n",
    "        if str(x).search(str(x)):\n",
    "            f['label'] = 3\n",
    "    for word in shop:\n",
    "        if str(x).search(word):\n",
    "            f['label'] = 4\n",
    "    for word in doc:\n",
    "        if f['url'].str.contains(word):\n",
    "            f['label'] = 5\n",
    "    for word in edu:\n",
    "        if f['url'].str.contains(word):\n",
    "            f['label'] = 6\n",
    "    for word in car:\n",
    "        if f['url'].str.contains(word):\n",
    "            f['label'] = 7\n",
    "    for word in etc:\n",
    "        if f['url'].str.contains(word):\n",
    "            f['label'] = 0\n",
    "labeling('./data/history.csv')"
   ]
  },
  {
   "cell_type": "code",
   "execution_count": null,
   "metadata": {},
   "outputs": [],
   "source": [
    "data = dic[['url','title','label']]\n",
    "data[:5]"
   ]
  },
  {
   "cell_type": "code",
   "execution_count": null,
   "metadata": {
    "scrolled": true
   },
   "outputs": [],
   "source": [
    "print(len(data)) # 댓글 개수 출력"
   ]
  },
  {
   "cell_type": "code",
   "execution_count": null,
   "metadata": {},
   "outputs": [],
   "source": [
    "data['label'].value_counts().plot(kind='bar') #data 분포 그래프를 통해서 확인하기"
   ]
  },
  {
   "cell_type": "code",
   "execution_count": null,
   "metadata": {
    "scrolled": true
   },
   "outputs": [],
   "source": [
    "X_data = comment_data['comment']\n",
    "y_data = comment_data['label']\n",
    "print('comment 개수: {}'.format(len(X_data)))\n",
    "print('rating개수: {}'.format(len(y_data)))"
   ]
  },
  {
   "cell_type": "markdown",
   "metadata": {},
   "source": [
    "# 불용어 제거 및 토큰화"
   ]
  },
  {
   "cell_type": "code",
   "execution_count": null,
   "metadata": {
    "scrolled": true
   },
   "outputs": [],
   "source": [
    "kr_norm = []\n",
    "eng_norm = []\n",
    "for string in tit_data.tolist():\n",
    "    try:\n",
    "        tokens = re.sub(r\"[^ㄱ-ㅎㅏ-ㅣ가-힣]+\", \" \", string.lower())\n",
    "    except Exception as e:\n",
    "        print(string)\n",
    "        break\n",
    "    kr_norm.append(tokens)\n",
    "for string in tit_data.tolist():\n",
    "    try:\n",
    "        tokens = re.sub(\"[^A-Za-z\\s]++\", \"\", string.lower())\n",
    "    except Exception as e:\n",
    "        print(string)\n",
    "        break\n",
    "    kr_norm.append(tokens)\n",
    "for string in url_data.tolist():\n",
    "    try:\n",
    "        tokens = re.sub(\"[^A-Za-z\\s]+\", \"\", string.lower())\n",
    "    except Exception as e:\n",
    "        print(string)\n",
    "        break\n",
    "    eng_norm.append(tokens)"
   ]
  },
  {
   "cell_type": "code",
   "execution_count": null,
   "metadata": {},
   "outputs": [],
   "source": [
    "comment_data.comment = normalized_text\n",
    "for sentence in comment_data['comment']:\n",
    "    print(sentence)"
   ]
  },
  {
   "cell_type": "code",
   "execution_count": null,
   "metadata": {},
   "outputs": [],
   "source": [
    "kr_stopwords=['의','가','이','은','들','는','좀','잘','걍','과','도','를','으로','자','에','와','한','하다']\n",
    "eng_stopwords=['https','http','www','com','co','kr','org','ac']#불용어 제거하기"
   ]
  },
  {
   "cell_type": "code",
   "execution_count": null,
   "metadata": {},
   "outputs": [],
   "source": [
    "from konlpy.tag import Okt  \n",
    "okt = Okt()"
   ]
  },
  {
   "cell_type": "code",
   "execution_count": null,
   "metadata": {},
   "outputs": [],
   "source": [
    "X_token=[]\n",
    "for sentence in comment_data['comment']:\n",
    "    temp_X = []\n",
    "    temp_X = okt.morphs(sentence, stem=True) # 토큰화\n",
    "    #temp_X = [word for word in temp_X if not word in stopwords] # 불용어 제거\n",
    "    X_token.append(temp_X)"
   ]
  },
  {
   "cell_type": "code",
   "execution_count": null,
   "metadata": {},
   "outputs": [],
   "source": [
    "print(X_token[:3])"
   ]
  },
  {
   "cell_type": "code",
   "execution_count": null,
   "metadata": {},
   "outputs": [],
   "source": [
    "import nltk\n",
    "# nltk.download('punkt')\n",
    "# nltk.download('wordnet')\n",
    "from nltk import sent_tokenize, word_tokenize\n",
    "from nltk.stem import PorterStemmer\n",
    "from nltk.corpus import stopwords"
   ]
  },
  {
   "cell_type": "code",
   "execution_count": null,
   "metadata": {},
   "outputs": [],
   "source": [
    "ps=PorterStemmer()\n",
    "\n",
    "stop_words = set(stopwords.words('english'))\n",
    "\n",
    "stemData=[]\n",
    "for sentence in X_data:\n",
    "    tokenData = nltk.word_tokenize(sentence)\n",
    "    tempData = []\n",
    "    for word in tokenData:\n",
    "        if word not in stop_words:\n",
    "            tempData.append(ps.stem(word))\n",
    "    stemData.append(tempData)\n",
    "stemData = np.array(stemData)"
   ]
  },
  {
   "cell_type": "markdown",
   "metadata": {},
   "source": [
    "# 정수 인코딩 수행"
   ]
  },
  {
   "cell_type": "code",
   "execution_count": null,
   "metadata": {},
   "outputs": [],
   "source": [
    "max_words = 35000\n",
    "tokenizer = Tokenizer(num_words = max_words) # 상위 35,000개의 단어만 보존\n",
    "tokenizer.fit_on_texts(X_token) \n",
    "X_token = tokenizer.texts_to_sequences(X_token)"
   ]
  },
  {
   "cell_type": "code",
   "execution_count": null,
   "metadata": {
    "scrolled": true
   },
   "outputs": [],
   "source": [
    "print(X_token[:3])"
   ]
  },
  {
   "cell_type": "code",
   "execution_count": null,
   "metadata": {},
   "outputs": [],
   "source": [
    "word_to_index = tokenizer.word_index"
   ]
  },
  {
   "cell_type": "code",
   "execution_count": null,
   "metadata": {},
   "outputs": [],
   "source": [
    "vocab_size = len(word_to_index)+1\n",
    "print('단어 집합의 크기: {}'.format((vocab_size)))"
   ]
  },
  {
   "cell_type": "markdown",
   "metadata": {},
   "source": [
    "# 전체 데이터 길이 분포 확인"
   ]
  },
  {
   "cell_type": "code",
   "execution_count": null,
   "metadata": {},
   "outputs": [],
   "source": [
    "print('train 리뷰의 최대 길이 :',max(len(l) for l in X_token))\n",
    "print('리뷰의 평균 길이 :',sum(map(len, X_token))/len(X_token))\n",
    "plt.hist([len(s) for s in X_token], bins=100)\n",
    "plt.xlabel('length of Data')\n",
    "plt.ylabel('number of Data')\n",
    "plt.show()"
   ]
  },
  {
   "cell_type": "code",
   "execution_count": null,
   "metadata": {},
   "outputs": [],
   "source": [
    "max_len = 124\n",
    "X_data = pad_sequences(X_token, maxlen=max_len)\n",
    "print(\"data shape: \", X_data.shape)"
   ]
  },
  {
   "cell_type": "code",
   "execution_count": null,
   "metadata": {},
   "outputs": [],
   "source": [
    "y_data = np.array(y_data).reshape(-1, 1)"
   ]
  },
  {
   "cell_type": "code",
   "execution_count": null,
   "metadata": {},
   "outputs": [],
   "source": [
    "print(type(X_data))\n",
    "print(type(y_data))"
   ]
  },
  {
   "cell_type": "code",
   "execution_count": null,
   "metadata": {},
   "outputs": [],
   "source": [
    "print(X_data[:3])\n",
    "print(y_data[:3])"
   ]
  },
  {
   "cell_type": "markdown",
   "metadata": {},
   "source": [
    "# 데이터 분리"
   ]
  },
  {
   "cell_type": "code",
   "execution_count": null,
   "metadata": {},
   "outputs": [],
   "source": [
    "from sklearn.model_selection import train_test_split\n",
    "X_train, X_test, y_train, y_test = train_test_split(X_data, y_data, test_size= 0.3, random_state=1234)"
   ]
  },
  {
   "cell_type": "code",
   "execution_count": null,
   "metadata": {},
   "outputs": [],
   "source": [
    "print(X_train[:3])\n",
    "print(y_train[:3]) "
   ]
  },
  {
   "cell_type": "markdown",
   "metadata": {},
   "source": [
    "# 모델 만들기(loss: 0. - acc: 0.)"
   ]
  },
  {
   "cell_type": "code",
   "execution_count": null,
   "metadata": {},
   "outputs": [],
   "source": [
    "from tensorflow.keras.layers import Embedding, Dense, LSTM\n",
    "from tensorflow.keras.models import Sequential"
   ]
  },
  {
   "cell_type": "code",
   "execution_count": null,
   "metadata": {},
   "outputs": [],
   "source": [
    "model = Sequential()\n",
    "model.add(Embedding(max_words, 100))\n",
    "model.add(LSTM(128))\n",
    "model.add(Dense(1, activation='sigmoid'))\n",
    "\n",
    "model.compile(optimizer='adam', loss='binary_crossentropy', metrics=['acc'])\n",
    "history = model.fit(X_train, y_train, epochs=10, batch_size=32, validation_split = 0.2)"
   ]
  },
  {
   "cell_type": "code",
   "execution_count": null,
   "metadata": {
    "scrolled": true
   },
   "outputs": [],
   "source": [
    "print(\"\\n 테스트 정확도: %.4f\" % (model.evaluate(X_test, y_test)[1]))"
   ]
  },
  {
   "cell_type": "code",
   "execution_count": null,
   "metadata": {},
   "outputs": [],
   "source": [
    "epochs = range(1, len(history.history['acc']) + 1)\n",
    "plt.plot(epochs, history.history['acc'])\n",
    "plt.plot(epochs, history.history['val_acc'])\n",
    "plt.title('model accuracy')\n",
    "plt.ylabel('accuracy')\n",
    "plt.xlabel('epoch')\n",
    "plt.legend(['train', 'val'], loc='upper left')\n",
    "plt.show()"
   ]
  },
  {
   "cell_type": "code",
   "execution_count": null,
   "metadata": {},
   "outputs": [],
   "source": [
    "epochs = range(1, len(history.history['acc']) + 1)\n",
    "plt.plot(epochs, history.history['loss'])\n",
    "plt.plot(epochs, history.history['val_loss'])\n",
    "plt.title('model loss')\n",
    "plt.ylabel('loss')\n",
    "plt.xlabel('epoch')\n",
    "plt.legend(['train', 'val'], loc='upper left')\n",
    "plt.show()"
   ]
  },
  {
   "cell_type": "markdown",
   "metadata": {},
   "source": [
    "# optimizer(adam -> sgd) 변경_실패"
   ]
  },
  {
   "cell_type": "code",
   "execution_count": null,
   "metadata": {},
   "outputs": [],
   "source": [
    "model = Sequential()\n",
    "model.add(Embedding(max_words, 100))\n",
    "model.add(LSTM(128))\n",
    "model.add(Dense(1, activation='sigmoid'))\n",
    "\n",
    "model.compile(optimizer='sgd', loss='binary_crossentropy', metrics=['acc'])\n",
    "history2 = model.fit(X_train, y_train, epochs=10, batch_size=32, validation_split = 0.2)"
   ]
  },
  {
   "cell_type": "code",
   "execution_count": null,
   "metadata": {},
   "outputs": [],
   "source": []
  }
 ],
 "metadata": {
  "kernelspec": {
   "name": "python3710jvsc74a57bd077160980b57d06325a3d3988f966ff7044cd2b89b77b17d41e2f6eb795137afc",
   "display_name": "Python 3.7.10 64-bit ('capstone': conda)"
  },
  "language_info": {
   "codemirror_mode": {
    "name": "ipython",
    "version": 3
   },
   "file_extension": ".py",
   "mimetype": "text/x-python",
   "name": "python",
   "nbconvert_exporter": "python",
   "pygments_lexer": "ipython3",
   "version": "3.7.10"
  }
 },
 "nbformat": 4,
 "nbformat_minor": 2
}