{
 "cells": [
  {
   "cell_type": "code",
   "execution_count": 277,
   "metadata": {},
   "outputs": [],
   "source": [
    "import konlpy"
   ]
  },
  {
   "cell_type": "code",
   "execution_count": 278,
   "metadata": {},
   "outputs": [],
   "source": [
    "import pandas as pd\n",
    "%matplotlib inline\n",
    "import matplotlib.pyplot as plt\n",
    "import re\n",
    "import tensorflow as tf\n",
    "from konlpy.tag import Okt\n",
    "from tensorflow.keras.preprocessing.text import Tokenizer\n",
    "import numpy as np\n",
    "from tensorflow.keras.preprocessing.sequence import pad_sequences"
   ]
  },
  {
   "cell_type": "markdown",
   "metadata": {},
   "source": [
    "# 데이터 확인"
   ]
  },
  {
   "cell_type": "code",
   "execution_count": 279,
   "metadata": {},
   "outputs": [
    {
     "output_type": "execute_result",
     "data": {
      "text/plain": [
       "                                             Column1               Column2  \\\n",
       "0  https://zuminternet.github.io/Zum-Chrome-Exten...     크롬 확장프로그램 개발⛏️ 회고   \n",
       "1                      https://www.twitch.tv/frog135          게구리 - Twitch   \n",
       "2  https://docs.google.com/document/d/100AEt7rqVb...  시종설제안서 - Google Docs   \n",
       "3  https://docs.google.com/document/u/1/d/100AEt7...  시종설제안서 - Google Docs   \n",
       "4                     https://www.twitch.tv/akaros83     AKaros83 - Twitch   \n",
       "\n",
       "    열1  \n",
       "0  NaN  \n",
       "1  1.0  \n",
       "2  5.0  \n",
       "3  5.0  \n",
       "4  1.0  "
      ],
      "text/html": "<div>\n<style scoped>\n    .dataframe tbody tr th:only-of-type {\n        vertical-align: middle;\n    }\n\n    .dataframe tbody tr th {\n        vertical-align: top;\n    }\n\n    .dataframe thead th {\n        text-align: right;\n    }\n</style>\n<table border=\"1\" class=\"dataframe\">\n  <thead>\n    <tr style=\"text-align: right;\">\n      <th></th>\n      <th>Column1</th>\n      <th>Column2</th>\n      <th>열1</th>\n    </tr>\n  </thead>\n  <tbody>\n    <tr>\n      <th>0</th>\n      <td>https://zuminternet.github.io/Zum-Chrome-Exten...</td>\n      <td>크롬 확장프로그램 개발⛏️ 회고</td>\n      <td>NaN</td>\n    </tr>\n    <tr>\n      <th>1</th>\n      <td>https://www.twitch.tv/frog135</td>\n      <td>게구리 - Twitch</td>\n      <td>1.0</td>\n    </tr>\n    <tr>\n      <th>2</th>\n      <td>https://docs.google.com/document/d/100AEt7rqVb...</td>\n      <td>시종설제안서 - Google Docs</td>\n      <td>5.0</td>\n    </tr>\n    <tr>\n      <th>3</th>\n      <td>https://docs.google.com/document/u/1/d/100AEt7...</td>\n      <td>시종설제안서 - Google Docs</td>\n      <td>5.0</td>\n    </tr>\n    <tr>\n      <th>4</th>\n      <td>https://www.twitch.tv/akaros83</td>\n      <td>AKaros83 - Twitch</td>\n      <td>1.0</td>\n    </tr>\n  </tbody>\n</table>\n</div>"
     },
     "metadata": {},
     "execution_count": 279
    }
   ],
   "source": [
    "dic = pd.read_csv('./data/cleaning.csv',encoding = 'UTF-8-sig')\n",
    "dic[:5]"
   ]
  },
  {
   "cell_type": "code",
   "execution_count": 280,
   "metadata": {},
   "outputs": [
    {
     "output_type": "execute_result",
     "data": {
      "text/plain": [
       "                                                 url                 title  \\\n",
       "0  https://zuminternet.github.io/Zum-Chrome-Exten...     크롬 확장프로그램 개발⛏️ 회고   \n",
       "1                      https://www.twitch.tv/frog135          게구리 - Twitch   \n",
       "2  https://docs.google.com/document/d/100AEt7rqVb...  시종설제안서 - Google Docs   \n",
       "3  https://docs.google.com/document/u/1/d/100AEt7...  시종설제안서 - Google Docs   \n",
       "4                     https://www.twitch.tv/akaros83     AKaros83 - Twitch   \n",
       "\n",
       "   label  \n",
       "0    NaN  \n",
       "1    1.0  \n",
       "2    5.0  \n",
       "3    5.0  \n",
       "4    1.0  "
      ],
      "text/html": "<div>\n<style scoped>\n    .dataframe tbody tr th:only-of-type {\n        vertical-align: middle;\n    }\n\n    .dataframe tbody tr th {\n        vertical-align: top;\n    }\n\n    .dataframe thead th {\n        text-align: right;\n    }\n</style>\n<table border=\"1\" class=\"dataframe\">\n  <thead>\n    <tr style=\"text-align: right;\">\n      <th></th>\n      <th>url</th>\n      <th>title</th>\n      <th>label</th>\n    </tr>\n  </thead>\n  <tbody>\n    <tr>\n      <th>0</th>\n      <td>https://zuminternet.github.io/Zum-Chrome-Exten...</td>\n      <td>크롬 확장프로그램 개발⛏️ 회고</td>\n      <td>NaN</td>\n    </tr>\n    <tr>\n      <th>1</th>\n      <td>https://www.twitch.tv/frog135</td>\n      <td>게구리 - Twitch</td>\n      <td>1.0</td>\n    </tr>\n    <tr>\n      <th>2</th>\n      <td>https://docs.google.com/document/d/100AEt7rqVb...</td>\n      <td>시종설제안서 - Google Docs</td>\n      <td>5.0</td>\n    </tr>\n    <tr>\n      <th>3</th>\n      <td>https://docs.google.com/document/u/1/d/100AEt7...</td>\n      <td>시종설제안서 - Google Docs</td>\n      <td>5.0</td>\n    </tr>\n    <tr>\n      <th>4</th>\n      <td>https://www.twitch.tv/akaros83</td>\n      <td>AKaros83 - Twitch</td>\n      <td>1.0</td>\n    </tr>\n  </tbody>\n</table>\n</div>"
     },
     "metadata": {},
     "execution_count": 280
    }
   ],
   "source": [
    "dic.columns = ['url', 'title', 'label']\n",
    "dic[:5]"
   ]
  },
  {
   "cell_type": "code",
   "execution_count": 281,
   "metadata": {},
   "outputs": [
    {
     "output_type": "execute_result",
     "data": {
      "text/plain": [
       "                                                 url                 title  \\\n",
       "0  https://zuminternet.github.io/Zum-Chrome-Exten...     크롬 확장프로그램 개발⛏️ 회고   \n",
       "1                      https://www.twitch.tv/frog135          게구리 - Twitch   \n",
       "2  https://docs.google.com/document/d/100AEt7rqVb...  시종설제안서 - Google Docs   \n",
       "3  https://docs.google.com/document/u/1/d/100AEt7...  시종설제안서 - Google Docs   \n",
       "4                     https://www.twitch.tv/akaros83     AKaros83 - Twitch   \n",
       "\n",
       "   label                 domain  \n",
       "0    NaN  zuminternet.github.io  \n",
       "1    1.0          www.twitch.tv  \n",
       "2    5.0        docs.google.com  \n",
       "3    5.0        docs.google.com  \n",
       "4    1.0          www.twitch.tv  "
      ],
      "text/html": "<div>\n<style scoped>\n    .dataframe tbody tr th:only-of-type {\n        vertical-align: middle;\n    }\n\n    .dataframe tbody tr th {\n        vertical-align: top;\n    }\n\n    .dataframe thead th {\n        text-align: right;\n    }\n</style>\n<table border=\"1\" class=\"dataframe\">\n  <thead>\n    <tr style=\"text-align: right;\">\n      <th></th>\n      <th>url</th>\n      <th>title</th>\n      <th>label</th>\n      <th>domain</th>\n    </tr>\n  </thead>\n  <tbody>\n    <tr>\n      <th>0</th>\n      <td>https://zuminternet.github.io/Zum-Chrome-Exten...</td>\n      <td>크롬 확장프로그램 개발⛏️ 회고</td>\n      <td>NaN</td>\n      <td>zuminternet.github.io</td>\n    </tr>\n    <tr>\n      <th>1</th>\n      <td>https://www.twitch.tv/frog135</td>\n      <td>게구리 - Twitch</td>\n      <td>1.0</td>\n      <td>www.twitch.tv</td>\n    </tr>\n    <tr>\n      <th>2</th>\n      <td>https://docs.google.com/document/d/100AEt7rqVb...</td>\n      <td>시종설제안서 - Google Docs</td>\n      <td>5.0</td>\n      <td>docs.google.com</td>\n    </tr>\n    <tr>\n      <th>3</th>\n      <td>https://docs.google.com/document/u/1/d/100AEt7...</td>\n      <td>시종설제안서 - Google Docs</td>\n      <td>5.0</td>\n      <td>docs.google.com</td>\n    </tr>\n    <tr>\n      <th>4</th>\n      <td>https://www.twitch.tv/akaros83</td>\n      <td>AKaros83 - Twitch</td>\n      <td>1.0</td>\n      <td>www.twitch.tv</td>\n    </tr>\n  </tbody>\n</table>\n</div>"
     },
     "metadata": {},
     "execution_count": 281
    }
   ],
   "source": [
    "dic['domain'] = dic['url'].str.split('/').str[2]\n",
    "dic[:5]"
   ]
  },
  {
   "source": [
    "# 데이터 정리\n",
    "labeling"
   ],
   "cell_type": "markdown",
   "metadata": {}
  },
  {
   "source": [
    "import glob\n",
    "\n",
    "input_file = r'.\\data' # csv파일들이 있는 디렉토리 위치\n",
    "output_file = r'.\\data\\history_data.csv' # 병합하고 저장하려는 파일명\n",
    "\n",
    "allFile_list = glob.glob(os.path.join(input_file, '*history*.csv')) # glob함수로 sales_로 시작하는 파일들을 모은다\n",
    "print(allFile_list)\n",
    "allData = [] # 읽어 들인 csv파일 내용을 저장할 빈 리스트를 하나 만든다\n",
    "for file in allFile_list:\n",
    "    df = pd.read_csv(file) # for구문으로 csv파일들을 읽어 들인다\n",
    "    allData.append(df) # 빈 리스트에 읽어 들인 내용을 추가한다\n",
    "    \n",
    "\n",
    "dataCombine = pd.concat(allData, axis=0, ignore_index=True) # concat함수를 이용해서 리스트의 내용을 병합\n",
    "# axis=0은 수직으로 병합함. axis=1은 수평. ignore_index=True는 인데스 값이 기존 순서를 무시하고 순서대로 정렬되도록 한다.\n",
    "dataCombine.to_csv(output_file, index=False) # to_csv함수로 저장한다. 인데스를 빼려면 False로 설정"
   ],
   "cell_type": "markdown",
   "metadata": {}
  },
  {
   "source": [
    "# dic = pd.read_csv(file, encoding = 'UTF-8-sig')\n",
    "# dic.columns = ['url', 'title', 'timestamp']\n",
    "# dic['label'] = -1\n",
    "\n",
    "def labeling(file):#기사 내용 중 단어 선별하기\n",
    "    pd.read csv\n",
    "    etc = ['']    # 기타: 0\n",
    "    ent = ['youtube', 'webtoon']    # 엔터테인먼트: 1\n",
    "    prod = ['bank']   # 생산성 및 금융: 2\n",
    "    sns = ['blog', 'news', 'facebook', 'instagram', 'twitter', 'tistory'] # 소셜: 3\n",
    "    shop = ['shopping', 'store']    # 쇼핑 및 음식: 4\n",
    "    doc = ['document', 'docs', 'pdf']  # 정보 및 문서: 5\n",
    "    edu = ['exam', 'career']  #  자기계발: 6\n",
    "    labels = [etc, ent, prod, sns, shop, doc, edu, car]\n",
    "\n",
    "    for key in label for label in labels:\n",
    "        pat = '*'+key+'*'\n",
    "        if pat.search(str(x)):\n",
    "            f['label'] = 1\n",
    "        elif str(x).search(str(x)):\n",
    "            f['label'] = 2\n",
    "    for word in sns:\n",
    "        if str(x).search(str(x)):\n",
    "            f['label'] = 3\n",
    "    for word in shop:\n",
    "        if str(x).search(word):\n",
    "            f['label'] = 4\n",
    "    for word in doc:\n",
    "        if f['url'].str.contains(word):\n",
    "            f['label'] = 5\n",
    "    for word in edu:\n",
    "        if f['url'].str.contains(word):\n",
    "            f['label'] = 6\n",
    "    for word in car:\n",
    "        if f['url'].str.contains(word):\n",
    "            f['label'] = 7\n",
    "    for word in etc:\n",
    "        if f['url'].str.contains(word):\n",
    "            f['label'] = 0\n",
    "labeling('./data/history.csv')"
   ],
   "cell_type": "markdown",
   "metadata": {}
  },
  {
   "cell_type": "code",
   "execution_count": 282,
   "metadata": {},
   "outputs": [
    {
     "output_type": "stream",
     "name": "stdout",
     "text": [
      "<class 'pandas.core.frame.DataFrame'>\nRangeIndex: 4333 entries, 0 to 4332\nData columns (total 3 columns):\n #   Column  Non-Null Count  Dtype  \n---  ------  --------------  -----  \n 0   url     1595 non-null   object \n 1   title   1470 non-null   object \n 2   label   1278 non-null   float64\ndtypes: float64(1), object(2)\nmemory usage: 101.7+ KB\n"
     ]
    }
   ],
   "source": [
    "data = dic[['url','title','label']]\n",
    "data[:5]\n",
    "data.info()"
   ]
  },
  {
   "cell_type": "code",
   "execution_count": 283,
   "metadata": {
    "scrolled": true
   },
   "outputs": [
    {
     "output_type": "stream",
     "name": "stdout",
     "text": [
      "4333\n1595\n<class 'pandas.core.frame.DataFrame'>\nInt64Index: 1595 entries, 0 to 1594\nData columns (total 3 columns):\n #   Column  Non-Null Count  Dtype  \n---  ------  --------------  -----  \n 0   url     1595 non-null   object \n 1   title   1470 non-null   object \n 2   label   1278 non-null   float64\ndtypes: float64(1), object(2)\nmemory usage: 49.8+ KB\n"
     ]
    }
   ],
   "source": [
    "print(len(data)) # 댓글 개수 출력\n",
    "data = data.dropna(subset=['url'])\n",
    "data = data.drop_duplicates(subset=['url'])\n",
    "print(len(data)) # 댓글 개수 출력\n",
    "data.info()"
   ]
  },
  {
   "cell_type": "code",
   "execution_count": 284,
   "metadata": {},
   "outputs": [
    {
     "output_type": "execute_result",
     "data": {
      "text/plain": [
       "<AxesSubplot:>"
      ]
     },
     "metadata": {},
     "execution_count": 284
    },
    {
     "output_type": "display_data",
     "data": {
      "text/plain": "<Figure size 432x288 with 1 Axes>",
      "image/svg+xml": "<?xml version=\"1.0\" encoding=\"utf-8\" standalone=\"no\"?>\r\n<!DOCTYPE svg PUBLIC \"-//W3C//DTD SVG 1.1//EN\"\r\n  \"http://www.w3.org/Graphics/SVG/1.1/DTD/svg11.dtd\">\r\n<!-- Created with matplotlib (https://matplotlib.org/) -->\r\n<svg height=\"254.743125pt\" version=\"1.1\" viewBox=\"0 0 375.2875 254.743125\" width=\"375.2875pt\" xmlns=\"http://www.w3.org/2000/svg\" xmlns:xlink=\"http://www.w3.org/1999/xlink\">\r\n <metadata>\r\n  <rdf:RDF xmlns:cc=\"http://creativecommons.org/ns#\" xmlns:dc=\"http://purl.org/dc/elements/1.1/\" xmlns:rdf=\"http://www.w3.org/1999/02/22-rdf-syntax-ns#\">\r\n   <cc:Work>\r\n    <dc:type rdf:resource=\"http://purl.org/dc/dcmitype/StillImage\"/>\r\n    <dc:date>2021-04-20T13:10:53.581421</dc:date>\r\n    <dc:format>image/svg+xml</dc:format>\r\n    <dc:creator>\r\n     <cc:Agent>\r\n      <dc:title>Matplotlib v3.3.4, https://matplotlib.org/</dc:title>\r\n     </cc:Agent>\r\n    </dc:creator>\r\n   </cc:Work>\r\n  </rdf:RDF>\r\n </metadata>\r\n <defs>\r\n  <style type=\"text/css\">*{stroke-linecap:butt;stroke-linejoin:round;}</style>\r\n </defs>\r\n <g id=\"figure_1\">\r\n  <g id=\"patch_1\">\r\n   <path d=\"M 0 254.743125 \r\nL 375.2875 254.743125 \r\nL 375.2875 0 \r\nL 0 0 \r\nz\r\n\" style=\"fill:none;\"/>\r\n  </g>\r\n  <g id=\"axes_1\">\r\n   <g id=\"patch_2\">\r\n    <path d=\"M 33.2875 224.64 \r\nL 368.0875 224.64 \r\nL 368.0875 7.2 \r\nL 33.2875 7.2 \r\nz\r\n\" style=\"fill:#ffffff;\"/>\r\n   </g>\r\n   <g id=\"patch_3\">\r\n    <path clip-path=\"url(#p49fa843777)\" d=\"M 45.244643 224.64 \r\nL 69.158929 224.64 \r\nL 69.158929 17.554286 \r\nL 45.244643 17.554286 \r\nz\r\n\" style=\"fill:#1f77b4;\"/>\r\n   </g>\r\n   <g id=\"patch_4\">\r\n    <path clip-path=\"url(#p49fa843777)\" d=\"M 93.073214 224.64 \r\nL 116.9875 224.64 \r\nL 116.9875 107.93785 \r\nL 93.073214 107.93785 \r\nz\r\n\" style=\"fill:#1f77b4;\"/>\r\n   </g>\r\n   <g id=\"patch_5\">\r\n    <path clip-path=\"url(#p49fa843777)\" d=\"M 140.901786 224.64 \r\nL 164.816071 224.64 \r\nL 164.816071 156.419455 \r\nL 140.901786 156.419455 \r\nz\r\n\" style=\"fill:#1f77b4;\"/>\r\n   </g>\r\n   <g id=\"patch_6\">\r\n    <path clip-path=\"url(#p49fa843777)\" d=\"M 188.730357 224.64 \r\nL 212.644643 224.64 \r\nL 212.644643 210.095518 \r\nL 188.730357 210.095518 \r\nz\r\n\" style=\"fill:#1f77b4;\"/>\r\n   </g>\r\n   <g id=\"patch_7\">\r\n    <path clip-path=\"url(#p49fa843777)\" d=\"M 236.558929 224.64 \r\nL 260.473214 224.64 \r\nL 260.473214 211.13441 \r\nL 236.558929 211.13441 \r\nz\r\n\" style=\"fill:#1f77b4;\"/>\r\n   </g>\r\n   <g id=\"patch_8\">\r\n    <path clip-path=\"url(#p49fa843777)\" d=\"M 284.3875 224.64 \r\nL 308.301786 224.64 \r\nL 308.301786 212.519599 \r\nL 284.3875 212.519599 \r\nz\r\n\" style=\"fill:#1f77b4;\"/>\r\n   </g>\r\n   <g id=\"patch_9\">\r\n    <path clip-path=\"url(#p49fa843777)\" d=\"M 332.216071 224.64 \r\nL 356.130357 224.64 \r\nL 356.130357 214.251085 \r\nL 332.216071 214.251085 \r\nz\r\n\" style=\"fill:#1f77b4;\"/>\r\n   </g>\r\n   <g id=\"matplotlib.axis_1\">\r\n    <g id=\"xtick_1\">\r\n     <g id=\"line2d_1\">\r\n      <defs>\r\n       <path d=\"M 0 0 \r\nL 0 3.5 \r\n\" id=\"m94c87f4678\" style=\"stroke:#000000;stroke-width:0.8;\"/>\r\n      </defs>\r\n      <g>\r\n       <use style=\"stroke:#000000;stroke-width:0.8;\" x=\"57.201786\" xlink:href=\"#m94c87f4678\" y=\"224.64\"/>\r\n      </g>\r\n     </g>\r\n     <g id=\"text_1\">\r\n      <!-- 3.0 -->\r\n      <g transform=\"translate(59.961161 247.543125)rotate(-90)scale(0.1 -0.1)\">\r\n       <defs>\r\n        <path d=\"M 40.578125 39.3125 \r\nQ 47.65625 37.796875 51.625 33 \r\nQ 55.609375 28.21875 55.609375 21.1875 \r\nQ 55.609375 10.40625 48.1875 4.484375 \r\nQ 40.765625 -1.421875 27.09375 -1.421875 \r\nQ 22.515625 -1.421875 17.65625 -0.515625 \r\nQ 12.796875 0.390625 7.625 2.203125 \r\nL 7.625 11.71875 \r\nQ 11.71875 9.328125 16.59375 8.109375 \r\nQ 21.484375 6.890625 26.8125 6.890625 \r\nQ 36.078125 6.890625 40.9375 10.546875 \r\nQ 45.796875 14.203125 45.796875 21.1875 \r\nQ 45.796875 27.640625 41.28125 31.265625 \r\nQ 36.765625 34.90625 28.71875 34.90625 \r\nL 20.21875 34.90625 \r\nL 20.21875 43.015625 \r\nL 29.109375 43.015625 \r\nQ 36.375 43.015625 40.234375 45.921875 \r\nQ 44.09375 48.828125 44.09375 54.296875 \r\nQ 44.09375 59.90625 40.109375 62.90625 \r\nQ 36.140625 65.921875 28.71875 65.921875 \r\nQ 24.65625 65.921875 20.015625 65.03125 \r\nQ 15.375 64.15625 9.8125 62.3125 \r\nL 9.8125 71.09375 \r\nQ 15.4375 72.65625 20.34375 73.4375 \r\nQ 25.25 74.21875 29.59375 74.21875 \r\nQ 40.828125 74.21875 47.359375 69.109375 \r\nQ 53.90625 64.015625 53.90625 55.328125 \r\nQ 53.90625 49.265625 50.4375 45.09375 \r\nQ 46.96875 40.921875 40.578125 39.3125 \r\nz\r\n\" id=\"DejaVuSans-51\"/>\r\n        <path d=\"M 10.6875 12.40625 \r\nL 21 12.40625 \r\nL 21 0 \r\nL 10.6875 0 \r\nz\r\n\" id=\"DejaVuSans-46\"/>\r\n        <path d=\"M 31.78125 66.40625 \r\nQ 24.171875 66.40625 20.328125 58.90625 \r\nQ 16.5 51.421875 16.5 36.375 \r\nQ 16.5 21.390625 20.328125 13.890625 \r\nQ 24.171875 6.390625 31.78125 6.390625 \r\nQ 39.453125 6.390625 43.28125 13.890625 \r\nQ 47.125 21.390625 47.125 36.375 \r\nQ 47.125 51.421875 43.28125 58.90625 \r\nQ 39.453125 66.40625 31.78125 66.40625 \r\nz\r\nM 31.78125 74.21875 \r\nQ 44.046875 74.21875 50.515625 64.515625 \r\nQ 56.984375 54.828125 56.984375 36.375 \r\nQ 56.984375 17.96875 50.515625 8.265625 \r\nQ 44.046875 -1.421875 31.78125 -1.421875 \r\nQ 19.53125 -1.421875 13.0625 8.265625 \r\nQ 6.59375 17.96875 6.59375 36.375 \r\nQ 6.59375 54.828125 13.0625 64.515625 \r\nQ 19.53125 74.21875 31.78125 74.21875 \r\nz\r\n\" id=\"DejaVuSans-48\"/>\r\n       </defs>\r\n       <use xlink:href=\"#DejaVuSans-51\"/>\r\n       <use x=\"63.623047\" xlink:href=\"#DejaVuSans-46\"/>\r\n       <use x=\"95.410156\" xlink:href=\"#DejaVuSans-48\"/>\r\n      </g>\r\n     </g>\r\n    </g>\r\n    <g id=\"xtick_2\">\r\n     <g id=\"line2d_2\">\r\n      <g>\r\n       <use style=\"stroke:#000000;stroke-width:0.8;\" x=\"105.030357\" xlink:href=\"#m94c87f4678\" y=\"224.64\"/>\r\n      </g>\r\n     </g>\r\n     <g id=\"text_2\">\r\n      <!-- 6.0 -->\r\n      <g transform=\"translate(107.789732 247.543125)rotate(-90)scale(0.1 -0.1)\">\r\n       <defs>\r\n        <path d=\"M 33.015625 40.375 \r\nQ 26.375 40.375 22.484375 35.828125 \r\nQ 18.609375 31.296875 18.609375 23.390625 \r\nQ 18.609375 15.53125 22.484375 10.953125 \r\nQ 26.375 6.390625 33.015625 6.390625 \r\nQ 39.65625 6.390625 43.53125 10.953125 \r\nQ 47.40625 15.53125 47.40625 23.390625 \r\nQ 47.40625 31.296875 43.53125 35.828125 \r\nQ 39.65625 40.375 33.015625 40.375 \r\nz\r\nM 52.59375 71.296875 \r\nL 52.59375 62.3125 \r\nQ 48.875 64.0625 45.09375 64.984375 \r\nQ 41.3125 65.921875 37.59375 65.921875 \r\nQ 27.828125 65.921875 22.671875 59.328125 \r\nQ 17.53125 52.734375 16.796875 39.40625 \r\nQ 19.671875 43.65625 24.015625 45.921875 \r\nQ 28.375 48.1875 33.59375 48.1875 \r\nQ 44.578125 48.1875 50.953125 41.515625 \r\nQ 57.328125 34.859375 57.328125 23.390625 \r\nQ 57.328125 12.15625 50.6875 5.359375 \r\nQ 44.046875 -1.421875 33.015625 -1.421875 \r\nQ 20.359375 -1.421875 13.671875 8.265625 \r\nQ 6.984375 17.96875 6.984375 36.375 \r\nQ 6.984375 53.65625 15.1875 63.9375 \r\nQ 23.390625 74.21875 37.203125 74.21875 \r\nQ 40.921875 74.21875 44.703125 73.484375 \r\nQ 48.484375 72.75 52.59375 71.296875 \r\nz\r\n\" id=\"DejaVuSans-54\"/>\r\n       </defs>\r\n       <use xlink:href=\"#DejaVuSans-54\"/>\r\n       <use x=\"63.623047\" xlink:href=\"#DejaVuSans-46\"/>\r\n       <use x=\"95.410156\" xlink:href=\"#DejaVuSans-48\"/>\r\n      </g>\r\n     </g>\r\n    </g>\r\n    <g id=\"xtick_3\">\r\n     <g id=\"line2d_3\">\r\n      <g>\r\n       <use style=\"stroke:#000000;stroke-width:0.8;\" x=\"152.858929\" xlink:href=\"#m94c87f4678\" y=\"224.64\"/>\r\n      </g>\r\n     </g>\r\n     <g id=\"text_3\">\r\n      <!-- 1.0 -->\r\n      <g transform=\"translate(155.618304 247.543125)rotate(-90)scale(0.1 -0.1)\">\r\n       <defs>\r\n        <path d=\"M 12.40625 8.296875 \r\nL 28.515625 8.296875 \r\nL 28.515625 63.921875 \r\nL 10.984375 60.40625 \r\nL 10.984375 69.390625 \r\nL 28.421875 72.90625 \r\nL 38.28125 72.90625 \r\nL 38.28125 8.296875 \r\nL 54.390625 8.296875 \r\nL 54.390625 0 \r\nL 12.40625 0 \r\nz\r\n\" id=\"DejaVuSans-49\"/>\r\n       </defs>\r\n       <use xlink:href=\"#DejaVuSans-49\"/>\r\n       <use x=\"63.623047\" xlink:href=\"#DejaVuSans-46\"/>\r\n       <use x=\"95.410156\" xlink:href=\"#DejaVuSans-48\"/>\r\n      </g>\r\n     </g>\r\n    </g>\r\n    <g id=\"xtick_4\">\r\n     <g id=\"line2d_4\">\r\n      <g>\r\n       <use style=\"stroke:#000000;stroke-width:0.8;\" x=\"200.6875\" xlink:href=\"#m94c87f4678\" y=\"224.64\"/>\r\n      </g>\r\n     </g>\r\n     <g id=\"text_4\">\r\n      <!-- 5.0 -->\r\n      <g transform=\"translate(203.446875 247.543125)rotate(-90)scale(0.1 -0.1)\">\r\n       <defs>\r\n        <path d=\"M 10.796875 72.90625 \r\nL 49.515625 72.90625 \r\nL 49.515625 64.59375 \r\nL 19.828125 64.59375 \r\nL 19.828125 46.734375 \r\nQ 21.96875 47.46875 24.109375 47.828125 \r\nQ 26.265625 48.1875 28.421875 48.1875 \r\nQ 40.625 48.1875 47.75 41.5 \r\nQ 54.890625 34.8125 54.890625 23.390625 \r\nQ 54.890625 11.625 47.5625 5.09375 \r\nQ 40.234375 -1.421875 26.90625 -1.421875 \r\nQ 22.3125 -1.421875 17.546875 -0.640625 \r\nQ 12.796875 0.140625 7.71875 1.703125 \r\nL 7.71875 11.625 \r\nQ 12.109375 9.234375 16.796875 8.0625 \r\nQ 21.484375 6.890625 26.703125 6.890625 \r\nQ 35.15625 6.890625 40.078125 11.328125 \r\nQ 45.015625 15.765625 45.015625 23.390625 \r\nQ 45.015625 31 40.078125 35.4375 \r\nQ 35.15625 39.890625 26.703125 39.890625 \r\nQ 22.75 39.890625 18.8125 39.015625 \r\nQ 14.890625 38.140625 10.796875 36.28125 \r\nz\r\n\" id=\"DejaVuSans-53\"/>\r\n       </defs>\r\n       <use xlink:href=\"#DejaVuSans-53\"/>\r\n       <use x=\"63.623047\" xlink:href=\"#DejaVuSans-46\"/>\r\n       <use x=\"95.410156\" xlink:href=\"#DejaVuSans-48\"/>\r\n      </g>\r\n     </g>\r\n    </g>\r\n    <g id=\"xtick_5\">\r\n     <g id=\"line2d_5\">\r\n      <g>\r\n       <use style=\"stroke:#000000;stroke-width:0.8;\" x=\"248.516071\" xlink:href=\"#m94c87f4678\" y=\"224.64\"/>\r\n      </g>\r\n     </g>\r\n     <g id=\"text_5\">\r\n      <!-- 2.0 -->\r\n      <g transform=\"translate(251.275446 247.543125)rotate(-90)scale(0.1 -0.1)\">\r\n       <defs>\r\n        <path d=\"M 19.1875 8.296875 \r\nL 53.609375 8.296875 \r\nL 53.609375 0 \r\nL 7.328125 0 \r\nL 7.328125 8.296875 \r\nQ 12.9375 14.109375 22.625 23.890625 \r\nQ 32.328125 33.6875 34.8125 36.53125 \r\nQ 39.546875 41.84375 41.421875 45.53125 \r\nQ 43.3125 49.21875 43.3125 52.78125 \r\nQ 43.3125 58.59375 39.234375 62.25 \r\nQ 35.15625 65.921875 28.609375 65.921875 \r\nQ 23.96875 65.921875 18.8125 64.3125 \r\nQ 13.671875 62.703125 7.8125 59.421875 \r\nL 7.8125 69.390625 \r\nQ 13.765625 71.78125 18.9375 73 \r\nQ 24.125 74.21875 28.421875 74.21875 \r\nQ 39.75 74.21875 46.484375 68.546875 \r\nQ 53.21875 62.890625 53.21875 53.421875 \r\nQ 53.21875 48.921875 51.53125 44.890625 \r\nQ 49.859375 40.875 45.40625 35.40625 \r\nQ 44.1875 33.984375 37.640625 27.21875 \r\nQ 31.109375 20.453125 19.1875 8.296875 \r\nz\r\n\" id=\"DejaVuSans-50\"/>\r\n       </defs>\r\n       <use xlink:href=\"#DejaVuSans-50\"/>\r\n       <use x=\"63.623047\" xlink:href=\"#DejaVuSans-46\"/>\r\n       <use x=\"95.410156\" xlink:href=\"#DejaVuSans-48\"/>\r\n      </g>\r\n     </g>\r\n    </g>\r\n    <g id=\"xtick_6\">\r\n     <g id=\"line2d_6\">\r\n      <g>\r\n       <use style=\"stroke:#000000;stroke-width:0.8;\" x=\"296.344643\" xlink:href=\"#m94c87f4678\" y=\"224.64\"/>\r\n      </g>\r\n     </g>\r\n     <g id=\"text_6\">\r\n      <!-- 0.0 -->\r\n      <g transform=\"translate(299.104018 247.543125)rotate(-90)scale(0.1 -0.1)\">\r\n       <use xlink:href=\"#DejaVuSans-48\"/>\r\n       <use x=\"63.623047\" xlink:href=\"#DejaVuSans-46\"/>\r\n       <use x=\"95.410156\" xlink:href=\"#DejaVuSans-48\"/>\r\n      </g>\r\n     </g>\r\n    </g>\r\n    <g id=\"xtick_7\">\r\n     <g id=\"line2d_7\">\r\n      <g>\r\n       <use style=\"stroke:#000000;stroke-width:0.8;\" x=\"344.173214\" xlink:href=\"#m94c87f4678\" y=\"224.64\"/>\r\n      </g>\r\n     </g>\r\n     <g id=\"text_7\">\r\n      <!-- 4.0 -->\r\n      <g transform=\"translate(346.932589 247.543125)rotate(-90)scale(0.1 -0.1)\">\r\n       <defs>\r\n        <path d=\"M 37.796875 64.3125 \r\nL 12.890625 25.390625 \r\nL 37.796875 25.390625 \r\nz\r\nM 35.203125 72.90625 \r\nL 47.609375 72.90625 \r\nL 47.609375 25.390625 \r\nL 58.015625 25.390625 \r\nL 58.015625 17.1875 \r\nL 47.609375 17.1875 \r\nL 47.609375 0 \r\nL 37.796875 0 \r\nL 37.796875 17.1875 \r\nL 4.890625 17.1875 \r\nL 4.890625 26.703125 \r\nz\r\n\" id=\"DejaVuSans-52\"/>\r\n       </defs>\r\n       <use xlink:href=\"#DejaVuSans-52\"/>\r\n       <use x=\"63.623047\" xlink:href=\"#DejaVuSans-46\"/>\r\n       <use x=\"95.410156\" xlink:href=\"#DejaVuSans-48\"/>\r\n      </g>\r\n     </g>\r\n    </g>\r\n   </g>\r\n   <g id=\"matplotlib.axis_2\">\r\n    <g id=\"ytick_1\">\r\n     <g id=\"line2d_8\">\r\n      <defs>\r\n       <path d=\"M 0 0 \r\nL -3.5 0 \r\n\" id=\"meea58796af\" style=\"stroke:#000000;stroke-width:0.8;\"/>\r\n      </defs>\r\n      <g>\r\n       <use style=\"stroke:#000000;stroke-width:0.8;\" x=\"33.2875\" xlink:href=\"#meea58796af\" y=\"224.64\"/>\r\n      </g>\r\n     </g>\r\n     <g id=\"text_8\">\r\n      <!-- 0 -->\r\n      <g transform=\"translate(19.925 228.439219)scale(0.1 -0.1)\">\r\n       <use xlink:href=\"#DejaVuSans-48\"/>\r\n      </g>\r\n     </g>\r\n    </g>\r\n    <g id=\"ytick_2\">\r\n     <g id=\"line2d_9\">\r\n      <g>\r\n       <use style=\"stroke:#000000;stroke-width:0.8;\" x=\"33.2875\" xlink:href=\"#meea58796af\" y=\"190.010282\"/>\r\n      </g>\r\n     </g>\r\n     <g id=\"text_9\">\r\n      <!-- 100 -->\r\n      <g transform=\"translate(7.2 193.809501)scale(0.1 -0.1)\">\r\n       <use xlink:href=\"#DejaVuSans-49\"/>\r\n       <use x=\"63.623047\" xlink:href=\"#DejaVuSans-48\"/>\r\n       <use x=\"127.246094\" xlink:href=\"#DejaVuSans-48\"/>\r\n      </g>\r\n     </g>\r\n    </g>\r\n    <g id=\"ytick_3\">\r\n     <g id=\"line2d_10\">\r\n      <g>\r\n       <use style=\"stroke:#000000;stroke-width:0.8;\" x=\"33.2875\" xlink:href=\"#meea58796af\" y=\"155.380564\"/>\r\n      </g>\r\n     </g>\r\n     <g id=\"text_10\">\r\n      <!-- 200 -->\r\n      <g transform=\"translate(7.2 159.179783)scale(0.1 -0.1)\">\r\n       <use xlink:href=\"#DejaVuSans-50\"/>\r\n       <use x=\"63.623047\" xlink:href=\"#DejaVuSans-48\"/>\r\n       <use x=\"127.246094\" xlink:href=\"#DejaVuSans-48\"/>\r\n      </g>\r\n     </g>\r\n    </g>\r\n    <g id=\"ytick_4\">\r\n     <g id=\"line2d_11\">\r\n      <g>\r\n       <use style=\"stroke:#000000;stroke-width:0.8;\" x=\"33.2875\" xlink:href=\"#meea58796af\" y=\"120.750846\"/>\r\n      </g>\r\n     </g>\r\n     <g id=\"text_11\">\r\n      <!-- 300 -->\r\n      <g transform=\"translate(7.2 124.550064)scale(0.1 -0.1)\">\r\n       <use xlink:href=\"#DejaVuSans-51\"/>\r\n       <use x=\"63.623047\" xlink:href=\"#DejaVuSans-48\"/>\r\n       <use x=\"127.246094\" xlink:href=\"#DejaVuSans-48\"/>\r\n      </g>\r\n     </g>\r\n    </g>\r\n    <g id=\"ytick_5\">\r\n     <g id=\"line2d_12\">\r\n      <g>\r\n       <use style=\"stroke:#000000;stroke-width:0.8;\" x=\"33.2875\" xlink:href=\"#meea58796af\" y=\"86.121128\"/>\r\n      </g>\r\n     </g>\r\n     <g id=\"text_12\">\r\n      <!-- 400 -->\r\n      <g transform=\"translate(7.2 89.920346)scale(0.1 -0.1)\">\r\n       <use xlink:href=\"#DejaVuSans-52\"/>\r\n       <use x=\"63.623047\" xlink:href=\"#DejaVuSans-48\"/>\r\n       <use x=\"127.246094\" xlink:href=\"#DejaVuSans-48\"/>\r\n      </g>\r\n     </g>\r\n    </g>\r\n    <g id=\"ytick_6\">\r\n     <g id=\"line2d_13\">\r\n      <g>\r\n       <use style=\"stroke:#000000;stroke-width:0.8;\" x=\"33.2875\" xlink:href=\"#meea58796af\" y=\"51.491409\"/>\r\n      </g>\r\n     </g>\r\n     <g id=\"text_13\">\r\n      <!-- 500 -->\r\n      <g transform=\"translate(7.2 55.290628)scale(0.1 -0.1)\">\r\n       <use xlink:href=\"#DejaVuSans-53\"/>\r\n       <use x=\"63.623047\" xlink:href=\"#DejaVuSans-48\"/>\r\n       <use x=\"127.246094\" xlink:href=\"#DejaVuSans-48\"/>\r\n      </g>\r\n     </g>\r\n    </g>\r\n    <g id=\"ytick_7\">\r\n     <g id=\"line2d_14\">\r\n      <g>\r\n       <use style=\"stroke:#000000;stroke-width:0.8;\" x=\"33.2875\" xlink:href=\"#meea58796af\" y=\"16.861691\"/>\r\n      </g>\r\n     </g>\r\n     <g id=\"text_14\">\r\n      <!-- 600 -->\r\n      <g transform=\"translate(7.2 20.66091)scale(0.1 -0.1)\">\r\n       <use xlink:href=\"#DejaVuSans-54\"/>\r\n       <use x=\"63.623047\" xlink:href=\"#DejaVuSans-48\"/>\r\n       <use x=\"127.246094\" xlink:href=\"#DejaVuSans-48\"/>\r\n      </g>\r\n     </g>\r\n    </g>\r\n   </g>\r\n   <g id=\"patch_10\">\r\n    <path d=\"M 33.2875 224.64 \r\nL 33.2875 7.2 \r\n\" style=\"fill:none;stroke:#000000;stroke-linecap:square;stroke-linejoin:miter;stroke-width:0.8;\"/>\r\n   </g>\r\n   <g id=\"patch_11\">\r\n    <path d=\"M 368.0875 224.64 \r\nL 368.0875 7.2 \r\n\" style=\"fill:none;stroke:#000000;stroke-linecap:square;stroke-linejoin:miter;stroke-width:0.8;\"/>\r\n   </g>\r\n   <g id=\"patch_12\">\r\n    <path d=\"M 33.2875 224.64 \r\nL 368.0875 224.64 \r\n\" style=\"fill:none;stroke:#000000;stroke-linecap:square;stroke-linejoin:miter;stroke-width:0.8;\"/>\r\n   </g>\r\n   <g id=\"patch_13\">\r\n    <path d=\"M 33.2875 7.2 \r\nL 368.0875 7.2 \r\n\" style=\"fill:none;stroke:#000000;stroke-linecap:square;stroke-linejoin:miter;stroke-width:0.8;\"/>\r\n   </g>\r\n  </g>\r\n </g>\r\n <defs>\r\n  <clipPath id=\"p49fa843777\">\r\n   <rect height=\"217.44\" width=\"334.8\" x=\"33.2875\" y=\"7.2\"/>\r\n  </clipPath>\r\n </defs>\r\n</svg>\r\n",
      "image/png": "[encoded data removed]"
     },
     "metadata": {
      "needs_background": "light"
     }
    }
   ],
   "source": [
    "data['label'].value_counts().plot(kind='bar') #data 분포 그래프를 통해서 확인하기"
   ]
  },
  {
   "cell_type": "code",
   "execution_count": 285,
   "metadata": {
    "scrolled": true
   },
   "outputs": [
    {
     "output_type": "stream",
     "name": "stdout",
     "text": [
      "url 개수: 1595\ntitle 개수: 1595\nlabel 개수: 1595\n"
     ]
    }
   ],
   "source": [
    "url_data = data['url']\n",
    "tit_data = data['title']\n",
    "y_data = data['label']\n",
    "print('url 개수: {}'.format(len(url_data)))\n",
    "print('title 개수: {}'.format(len(tit_data)))\n",
    "print('label 개수: {}'.format(len(y_data)))"
   ]
  },
  {
   "cell_type": "markdown",
   "metadata": {},
   "source": [
    "# 불용어 제거 및 토큰화"
   ]
  },
  {
   "cell_type": "code",
   "execution_count": 286,
   "metadata": {
    "scrolled": true
   },
   "outputs": [
    {
     "output_type": "stream",
     "name": "stdout",
     "text": [
      "nan\n",
      "'float' object has no attribute 'lower'\n",
      "kr title\n",
      "nan\n",
      "'float' object has no attribute 'lower'\n",
      "kr title\n",
      "nan\n",
      "'float' object has no attribute 'lower'\n",
      "kr title\n",
      "nan\n",
      "'float' object has no attribute 'lower'\n",
      "kr title\n",
      "nan\n",
      "'float' object has no attribute 'lower'\n",
      "kr title\n",
      "nan\n",
      "'float' object has no attribute 'lower'\n",
      "kr title\n",
      "nan\n",
      "'float' object has no attribute 'lower'\n",
      "kr title\n",
      "nan\n",
      "'float' object has no attribute 'lower'\n",
      "kr title\n",
      "nan\n",
      "'float' object has no attribute 'lower'\n",
      "kr title\n",
      "nan\n",
      "'float' object has no attribute 'lower'\n",
      "kr title\n",
      "nan\n",
      "'float' object has no attribute 'lower'\n",
      "kr title\n",
      "nan\n",
      "'float' object has no attribute 'lower'\n",
      "kr title\n",
      "nan\n",
      "'float' object has no attribute 'lower'\n",
      "kr title\n",
      "nan\n",
      "'float' object has no attribute 'lower'\n",
      "kr title\n",
      "nan\n",
      "'float' object has no attribute 'lower'\n",
      "kr title\n",
      "nan\n",
      "'float' object has no attribute 'lower'\n",
      "kr title\n",
      "nan\n",
      "'float' object has no attribute 'lower'\n",
      "kr title\n",
      "nan\n",
      "'float' object has no attribute 'lower'\n",
      "kr title\n",
      "nan\n",
      "'float' object has no attribute 'lower'\n",
      "kr title\n",
      "nan\n",
      "'float' object has no attribute 'lower'\n",
      "kr title\n",
      "nan\n",
      "'float' object has no attribute 'lower'\n",
      "kr title\n",
      "nan\n",
      "'float' object has no attribute 'lower'\n",
      "kr title\n",
      "nan\n",
      "'float' object has no attribute 'lower'\n",
      "kr title\n",
      "nan\n",
      "'float' object has no attribute 'lower'\n",
      "kr title\n",
      "nan\n",
      "'float' object has no attribute 'lower'\n",
      "kr title\n",
      "nan\n",
      "'float' object has no attribute 'lower'\n",
      "kr title\n",
      "nan\n",
      "'float' object has no attribute 'lower'\n",
      "kr title\n",
      "nan\n",
      "'float' object has no attribute 'lower'\n",
      "kr title\n",
      "nan\n",
      "'float' object has no attribute 'lower'\n",
      "kr title\n",
      "nan\n",
      "'float' object has no attribute 'lower'\n",
      "kr title\n",
      "nan\n",
      "'float' object has no attribute 'lower'\n",
      "kr title\n",
      "nan\n",
      "'float' object has no attribute 'lower'\n",
      "kr title\n",
      "nan\n",
      "'float' object has no attribute 'lower'\n",
      "kr title\n",
      "nan\n",
      "'float' object has no attribute 'lower'\n",
      "kr title\n",
      "nan\n",
      "'float' object has no attribute 'lower'\n",
      "kr title\n",
      "nan\n",
      "'float' object has no attribute 'lower'\n",
      "kr title\n",
      "nan\n",
      "'float' object has no attribute 'lower'\n",
      "kr title\n",
      "nan\n",
      "'float' object has no attribute 'lower'\n",
      "kr title\n",
      "nan\n",
      "'float' object has no attribute 'lower'\n",
      "kr title\n",
      "nan\n",
      "'float' object has no attribute 'lower'\n",
      "kr title\n",
      "nan\n",
      "'float' object has no attribute 'lower'\n",
      "kr title\n",
      "nan\n",
      "'float' object has no attribute 'lower'\n",
      "kr title\n",
      "nan\n",
      "'float' object has no attribute 'lower'\n",
      "kr title\n",
      "nan\n",
      "'float' object has no attribute 'lower'\n",
      "kr title\n",
      "nan\n",
      "'float' object has no attribute 'lower'\n",
      "kr title\n",
      "nan\n",
      "'float' object has no attribute 'lower'\n",
      "kr title\n",
      "nan\n",
      "'float' object has no attribute 'lower'\n",
      "kr title\n",
      "nan\n",
      "'float' object has no attribute 'lower'\n",
      "kr title\n",
      "nan\n",
      "'float' object has no attribute 'lower'\n",
      "kr title\n",
      "nan\n",
      "'float' object has no attribute 'lower'\n",
      "kr title\n",
      "nan\n",
      "'float' object has no attribute 'lower'\n",
      "kr title\n",
      "nan\n",
      "'float' object has no attribute 'lower'\n",
      "kr title\n",
      "nan\n",
      "'float' object has no attribute 'lower'\n",
      "kr title\n",
      "nan\n",
      "'float' object has no attribute 'lower'\n",
      "kr title\n",
      "nan\n",
      "'float' object has no attribute 'lower'\n",
      "kr title\n",
      "nan\n",
      "'float' object has no attribute 'lower'\n",
      "kr title\n",
      "nan\n",
      "'float' object has no attribute 'lower'\n",
      "kr title\n",
      "nan\n",
      "'float' object has no attribute 'lower'\n",
      "kr title\n",
      "nan\n",
      "'float' object has no attribute 'lower'\n",
      "kr title\n",
      "nan\n",
      "'float' object has no attribute 'lower'\n",
      "kr title\n",
      "nan\n",
      "'float' object has no attribute 'lower'\n",
      "kr title\n",
      "nan\n",
      "'float' object has no attribute 'lower'\n",
      "kr title\n",
      "nan\n",
      "'float' object has no attribute 'lower'\n",
      "kr title\n",
      "nan\n",
      "'float' object has no attribute 'lower'\n",
      "kr title\n",
      "nan\n",
      "'float' object has no attribute 'lower'\n",
      "kr title\n",
      "nan\n",
      "'float' object has no attribute 'lower'\n",
      "kr title\n",
      "nan\n",
      "'float' object has no attribute 'lower'\n",
      "kr title\n",
      "nan\n",
      "'float' object has no attribute 'lower'\n",
      "kr title\n",
      "nan\n",
      "'float' object has no attribute 'lower'\n",
      "kr title\n",
      "nan\n",
      "'float' object has no attribute 'lower'\n",
      "kr title\n",
      "nan\n",
      "'float' object has no attribute 'lower'\n",
      "kr title\n",
      "nan\n",
      "'float' object has no attribute 'lower'\n",
      "kr title\n",
      "nan\n",
      "'float' object has no attribute 'lower'\n",
      "kr title\n",
      "nan\n",
      "'float' object has no attribute 'lower'\n",
      "kr title\n",
      "nan\n",
      "'float' object has no attribute 'lower'\n",
      "kr title\n",
      "nan\n",
      "'float' object has no attribute 'lower'\n",
      "kr title\n",
      "nan\n",
      "'float' object has no attribute 'lower'\n",
      "kr title\n",
      "nan\n",
      "'float' object has no attribute 'lower'\n",
      "kr title\n",
      "nan\n",
      "'float' object has no attribute 'lower'\n",
      "kr title\n",
      "nan\n",
      "'float' object has no attribute 'lower'\n",
      "kr title\n",
      "nan\n",
      "'float' object has no attribute 'lower'\n",
      "kr title\n",
      "nan\n",
      "'float' object has no attribute 'lower'\n",
      "kr title\n",
      "nan\n",
      "'float' object has no attribute 'lower'\n",
      "kr title\n",
      "nan\n",
      "'float' object has no attribute 'lower'\n",
      "kr title\n",
      "nan\n",
      "'float' object has no attribute 'lower'\n",
      "kr title\n",
      "nan\n",
      "'float' object has no attribute 'lower'\n",
      "kr title\n",
      "nan\n",
      "'float' object has no attribute 'lower'\n",
      "kr title\n",
      "nan\n",
      "'float' object has no attribute 'lower'\n",
      "kr title\n",
      "nan\n",
      "'float' object has no attribute 'lower'\n",
      "kr title\n",
      "nan\n",
      "'float' object has no attribute 'lower'\n",
      "kr title\n",
      "nan\n",
      "'float' object has no attribute 'lower'\n",
      "kr title\n",
      "nan\n",
      "'float' object has no attribute 'lower'\n",
      "kr title\n",
      "nan\n",
      "'float' object has no attribute 'lower'\n",
      "kr title\n",
      "nan\n",
      "'float' object has no attribute 'lower'\n",
      "kr title\n",
      "nan\n",
      "'float' object has no attribute 'lower'\n",
      "kr title\n",
      "nan\n",
      "'float' object has no attribute 'lower'\n",
      "kr title\n",
      "nan\n",
      "'float' object has no attribute 'lower'\n",
      "kr title\n",
      "nan\n",
      "'float' object has no attribute 'lower'\n",
      "kr title\n",
      "nan\n",
      "'float' object has no attribute 'lower'\n",
      "kr title\n",
      "nan\n",
      "'float' object has no attribute 'lower'\n",
      "kr title\n",
      "nan\n",
      "'float' object has no attribute 'lower'\n",
      "kr title\n",
      "nan\n",
      "'float' object has no attribute 'lower'\n",
      "kr title\n",
      "nan\n",
      "'float' object has no attribute 'lower'\n",
      "kr title\n",
      "nan\n",
      "'float' object has no attribute 'lower'\n",
      "kr title\n",
      "nan\n",
      "'float' object has no attribute 'lower'\n",
      "kr title\n",
      "nan\n",
      "'float' object has no attribute 'lower'\n",
      "kr title\n",
      "nan\n",
      "'float' object has no attribute 'lower'\n",
      "kr title\n",
      "nan\n",
      "'float' object has no attribute 'lower'\n",
      "kr title\n",
      "nan\n",
      "'float' object has no attribute 'lower'\n",
      "kr title\n",
      "nan\n",
      "'float' object has no attribute 'lower'\n",
      "kr title\n",
      "nan\n",
      "'float' object has no attribute 'lower'\n",
      "kr title\n",
      "nan\n",
      "'float' object has no attribute 'lower'\n",
      "kr title\n",
      "nan\n",
      "'float' object has no attribute 'lower'\n",
      "kr title\n",
      "nan\n",
      "'float' object has no attribute 'lower'\n",
      "kr title\n",
      "nan\n",
      "'float' object has no attribute 'lower'\n",
      "kr title\n",
      "nan\n",
      "'float' object has no attribute 'lower'\n",
      "kr title\n",
      "nan\n",
      "'float' object has no attribute 'lower'\n",
      "kr title\n",
      "nan\n",
      "'float' object has no attribute 'lower'\n",
      "kr title\n",
      "nan\n",
      "'float' object has no attribute 'lower'\n",
      "kr title\n",
      "nan\n",
      "'float' object has no attribute 'lower'\n",
      "kr title\n",
      "nan\n",
      "'float' object has no attribute 'lower'\n",
      "kr title\n",
      "nan\n",
      "'float' object has no attribute 'lower'\n",
      "kr title\n",
      "nan\n",
      "'float' object has no attribute 'lower'\n",
      "kr title\n",
      "nan\n",
      "'float' object has no attribute 'lower'\n",
      "kr title\n",
      "nan\n",
      "'float' object has no attribute 'lower'\n",
      "kr title\n",
      "nan\n",
      "'float' object has no attribute 'lower'\n",
      "eng title\n",
      "nan\n",
      "'float' object has no attribute 'lower'\n",
      "eng title\n",
      "nan\n",
      "'float' object has no attribute 'lower'\n",
      "eng title\n",
      "nan\n",
      "'float' object has no attribute 'lower'\n",
      "eng title\n",
      "nan\n",
      "'float' object has no attribute 'lower'\n",
      "eng title\n",
      "nan\n",
      "'float' object has no attribute 'lower'\n",
      "eng title\n",
      "nan\n",
      "'float' object has no attribute 'lower'\n",
      "eng title\n",
      "nan\n",
      "'float' object has no attribute 'lower'\n",
      "eng title\n",
      "nan\n",
      "'float' object has no attribute 'lower'\n",
      "eng title\n",
      "nan\n",
      "'float' object has no attribute 'lower'\n",
      "eng title\n",
      "nan\n",
      "'float' object has no attribute 'lower'\n",
      "eng title\n",
      "nan\n",
      "'float' object has no attribute 'lower'\n",
      "eng title\n",
      "nan\n",
      "'float' object has no attribute 'lower'\n",
      "eng title\n",
      "nan\n",
      "'float' object has no attribute 'lower'\n",
      "eng title\n",
      "nan\n",
      "'float' object has no attribute 'lower'\n",
      "eng title\n",
      "nan\n",
      "'float' object has no attribute 'lower'\n",
      "eng title\n",
      "nan\n",
      "'float' object has no attribute 'lower'\n",
      "eng title\n",
      "nan\n",
      "'float' object has no attribute 'lower'\n",
      "eng title\n",
      "nan\n",
      "'float' object has no attribute 'lower'\n",
      "eng title\n",
      "nan\n",
      "'float' object has no attribute 'lower'\n",
      "eng title\n",
      "nan\n",
      "'float' object has no attribute 'lower'\n",
      "eng title\n",
      "nan\n",
      "'float' object has no attribute 'lower'\n",
      "eng title\n",
      "nan\n",
      "'float' object has no attribute 'lower'\n",
      "eng title\n",
      "nan\n",
      "'float' object has no attribute 'lower'\n",
      "eng title\n",
      "nan\n",
      "'float' object has no attribute 'lower'\n",
      "eng title\n",
      "nan\n",
      "'float' object has no attribute 'lower'\n",
      "eng title\n",
      "nan\n",
      "'float' object has no attribute 'lower'\n",
      "eng title\n",
      "nan\n",
      "'float' object has no attribute 'lower'\n",
      "eng title\n",
      "nan\n",
      "'float' object has no attribute 'lower'\n",
      "eng title\n",
      "nan\n",
      "'float' object has no attribute 'lower'\n",
      "eng title\n",
      "nan\n",
      "'float' object has no attribute 'lower'\n",
      "eng title\n",
      "nan\n",
      "'float' object has no attribute 'lower'\n",
      "eng title\n",
      "nan\n",
      "'float' object has no attribute 'lower'\n",
      "eng title\n",
      "nan\n",
      "'float' object has no attribute 'lower'\n",
      "eng title\n",
      "nan\n",
      "'float' object has no attribute 'lower'\n",
      "eng title\n",
      "nan\n",
      "'float' object has no attribute 'lower'\n",
      "eng title\n",
      "nan\n",
      "'float' object has no attribute 'lower'\n",
      "eng title\n",
      "nan\n",
      "'float' object has no attribute 'lower'\n",
      "eng title\n",
      "nan\n",
      "'float' object has no attribute 'lower'\n",
      "eng title\n",
      "nan\n",
      "'float' object has no attribute 'lower'\n",
      "eng title\n",
      "nan\n",
      "'float' object has no attribute 'lower'\n",
      "eng title\n",
      "nan\n",
      "'float' object has no attribute 'lower'\n",
      "eng title\n",
      "nan\n",
      "'float' object has no attribute 'lower'\n",
      "eng title\n",
      "nan\n",
      "'float' object has no attribute 'lower'\n",
      "eng title\n",
      "nan\n",
      "'float' object has no attribute 'lower'\n",
      "eng title\n",
      "nan\n",
      "'float' object has no attribute 'lower'\n",
      "eng title\n",
      "nan\n",
      "'float' object has no attribute 'lower'\n",
      "eng title\n",
      "nan\n",
      "'float' object has no attribute 'lower'\n",
      "eng title\n",
      "nan\n",
      "'float' object has no attribute 'lower'\n",
      "eng title\n",
      "nan\n",
      "'float' object has no attribute 'lower'\n",
      "eng title\n",
      "nan\n",
      "'float' object has no attribute 'lower'\n",
      "eng title\n",
      "nan\n",
      "'float' object has no attribute 'lower'\n",
      "eng title\n",
      "nan\n",
      "'float' object has no attribute 'lower'\n",
      "eng title\n",
      "nan\n",
      "'float' object has no attribute 'lower'\n",
      "eng title\n",
      "nan\n",
      "'float' object has no attribute 'lower'\n",
      "eng title\n",
      "nan\n",
      "'float' object has no attribute 'lower'\n",
      "eng title\n",
      "nan\n",
      "'float' object has no attribute 'lower'\n",
      "eng title\n",
      "nan\n",
      "'float' object has no attribute 'lower'\n",
      "eng title\n",
      "nan\n",
      "'float' object has no attribute 'lower'\n",
      "eng title\n",
      "nan\n",
      "'float' object has no attribute 'lower'\n",
      "eng title\n",
      "nan\n",
      "'float' object has no attribute 'lower'\n",
      "eng title\n",
      "nan\n",
      "'float' object has no attribute 'lower'\n",
      "eng title\n",
      "nan\n",
      "'float' object has no attribute 'lower'\n",
      "eng title\n",
      "nan\n",
      "'float' object has no attribute 'lower'\n",
      "eng title\n",
      "nan\n",
      "'float' object has no attribute 'lower'\n",
      "eng title\n",
      "nan\n",
      "'float' object has no attribute 'lower'\n",
      "eng title\n",
      "nan\n",
      "'float' object has no attribute 'lower'\n",
      "eng title\n",
      "nan\n",
      "'float' object has no attribute 'lower'\n",
      "eng title\n",
      "nan\n",
      "'float' object has no attribute 'lower'\n",
      "eng title\n",
      "nan\n",
      "'float' object has no attribute 'lower'\n",
      "eng title\n",
      "nan\n",
      "'float' object has no attribute 'lower'\n",
      "eng title\n",
      "nan\n",
      "'float' object has no attribute 'lower'\n",
      "eng title\n",
      "nan\n",
      "'float' object has no attribute 'lower'\n",
      "eng title\n",
      "nan\n",
      "'float' object has no attribute 'lower'\n",
      "eng title\n",
      "nan\n",
      "'float' object has no attribute 'lower'\n",
      "eng title\n",
      "nan\n",
      "'float' object has no attribute 'lower'\n",
      "eng title\n",
      "nan\n",
      "'float' object has no attribute 'lower'\n",
      "eng title\n",
      "nan\n",
      "'float' object has no attribute 'lower'\n",
      "eng title\n",
      "nan\n",
      "'float' object has no attribute 'lower'\n",
      "eng title\n",
      "nan\n",
      "'float' object has no attribute 'lower'\n",
      "eng title\n",
      "nan\n",
      "'float' object has no attribute 'lower'\n",
      "eng title\n",
      "nan\n",
      "'float' object has no attribute 'lower'\n",
      "eng title\n",
      "nan\n",
      "'float' object has no attribute 'lower'\n",
      "eng title\n",
      "nan\n",
      "'float' object has no attribute 'lower'\n",
      "eng title\n",
      "nan\n",
      "'float' object has no attribute 'lower'\n",
      "eng title\n",
      "nan\n",
      "'float' object has no attribute 'lower'\n",
      "eng title\n",
      "nan\n",
      "'float' object has no attribute 'lower'\n",
      "eng title\n",
      "nan\n",
      "'float' object has no attribute 'lower'\n",
      "eng title\n",
      "nan\n",
      "'float' object has no attribute 'lower'\n",
      "eng title\n",
      "nan\n",
      "'float' object has no attribute 'lower'\n",
      "eng title\n",
      "nan\n",
      "'float' object has no attribute 'lower'\n",
      "eng title\n",
      "nan\n",
      "'float' object has no attribute 'lower'\n",
      "eng title\n",
      "nan\n",
      "'float' object has no attribute 'lower'\n",
      "eng title\n",
      "nan\n",
      "'float' object has no attribute 'lower'\n",
      "eng title\n",
      "nan\n",
      "'float' object has no attribute 'lower'\n",
      "eng title\n",
      "nan\n",
      "'float' object has no attribute 'lower'\n",
      "eng title\n",
      "nan\n",
      "'float' object has no attribute 'lower'\n",
      "eng title\n",
      "nan\n",
      "'float' object has no attribute 'lower'\n",
      "eng title\n",
      "nan\n",
      "'float' object has no attribute 'lower'\n",
      "eng title\n",
      "nan\n",
      "'float' object has no attribute 'lower'\n",
      "eng title\n",
      "nan\n",
      "'float' object has no attribute 'lower'\n",
      "eng title\n",
      "nan\n",
      "'float' object has no attribute 'lower'\n",
      "eng title\n",
      "nan\n",
      "'float' object has no attribute 'lower'\n",
      "eng title\n",
      "nan\n",
      "'float' object has no attribute 'lower'\n",
      "eng title\n",
      "nan\n",
      "'float' object has no attribute 'lower'\n",
      "eng title\n",
      "nan\n",
      "'float' object has no attribute 'lower'\n",
      "eng title\n",
      "nan\n",
      "'float' object has no attribute 'lower'\n",
      "eng title\n",
      "nan\n",
      "'float' object has no attribute 'lower'\n",
      "eng title\n",
      "nan\n",
      "'float' object has no attribute 'lower'\n",
      "eng title\n",
      "nan\n",
      "'float' object has no attribute 'lower'\n",
      "eng title\n",
      "nan\n",
      "'float' object has no attribute 'lower'\n",
      "eng title\n",
      "nan\n",
      "'float' object has no attribute 'lower'\n",
      "eng title\n",
      "nan\n",
      "'float' object has no attribute 'lower'\n",
      "eng title\n",
      "nan\n",
      "'float' object has no attribute 'lower'\n",
      "eng title\n",
      "nan\n",
      "'float' object has no attribute 'lower'\n",
      "eng title\n",
      "nan\n",
      "'float' object has no attribute 'lower'\n",
      "eng title\n",
      "nan\n",
      "'float' object has no attribute 'lower'\n",
      "eng title\n",
      "nan\n",
      "'float' object has no attribute 'lower'\n",
      "eng title\n",
      "nan\n",
      "'float' object has no attribute 'lower'\n",
      "eng title\n",
      "nan\n",
      "'float' object has no attribute 'lower'\n",
      "eng title\n",
      "nan\n",
      "'float' object has no attribute 'lower'\n",
      "eng title\n",
      "nan\n",
      "'float' object has no attribute 'lower'\n",
      "eng title\n",
      "nan\n",
      "'float' object has no attribute 'lower'\n",
      "eng title\n",
      "nan\n",
      "'float' object has no attribute 'lower'\n",
      "eng title\n",
      "nan\n",
      "'float' object has no attribute 'lower'\n",
      "eng title\n"
     ]
    }
   ],
   "source": [
    "kr_norm = []\n",
    "eng_norm = []\n",
    "for string in tit_data.tolist():\n",
    "    try:\n",
    "        tokens = re.sub(r\"[^ㄱ-ㅎㅏ-ㅣ가-힣]+\", \" \", string.lower())\n",
    "    except Exception as e:\n",
    "        print(string)\n",
    "        print(e)\n",
    "        print('kr title')\n",
    "    kr_norm.append(tokens)\n",
    "for string in tit_data.tolist():\n",
    "    try:\n",
    "        tokens = re.sub(\"[^A-Za-z]+\", \" \", string.lower())\n",
    "    except Exception as e:\n",
    "        print(string)\n",
    "        print(e)\n",
    "        print('eng title')\n",
    "    eng_norm.append(tokens)\n",
    "for string in url_data.tolist():\n",
    "    try:\n",
    "        tokens = re.sub(\"[^A-Za-z]+\", \" \", string.lower())\n",
    "    except Exception as e:\n",
    "        print(string)\n",
    "        print(e)\n",
    "        print('eng url')\n",
    "    eng_norm.append(tokens)"
   ]
  },
  {
   "cell_type": "code",
   "execution_count": 287,
   "metadata": {
    "tags": [
     "outputPrepend"
    ]
   },
   "outputs": [
    {
     "output_type": "stream",
     "name": "stdout",
     "text": [
      "코인시즌 끝나는 줄 알았다 비트코인 갤러리', ' ')\n('엘프타야지 이름 졵나예쁘네 비트코인 갤러리', ' ')\n(' 텔레그램 이새끼들 돈 한달에 수천만원 그냥 버는거 좃같어 비트코인 갤러리', ' ')\n('빗갤 주일 와서 느낀점 비트코인 갤러리', ' ')\n('텔레그램 미친방 근황 비트코인 갤러리', ' ')\n('비트코인 갤러리', ' ')\n('암 수술비 날려먹었다 비트코인 갤러리', ' ')\n('어제 누가 토렌트 사라고 해서 사놨는데 비트코인 갤러리', ' ')\n('펀디 원에서 익절할까 비트코인 갤러리', ' ')\n('코린이 일차 깨달음 비트코인 갤러리', ' ')\n(' 만원정도를 그냥주는 친구면 자산이 얼마일거같냐 비트코인 갤러리', ' ')\n(' 에서 내 설정을 동기화하려면 어떻게 해야 하나요 ', 'windows bing')\n(' 제품 키를 찾는 방법 ', 'windows bing')\n(' ', 'nvidia bing')\n(' ', 'kakaotalk bing')\n(' 두바이왕자 ', ' studio youtube')\n(' 비트코인 채굴 ', ' youtube')\n('마이닝풀허브에서 이더리움 채굴해보기 네이버 블로그', ' ')\n(' 무료 인증서 ', 'https www bing com search q https cvid a e c a a b dcc c ef b aqs edge i j j j pglt form annab pc u ')\n(' 편 누구나 쉽게 집에서 비트코인 채굴 가이드 이더리움 전기세 이더리움 그래픽카드 채굴방법 마이닝풀 ', ' youtube')\n(' ', 'google bing')\n(' ', 'chrome extension api bing')\n('컴퓨터 대가 전기세 얼마나와 컴퓨터 본체', ' ')\n(' 채굴 팩트만 딱 알려줌 컴퓨터 본체', ' ')\n('채굴로 이득볼려면 그래픽카드 최소 몇대 잇어야함 중세게임 갤러리', ' ')\n(' 으로 지금부터 채굴하면 한달에 얼마뽑을수있냐 컴퓨터 본체', ' ')\n('야 드디어 채굴 달 됐다 ㅋㅋㅋㅋㅋㅋㅋㅋ 컴퓨터 본체', ' ')\n(' 채굴 전기 계산하기 채굴 갤러리', ' ti ')\n('아씨발 그냥 으로 채굴이나 돌려야긋다 컴퓨터 본체', ' ')\n('지금 가장 현명한애들이 아니냐 컴퓨터 본체', ' k ')\n('야 근대 박힌 노트북은 가격 상승 이런거 없던데 원신 갤러리', ' project ')\n(' 으로 채굴은 별로인가 컴퓨터 본체', ' ')\n(' 이더채굴 일차 컴퓨터 본체', ' ')\n('채굴 월에 막힌다는거 팩트냐 채굴 갤러리', ' ')\n(' 한대로채굴하면 비트코인 갤러리', ' ')\n('컴붕이 전여친 연락왔다 컴퓨터 본체', ' ')\n('집에 태양열판 있는데 전기세 감당가능 컴퓨터 본체', ' ')\n('사이버펑크가 내 돈 만원 절약해줌 패스파인더 갤러리', ' ')\n(' 개인채굴하다 채산성 점점 낮아져서 컴퓨터 본체', ' ')\n('채굴 생각보다 돈못범ㅠ 인증 컴퓨터 본체', ' ')\n(' 으로 채굴하면 하루에 얼마버냐 컴퓨터 본체', ' ')\n('존버충들은 못하는거 컴퓨터 본체', ' jpg ')\n(' 이정도면 무리 안가게 시간 채굴 가능 채굴 갤러리', ' ')\n(' 한대로 채굴중인데 채굴 갤러리', ' ')\n('돈없는 그지새끼들은 사서 빨리 채굴하셈 컴퓨터 본체', ' ')\n('채굴 중인데 중고 오십만원 가나 컴퓨터 본체', ' dtd ')\n('칩셋가격 인상 반도체 수급 안좋아짐 등등 악재가 겹쳤는데 컴퓨터 본체', ' ')\n(' 이더리움 채굴 ㅈㄴ달다 시간 천원 중세게임 갤러리', ' ')\n('동네 채굴맨들 그래픽카드 뜯지도않은채로 당근에 팔더만 컴퓨터 본체', ' ')\n(' 으로 채굴하는데 도 안넘는다고 컴퓨터 본체', ' ')\n('개인 채굴 이제 하루 했는데 마음이 안 좋다 컴퓨터 본체', ' ')\n(' 사려고 했더니 가 승자네 컴퓨터 본체', ' xt xt ')\n(' 집컴 채굴 가능 채굴 갤러리', ' ')\n('컴퓨터 본체', ' ')\n('컴퓨터 본체', ' ')\n(' 사고 팔까 컴퓨터 본체', ' xt ')\n('컴퓨터 본체', ' ')\n('작년에 주문한 지금 밤 시에 오는건 뭐임 컴퓨터 본체', ' jpg ')\n(' 개 남았다 컴퓨터 본체', ' ')\n('방금 번가 불칸 만원 떴냐 컴퓨터 본체', ' ')\n(' 비래퍼 구매는 예상보다 수월할 것 같음 컴퓨터 본체', ' xt ')\n('컴퓨터 본체', ' ')\n('사양 꾸지면 써라 컴퓨터 본체', ' fhd ')\n('잠시후 타임세일 예고 컴퓨터 본체', ' jpg ')\n(' 정도면 에서는 쓸만한거지 컴퓨터 본체', ' qhd ')\n(' 채굴 안하면 병신임 컴퓨터 본체', ' ')\n('이거 괜찮지않음 컴퓨터 본체', ' ')\n('라데온 글카 라라랜드 안하면 의미없음 컴퓨터 본체', ' ')\n(' 블랙에디션 중고로 팔면 얼마냐 컴퓨터 본체', ' ti ')\n(' 가 만원 씩이나 하네 컴퓨터 본체', ' xt ')\n('컴맹 도움좀 사서 쓰는거 어떻게 생각하냐 컴퓨터 본체', ' usb ')\n(' 인데도 프레임이 안나옵니다 컴퓨터 본체', ' ')\n('급함 컴터가 안꺼져 저거 어케 해결함 컴퓨터 본체', ' ')\n('라이트 유저들이 메인보드 비싼거 쓸필요있음 컴퓨터 본체', ' ')\n(' 에 갤럭시 에 불칸 컴퓨터 본체', ' ex vs ')\n(' 사는 새끼들은 ㄹㅇ 개병신인가 컴퓨터 본체', ' ')\n('로컬디스크 가 가 임 컴퓨터 본체', ' c ssd d hdd ')\n(' 슈퍼 허수아비 가든 어디 가든 으로는 못구하냐 컴퓨터 본체', ' ')\n('노트북 에서 데탑으로 가려던 내 꿈이 컴퓨터 본체', ' m ')\n('지금 최고 가성비 컴퓨터 본체', ' ')\n(' 년전에 안팔리겠지 하고 처박아둔 이 컴퓨터 본체', ' r ')\n(' 에 샀던게 신의한수됬네 컴퓨터 본체', ' xt ')\n(' 마넌 드릴테니 우리집 와서 사제공유기 설치헤주실분 컴퓨터 본체', ' ')\n('딱 년 쓴 이거 얼마에 팔리노 컴퓨터 본체', ' g ')\n(' 천번대 글카 질문 컴퓨터 본체', ' ')\n('컴알못인데 메인보드 머가 더 좋은거야 컴퓨터 본체', ' ')\n(' ', 'chrome bing')\n(' ', 'https www bing com search q aws educate support form qsre ')\n('네이버 만화 요일별 웹툰 목요 웹툰', ' ')\n('오늘의 순정망화 네이버 만화', ' ')\n('독립일기 네이버 만화', ' ')\n('독립일기 네이버 만화', ' ')\n('독립일기 네이버 만화', ' ')\n('독립일기 네이버 만화', ' ')\n('독립일기 네이버 만화', ' ')\n('독립일기 네이버 만화', ' ')\n('독립일기 네이버 만화', ' ')\n('독립일기 네이버 만화', ' ')\n('독립일기 네이버 만화', ' ')\n('독립일기 네이버 만화', ' ')\n('독립일기 네이버 만화', ' ')\n('독립일기 네이버 만화', ' ')\n('독립일기 네이버 만화', ' ')\n('독립일기 네이버 만화', ' ')\n('독립일기 네이버 만화', ' ')\n('독립일기 네이버 만화', ' ')\n('독립일기 네이버 만화', ' ')\n('독립일기 네이버 만화', ' ')\n('독립일기 네이버 만화', ' ')\n('독립일기 네이버 만화', ' ')\n('독립일기 네이버 만화', ' ')\n('독립일기 네이버 만화', ' ')\n('독립일기 네이버 만화', ' ')\n('독립일기 네이버 만화', ' ')\n('독립일기 네이버 만화', ' ')\n('독립일기 네이버 만화', ' ')\n('독립일기 네이버 만화', ' ')\n('독립일기 네이버 만화', ' ')\n('독립일기 네이버 만화', ' ')\n('독립일기 네이버 만화', ' ')\n('독립일기 네이버 만화', ' ')\n('독립일기 네이버 만화', ' ')\n('독립일기 네이버 만화', ' ')\n('독립일기 네이버 만화', ' ')\n('독립일기 네이버 만화', ' ')\n(' 학생크레딧 ', 'aws bing')\n(' ', 'https www bing com search q aws qs n form qbre msbsrank sp pq aws sc sk cvid f e a f aadd c f ')\n(' ', 'https www bing com search q aws cvid e e f b d f b c ba c aqs edge i j l j j pglt form annab pc u ')\n('환경변수 설 ', ' bing')\n('환경변수 설 ', ' bing')\n('클립보드 공유 ', ' bing')\n(' 큐넷 큐넷 ', 'https www bing com search q qs n form qbre msbsrank sp pq sc sk cvid dfae bf dbd c aff ebb ')\n('전원 모드 윈도우 ', ' bing')\n('워크넷 ', ' bing')\n('아마존 ', ' ec bing')\n('아마존 ', ' ec bing')\n('아마존 ', ' ec bing')\n(' ', 'await javascript mdn')\n(' ', 'await javascript mdn')\n(' ', 'await javascript mdn')\n(' ', 'await javascript mdn')\n(' ', 'await javascript mdn')\n('독립일기 네이버 만화', ' ')\n('독립일기 네이버 만화', ' ')\n('독립일기 네이버 만화', ' ')\n('독립일기 네이버 만화', ' ')\n('독립일기 네이버 만화', ' ')\n('독립일기 네이버 만화', ' ')\n('독립일기 네이버 만화', ' ')\n('독립일기 네이버 만화', ' ')\n('독립일기 네이버 만화', ' ')\n('독립일기 네이버 만화', ' ')\n('독립일기 네이버 만화', ' ')\n('독립일기 네이버 만화', ' ')\n('독립일기 네이버 만화', ' ')\n('독립일기 네이버 만화', ' ')\n('독립일기 네이버 만화', ' ')\n('독립일기 네이버 만화', ' ')\n('독립일기 네이버 만화', ' ')\n('독립일기 네이버 만화', ' ')\n('독립일기 네이버 만화', ' ')\n('독립일기 네이버 만화', ' ')\n('독립일기 네이버 만화', ' ')\n('독립일기 네이버 만화', ' ')\n('독립일기 네이버 만화', ' ')\n('독립일기 네이버 만화', ' ')\n('독립일기 네이버 만화', ' ')\n('독립일기 네이버 만화', ' ')\n('독립일기 네이버 만화', ' ')\n('독립일기 네이버 만화', ' ')\n('독립일기 네이버 만화', ' ')\n('독립일기 네이버 만화', ' ')\n('독립일기 네이버 만화', ' ')\n('독립일기 네이버 만화', ' ')\n('독립일기 네이버 만화', ' ')\n('독립일기 네이버 만화', ' ')\n('독립일기 네이버 만화', ' ')\n('독립일기 네이버 만화', ' ')\n('로그인 ', ' zoom')\n(' 회의 ', 'zoom zoom')\n('줌 검색', ' google ')\n(' 네이버 블로그', 'randall s tmi ')\n(' 네이버 블로그', 'randall s tmi ')\n(' 네이버 블로그', 'randall s tmi ')\n(' 네이버 블로그', 'randall s tmi ')\n(' 네이버 블로그', 'randall s tmi ')\n(' 네이버 블로그', 'randall s tmi ')\n('파이널판타지 ', ' final fantasy xiv ')\n('파이널판타지 ', ' final fantasy xiv ')\n('생존신고 월편 네이버 블로그', ' ')\n('생존신고 월편 네이버 블로그', ' ')\n('받은메일함 네이버 메일', ' ')\n('반지의 제왕 반지 원정대 왓챠피디아', ' ')\n('파워서플라이 추천좀요 컴퓨터 본체 갤러리', ' ')\n(' 말고 어로스 엘리트 어떰 컴퓨터 본체', ' m ')\n('긱바 보드 어로스 는 살만함 컴퓨터 본체', ' ')\n(' 어로스 엘리트 괜찮냐 컴퓨터 본체', ' ')\n('컴퓨터 본체', ' ')\n(' 파워 몇와트에 어디파워 사야함 컴퓨터 본체', ' x ')\n(' 파워 몇와트에 어디파워 사야함 컴퓨터 본체', ' x ')\n(' 파워 몇와트에 어디파워 사야함 컴퓨터 본체', ' x ')\n(' 파워 몇와트에 어디파워 사야함 컴퓨터 본체', ' x ')\n(' 파워 몇와트에 어디파워 사야함 컴퓨터 본체', ' x ')\n(' 파워 몇와트에 어디파워 사야함 컴퓨터 본체', ' x ')\n(' 파워 몇와트에 어디파워 사야함 컴퓨터 본체', ' x ')\n(' 파워 몇와트에 어디파워 사야함 컴퓨터 본체', ' x ')\n(' 파워 몇와트에 어디파워 사야함 컴퓨터 본체', ' x ')\n(' 파워 몇와트에 어디파워 사야함 컴퓨터 본체', ' x ')\n(' ', 'opic')\n(' ', 'opic')\n(' ', 'find open datasets and machine learning projects kaggle')\n(' 모동숲 시간 배경음악 동물의숲 하루 브금 듣기 ', ' ost youtube')\n(' ', 'animal crossing new horizons music to relax study work game youtube')\n(' ', 'animal crossing new horizons music to relax study work game youtube')\n(' ', 'animal crossing new horizons music to relax study work game youtube')\n(' ', 'animal crossing new horizons music to relax study work game youtube')\n(' ', 'animal crossing new horizons music to relax study work game youtube')\n(' ', 'animal crossing new horizons music to relax study work game youtube')\n('반지의 제왕 반지 원정대 목차 왓챠피디아', ' ')\n(' ', ' mvc db v pdf')\n('스프링 입문 코드로 배우는 스프링 부트 웹 접근 기술 인프런 학습 페이지', ' mvc db ')\n(' 그래픽 카드 한국', 'turbo rtx g asus ')\n(' 그래픽 카드 한국', 'turbo rtx g asus ')\n(' ', 'blog registry setting png at master young blog')\n(' ', 'blog registry setting png at master young blog')\n(' 블로그 지킬 블로그 테마 검색 추천 사이트 ', ' jekyll ')\n(' ', 'what is my ip address see your public address ipv ipv ')\n(' ', 'what is my ip address see your public address ipv ipv ')\n(' 에서 로 전환하기 위한 완벽 가이드 웹사이트를 만드는 사람들을 위한 온라인 정보', 'http https webactuallywebactually ')\n(' 에서 로 전환하기 위한 완벽 가이드 웹사이트를 만드는 사람들을 위한 온라인 정보', 'http https webactuallywebactually ')\n(' 알아보기', 'spring boot devtools ')\n(' ', 'https twitter com ff erika status ')\n('큐어오사드 님의 트위터 새싹소환사 지인들을 위해 만들어본 소환사 가이드 아 너무 별게 없어서 부끄럽다 그래도 도움이 발톱때만큼이라도 된다면 감사합니다 감사합니다 트위터', ' https t co gzpgwzzte ')\n(' 코딩할때 듣기 좋은 노래 ', ' hours playlist lofi type beat beats to relax study music youtube')\n('일본에서는 진짜 취업이 잘될까 실제 취준생한테 현실을 물어봤습니다 ', ' youtube')\n('내 언어공부를 영원히 바꿔버린 영상 ', ' youtube')\n('큐어오사드 님의 트위터 새싹소환사 지인들을 위해 만들어본 소환사 가이드 아 너무 별게 없어서 부끄럽다 그래도 도움이 발톱때만큼이라도 된다면 감사합니다 감사합니다 트위터', ' https t co gzpgwzzte ')\n('스프링 입문 코드로 배우는 스프링 부트 웹 접근 기술 인프런 학습 페이지', ' mvc db ')\n('스프링 입문 코드로 배우는 스프링 부트 웹 접근 기술 인프런 학습 페이지', ' mvc db ')\n('스프링 입문 코드로 배우는 스프링 부트 웹 접근 기술 인프런 학습 페이지', ' mvc db ')\n('스프링 입문 코드로 배우는 스프링 부트 웹 접근 기술 인프런 학습 페이지', ' mvc db ')\n('스프링 입문 코드로 배우는 스프링 부트 웹 접근 기술 인프런 학습 페이지', ' mvc db ')\n('스프링 입문 코드로 배우는 스프링 부트 웹 접근 기술 인프런 학습 페이지', ' mvc db ')\n('스프링 입문 코드로 배우는 스프링 부트 웹 접근 기술 인프런 학습 페이지', ' mvc db ')\n('스프링 입문 코드로 배우는 스프링 부트 웹 접근 기술 인프런 학습 페이지', ' mvc db ')\n(' ', 'spring initializr')\n('스프링 입문 코드로 배우는 스프링 부트 웹 접근 기술 인프런 학습 페이지', ' mvc db ')\n('스프링 입문 코드로 배우는 스프링 부트 웹 접근 기술 인프런 학습 페이지', ' mvc db ')\n('학습 대시보드 인프런 마이페이지', ' ')\n(' 초급 중급 우아한형제들 개발팀장 김영한의 스프링 완전 정복 인프런 로드맵', ' ')\n('큐어오사드 님의 트위터 새싹소환사 지인들을 위해 만들어본 소환사 가이드 아 너무 별게 없어서 부끄럽다 그래도 도움이 발톱때만큼이라도 된다면 감사합니다 감사합니다 트위터', ' https t co gzpgwzzte ')\n('큐어오사드 님의 트위터 새싹소환사 지인들을 위해 만들어본 소환사 가이드 아 너무 별게 없어서 부끄럽다 그래도 도움이 발톱때만큼이라도 된다면 감사합니다 감사합니다 트위터', ' https t co gzpgwzzte ')\n('큐어오사드 님의 트위터 새싹소환사 지인들을 위해 만들어본 소환사 가이드 아 너무 별게 없어서 부끄럽다 그래도 도움이 발톱때만큼이라도 된다면 감사합니다 감사합니다 트위터', ' https t co gzpgwzzte ')\n('큐어오사드 님의 트위터 새싹소환사 지인들을 위해 만들어본 소환사 가이드 아 너무 별게 없어서 부끄럽다 그래도 도움이 발톱때만큼이라도 된다면 감사합니다 감사합니다 트위터', ' https t co gzpgwzzte ')\n('큐어오사드 님의 트위터 새싹소환사 지인들을 위해 만들어본 소환사 가이드 아 너무 별게 없어서 부끄럽다 그래도 도움이 발톱때만큼이라도 된다면 감사합니다 감사합니다 트위터', ' https t co gzpgwzzte ')\n('큐어오사드 님의 트위터 새싹소환사 지인들을 위해 만들어본 소환사 가이드 아 너무 별게 없어서 부끄럽다 그래도 도움이 발톱때만큼이라도 된다면 감사합니다 감사합니다 트위터', ' https t co gzpgwzzte ')\n(' 숙명여자대학교 메일', 'jetbrains educational pack confirmation randallkk sookmyung ac kr ')\n('받은편지함 숙명여자대학교 메일', ' randallkk sookmyung ac kr ')\n('파이토치 로 딥러닝하기 분만에 끝장내기 ', ' pytorch pytorch tutorials documentation')\n(' 가 무엇인가요 ', 'pytorch pytorch tutorials documentation')\n(' 자동 미분 ', 'autograd pytorch tutorials documentation')\n('파이토치 튜토리얼에 오신 것을 환영합니다 ', ' pytorch pytorch tutorials documentation')\n('파이토치 튜토리얼에 오신 것을 환영합니다 ', ' pytorch pytorch tutorials documentation')\n(' ', 'aliexpress mobile global online shopping for apparel phones computers electronics fashion and more')\n(' ', 'aliexpress mobile global online shopping for apparel phones computers electronics fashion and more')\n(' ', 'aliexpress mobile global online shopping for apparel phones computers electronics fashion and more')\n(' 의 클립보드', 'windows ')\n(' 의 클립보드', 'windows ')\n(' 에서 다운로드를 차단하는 경우 고객센터', 'chrome google chrome ')\n(' 에서 다운로드를 차단하는 경우 고객센터', 'chrome google chrome ')\n(' 에서 다운로드를 차단하는 경우 고객센터', 'chrome google chrome ')\n('맞춤 앱 및 확장 프로그램 만들기 및 게시하기 고객센터', ' chrome google chrome enterprise ')\n(' ', 'i am unable to save my settings as my ip address is not recognized bitfly support portal')\n(' ', 'spring initializr')\n('페이조아 결제', ' payjoa ')\n('페이조아 결제', ' payjoa ')\n('페이조아 결제', ' payjoa ')\n('페이조아 결제', ' payjoa ')\n('페이조아 결제', ' payjoa ')\n('페이조아 결제', ' payjoa ')\n(' ', 'snowboard')\n(' ', 'snowboard')\n(' ', 'snowboard')\n(' ', 'snowboard')\n(' ', 'snowboard')\n(' ', 'snowboard')\n(' ', 'snowboard')\n(' ', 'snowboard')\n(' ', 'snowboard')\n(' ', 'snowboard')\n('마이닝풀 네이버 통합검색', ' ')\n(' 파이썬 란 포함 네이버 블로그', ' python list index numpy where ')\n('대전 키스트 네이버 통합검색', ' ')\n('대전 우송대 네이버 통합검색', ' ')\n('대전 우송대 네이버 통합검색', ' ')\n(' 원격 데스크톱', 'chrome ')\n(' 원격 데스크톱', 'chrome ')\n(' 원격 데스크톱', 'chrome ')\n(' 원격 데스크톱', 'chrome ')\n(' 원격 데스크톱', 'chrome ')\n(' 원격 데스크톱', 'chrome ')\n(' ', 'home ravencoin flypool ravencoin rvn mining pool')\n(' ', 'home ravencoin flypool ravencoin rvn mining pool')\n('갤럭시 사용법좀 알려주세요 그래픽카드 퀘이사존', ' ti hof ')\n('사용자 계정 로그인', ' ')\n('사용자 계정 로그인', ' ')\n('사용자 계정 로그인', ' ')\n(' ', 'home sap netweaver portal')\n(' 란 ', 'pick go ')\n('토스 금융이 쉬워진다', ' ')\n('토스 금융이 쉬워진다', ' ')\n('토스 금융이 쉬워진다', ' ')\n('토스 금융이 쉬워진다', ' ')\n('토스 금융이 쉬워진다', ' ')\n('토스 금융이 쉬워진다', ' ')\n(' ', 'confluence')\n(' ', 'confluence')\n('눈누 상업용 무료한글폰트 사이트', ' ')\n('눈누 상업용 무료한글폰트 사이트', ' ')\n('눈누 상업용 무료한글폰트 사이트', ' ')\n('눈누 상업용 무료한글폰트 사이트', ' ')\n('눈누 상업용 무료한글폰트 사이트', ' ')\n('눈누 상업용 무료한글폰트 사이트', ' ')\n(' ', 'naver')\n('네이버 로그인', ' ')\n('네이버 로그인', ' ')\n(' ', 'naver')\n('무료 인증서 적용 ', ' ssl let s encrypt ')\n('무료 인증서 적용 ', ' ssl let s encrypt ')\n('무료 인증서 적용 ', ' ssl let s encrypt ')\n('무료 인증서 적용 ', ' ssl let s encrypt ')\n(' ', 'microsoft edge')\n(' ', 'alibaba manufacturer directory suppliers manufacturers exporters importers')\n(' 으로 크로스 플랫폼 데스크톱 앱 만들기 요즈음 모바일 앱은 등 다양한 ', 'electron xamarin cordova by jung hyun nam cloudeveloper')\n(' 데이터 사이언스 커리어 로드맵 비전공자와 데이터 사이언스 입문자를 위하여 ', ' by learningspoons medium')\n('시종설 수정 권한 공유 숙명여자대학교 메일', ' ppt randallkk sookmyung ac kr ')\n('받은편지함 숙명여자대학교 메일', ' randallkk sookmyung ac kr ')\n(' 프로젝트 구조와 ', 'gradle gradle wrapper')\n(' 제일은행', 'sc ')\n('사용자 계정 로그인', ' ')\n(' 계정 로그인 또는 지금 계정 만들기 ', 'microsoft microsoft')\n(' 계정 로그인 또는 지금 계정 만들기 ', 'microsoft microsoft')\n(' ', 'auto login')\n(' ', 'buy products online from china wholesalers at aliexpress com')\n(' 피와살 미래학자 니콜라스 카가 말하는 인터넷의 부작용 구글효과', ' ')\n(' 피와살 미래학자 니콜라스 카가 말하는 인터넷의 부작용 구글효과', ' ')\n(' 파판 대신 해결해드립니다 편 간편한 단축바 만들기 ', ' youtube')\n(' ', 'msi korea')\n(' ', 'msi korea')\n(' ', 'msi korea')\n(' ', 'msi korea')\n('키크론 펌웨어 업데이트 다운로드', ' k v ')\n('펌웨어 다운로드 키크론 ', ' keychron')\n('키크론 맥도 윈도우도 문제없다 ', ' keychron ')\n('키크론 맥도 윈도우도 문제없다 ', ' keychron ')\n(' ', 'installing a standalone apache spark cluster jc olamendy s thoughts')\n(' ', 'installing a standalone apache spark cluster jc olamendy s thoughts')\n(' ', 'installing a standalone apache spark cluster jc olamendy s thoughts')\n(' ', 'installing a standalone apache spark cluster jc olamendy s thoughts')\n(' ', 'installing a standalone apache spark cluster jc olamendy s thoughts')\n(' ', 'installing a standalone apache spark cluster jc olamendy s thoughts')\n(' ', 'installing a standalone apache spark cluster jc olamendy s thoughts')\n('계속하려면 로그인하세요 계정으로 로그인', ' atlassian ')\n(' 계정으로 로그인', 'atlassian ')\n(' ', 'log in with atlassian account')\n(' ', 'log in with atlassian account')\n(' ', 'log in with atlassian account')\n(' ', 'log in with atlassian account')\n(' 로 편리한 개발환경 구축', 'spring boot devtools ')\n(' 처음 사용하기 앵그리 비버 를 부탁해', 'jira s it ')\n(' 처음 사용하기 앵그리 비버 를 부탁해', 'jira s it ')\n(' 처음 사용하기 앵그리 비버 를 부탁해', 'jira s it ')\n(' 처음 사용하기 앵그리 비버 를 부탁해', 'jira s it ')\n(' 처음 사용하기 앵그리 비버 를 부탁해', 'jira s it ')\n('갓대희의 작은공간 학생 인증 무료 설치 방법', ' intellij intellij ')\n('갓대희의 작은공간 설치방법', ' intellij intellij ')\n(' 에서 내 설정을 동기화하려면 어떻게 해야 하나요 ', 'windows bing')\n(' 웹 스토어 아티스트 테마', 'chrome ')\n(' ', 'microsoft edge')\n('머신러닝 엔지니어 ', ' team neighborhood i want to study data science wiki')\n('데이터 엔지니어 ', ' team neighborhood i want to study data science wiki')\n('데이터 분야의 직군 소개 ', ' team neighborhood i want to study data science wiki')\n('데이터 분야의 직군 소개 ', ' team neighborhood i want to study data science wiki')\n(' ', 'randallkk hpti')\n(' ', 'randallkk')\n(' ', 'release phoenixminer c phoenixminerdevteam phoenixminer')\n(' ', 'phoenixminerdevteam')\n(' ', 'editing screentime chrome readme md at main noonsong carpal turner syndrome screentime chrome')\n(' ', 'screentime chrome readme md at main noonsong carpal turner syndrome screentime chrome')\n(' ', 'options')\n(' ', 'options')\n(' ', 'options')\n(' ', 'options')\n(' ', 'options')\n(' ', 'sign in to github github')\n(' ', 'authorize application')\n(' ', 'authorize application')\n(' ', 'authorize application')\n(' ', 'authorize application')\n(' ', 'authorize application')\n(' ', 'authorize application')\n(' ', 'authorize application')\n(' ', 'black han sans google fonts')\n(' ', 'black han sans google fonts')\n(' ', 'black han sans google fonts')\n(' ', 'black han sans google fonts')\n(' ', 'black han sans google fonts')\n('타르토맛 타르트 파이널판타지 ', ' ')\n('타르토맛 타르트 파이널판타지 ', ' ')\n(' 아마존 무료 서버 생성하기 회원가입 란', ' aws ec aws aws ')\n(' 아마존 무료 서버 생성하기 회원가입 란', ' aws ec aws aws ')\n(' ', 'getting started ethermine how to mine ethereum')\n(' ', 'settings ethermine')\n(' ', 'payouts ethermine')\n(' ', 'dashboard ethermine')\n(' ', 'home ethermine ethereum eth mining pool')\n(' ', 'https ethermine org')\n(' 파일 생각의 폭을 넓히자', 'androidstudio build gradle ')\n(' ', 'k rgb v en exe google drive')\n(' ', 'k rgb v en exe google drive')\n('에오르제아 주점', ' ')\n('새벽에 주저리 주저리 써보는 글', ' ')\n('요즘 근황 생각', ' ')\n('입사 후 첫 번째 프로젝트 후기', ' ')\n('신입 데이터 엔지니어로 취업했다 ', ' ')\n(' 취준생의 데이터 분야의 커리어 고민 엔지니어가 되자', ' ')\n(' 취준생의 데이터 분야의 커리어 고민 엔지니어가 되자', ' ')\n(' 파워문의 파워서플라이 쿨엔조이', ' x ')\n(' 파워문의 파워서플라이 쿨엔조이', ' x ')\n('독립일기 네이버 만화', ' ')\n('독립일기 네이버 만화', ' ')\n('독립일기 네이버 만화', ' ')\n(' 으로 크로스 플랫폼 데스크톱 앱 만들기 요즈음 모바일 앱은 등 다양한 ', 'electron xamarin cordova by jung hyun nam cloudeveloper')\n('개인정보 보호 오류', ' ')\n(' ', 'twitch')\n(' 웹 스토어 확장 프로그램', 'chrome ')\n(' 웹 스토어', 'tabby cat chrome ')\n(' 웹 스토어', 'stargazers chrome ')\n(' 웹 스토어', 'stargazers chrome ')\n(' 웹 스토어', 'stargazers chrome ')\n(' 웹 스토어', 'night light chrome ')\n(' 웹 스토어', 'mobicip parental control with screen time chrome ')\n(' 웹 스토어', 'livereload chrome ')\n(' 웹 스토어', 'livereload chrome ')\n(' 웹 스토어 아티스트 테마', 'chrome ')\n(' 웹 스토어 ', 'chrome screen time')\n(' 웹 스토어 아티스트 테마', 'chrome ')\n(' 웹 스토어 아티스트 테마', 'chrome ')\n(' 웹 스토어 아티스트 테마', 'chrome ')\n('데이터 엔지니어가 하는 일', ' ')\n(' ', 'phoenixminer c fastest ethereum ethash miner with lowest devfee win linux ')\n(' ', 'phoenixminer c fastest ethereum ethash miner with lowest devfee win linux ')\n(' ', 'phoenixminer c fastest ethereum ethash miner with lowest devfee win linux ')\n('파이널판타지 ', ' final fantasy xiv ')\n('파이널판타지 ', ' final fantasy xiv ')\n('파이널판타지 ', ' final fantasy xiv ')\n('파이널판타지 ', ' final fantasy xiv ')\n('파이널판타지 ', ' final fantasy xiv ')\n('파이널판타지 ', ' final fantasy xiv ')\n('파이널판타지 ', ' final fantasy xiv ')\n(' ', 'payco')\n(' ', 'payco')\n(' 기본 프로그램 개발 지식 공유', ' gradle build gradle ')\n(' 기본 프로그램 개발 지식 공유', ' gradle build gradle ')\n('메일쓰기 네이버 메일', ' ')\n('메일쓰기 네이버 메일', ' ')\n(' 산성마켓 윈도우 정품키입니다 모바일 휴대폰 말고 컴퓨터 로 메일열람해주세요 ', 're pc pc ')\n('로그인 계정', ' google ')\n('로그인 계정', ' google ')\n('로그인 계정', ' google ')\n('로그인 계정', ' google ')\n(' 계정 로그인 또는 지금 계정 만들기 ', 'microsoft microsoft')\n(' 계정 로그인 또는 지금 계정 만들기 ', 'microsoft microsoft')\n(' 계정 로그인 또는 지금 계정 만들기 ', 'microsoft microsoft')\n(' 계정 로그인 또는 지금 계정 만들기 ', 'microsoft microsoft')\n(' ', 'jetbrains account')\n(' ', 'jetbrains account')\n(' ', 'jetbrains account')\n(' ', 'jetbrains account')\n(' ', 'jetbrains account')\n(' ', 'jetbrains account')\n(' 지데넓얕 와 은 무엇이 다를까 ', ' data science data engineering deep play')\n(' 지데넓얕 와 은 무엇이 다를까 ', ' data science data engineering deep play')\n(' 지데넓얕 와 은 무엇이 다를까 ', ' data science data engineering deep play')\n(' 지데넓얕 와 은 무엇이 다를까 ', ' data science data engineering deep play')\n(' 지데넓얕 와 은 무엇이 다를까 ', ' data science data engineering deep play')\n(' 지데넓얕 와 은 무엇이 다를까 ', ' data science data engineering deep play')\n(' ', 'naver')\n(' ', 'naver')\n(' ', 'naver')\n('파이널판타지 인벤 패션 체크 게시판 파이널판타지 인벤', ' ')\n('파이널판타지 인벤 패션 체크 게시판 파이널판타지 인벤', ' ')\n('파이널판타지 인벤 패션 체크 게시판 파이널판타지 인벤', ' ')\n('파이널판타지 인벤 패션 체크 게시판 파이널판타지 인벤', ' ')\n(' 주 갤럭시코리아', ' ')\n(' 주 갤럭시코리아', ' ')\n('자주 물어보는 질문 주 갤럭시코리아', ' ')\n('자주 물어보는 질문 주 갤럭시코리아', ' ')\n('자주 물어보는 질문 주 갤럭시코리아', ' ')\n('그래픽카드 지지대 설치 방법 자료실 주 갤럭시코리아', ' ')\n(' 자료실 주 갤럭시코리아', 'hof ai ')\n(' 프로그램 사용 방법 및 주소 링크 자료실 주 갤럭시코리아', 'display driver uninstaller ddu ')\n(' 자료실 주 갤럭시코리아', 'nvidia led visualizer ')\n('자료실 페이지 주 갤럭시코리아', ' ')\n('자료실 페이지 주 갤럭시코리아', ' ')\n('자료실 페이지 주 갤럭시코리아', ' ')\n('자료실 페이지 주 갤럭시코리아', ' ')\n('자료실 페이지 주 갤럭시코리아', ' ')\n(' 주 갤럭시코리아', ' ')\n(' ', 'galax')\n('파이널판타지 ', ' final fantasy xiv ')\n('파이널판타지 ', ' final fantasy xiv ')\n('파이널판타지 ', ' final fantasy xiv ')\n('파일 이더마인 글자 해시넷', ' png ')\n('파일 서버 해시넷', ' png ')\n('이더마인 해시넷', ' ')\n('서버 ', ' png ')\n(' ', 'what is my ip address see your public address ipv ipv ')\n(' ', 'what is my ip address see your public address ipv ipv ')\n(' ', 'what is my ip address see your public address ipv ipv ')\n(' 자격의 모든것', 'q net ')\n(' 자격의 모든 것', 'q net ')\n(' ', 'sap netweaver portal')\n(' ', 'sap netweaver portal')\n(' ', 'sap netweaver portal')\n(' ', 'naver')\n(' ', 'hello')\n(' ', 'hello')\n(' ', 'hello')\n('이더리움 이더리움 클래식 채굴 프로그램 세팅 방법 그래픽카드 편 다나와 는 내맘을 디피지', ' amd dpg ')\n('이더리움 이더리움 클래식 채굴 프로그램 세팅 방법 그래픽카드 편 다나와 는 내맘을 디피지', ' amd dpg ')\n('이더리움 이더리움 클래식 채굴 프로그램 세팅 방법 그래픽카드 편 다나와 는 내맘을 디피지', ' amd dpg ')\n('이더리움 이더리움 클래식 채굴 프로그램 세팅 방법 그래픽카드 편 다나와 는 내맘을 디피지', ' amd dpg ')\n(' ', 'naver')\n(' ', 'free jira software atlassian')\n"
     ]
    }
   ],
   "source": [
    "for sentence in zip(kr_norm, eng_norm):\n",
    "    print(sentence)"
   ]
  },
  {
   "cell_type": "code",
   "execution_count": 288,
   "metadata": {},
   "outputs": [],
   "source": [
    "kr_stopwords=['의','가','이','은','들','는','좀','잘','걍','과','도','를','으로','자','에','와','한','하다']\n",
    "eng_stopwords=['https','http','www','com','co','kr','org','ac']#불용어 제거하기"
   ]
  },
  {
   "cell_type": "code",
   "execution_count": 289,
   "metadata": {},
   "outputs": [],
   "source": [
    "from konlpy.tag import Okt  \n",
    "okt = Okt()"
   ]
  },
  {
   "cell_type": "code",
   "execution_count": 290,
   "metadata": {},
   "outputs": [],
   "source": [
    "X_token=[]\n",
    "for sentence in kr_norm:\n",
    "    temp_X = []\n",
    "    temp_X = okt.morphs(sentence, stem=True) # 토큰화\n",
    "    temp_X = [word for word in temp_X if not word in kr_stopwords] # 불용어 제거\n",
    "    X_token.append(temp_X)"
   ]
  },
  {
   "cell_type": "code",
   "execution_count": 291,
   "metadata": {},
   "outputs": [
    {
     "output_type": "stream",
     "name": "stdout",
     "text": [
      "[['크롬', '확장', '프로그램', '개발', '회고'], ['게', '구리'], ['시종', '설', '제안', '서']]\n1595\n"
     ]
    }
   ],
   "source": [
    "print(X_token[:3])\n",
    "print(len(X_token))"
   ]
  },
  {
   "cell_type": "code",
   "execution_count": 292,
   "metadata": {},
   "outputs": [],
   "source": [
    "import nltk\n",
    "# nltk.download('punkt')\n",
    "# nltk.download('wordnet')\n",
    "# nltk.download('stopwords')\n",
    "from nltk import sent_tokenize, word_tokenize\n",
    "from nltk.stem import PorterStemmer\n",
    "from nltk.corpus import stopwords"
   ]
  },
  {
   "cell_type": "code",
   "execution_count": 293,
   "metadata": {},
   "outputs": [],
   "source": [
    "ps=PorterStemmer()\n",
    "\n",
    "stop_words = set(stopwords.words('english'))\n",
    "\n",
    "stemData=[]\n",
    "for sentence in eng_norm:\n",
    "    tokenData = nltk.word_tokenize(sentence)\n",
    "    tempData = []\n",
    "    for word in tokenData:  # 불용어 제거\n",
    "        if word not in stop_words and word not in eng_stopwords:\n",
    "            word = ps.stem(word)\n",
    "            if len(word)>1:\n",
    "                tempData.append(word)\n",
    "    stemData.append(tempData)"
   ]
  },
  {
   "cell_type": "code",
   "execution_count": 294,
   "metadata": {
    "tags": []
   },
   "outputs": [
    {
     "output_type": "stream",
     "name": "stdout",
     "text": [
      "[['크롬', '확장', '프로그램', '개발', '회고'], ['게', '구리'], ['시종', '설', '제안', '서'], ['시종', '설', '제안', '서'], []]\n1595\n3190\n"
     ]
    }
   ],
   "source": [
    "print(X_token[:5])\n",
    "print(len(X_token))\n",
    "print(len(stemData))\n",
    "temp = []\n",
    "for n,m in zip(X_token,stemData):\n",
    "    temp.append(n+m)\n",
    "X_token = temp"
   ]
  },
  {
   "cell_type": "code",
   "execution_count": 295,
   "metadata": {
    "tags": []
   },
   "outputs": [
    {
     "output_type": "stream",
     "name": "stdout",
     "text": [
      "[['크롬', '확장', '프로그램', '개발', '회고'], ['게', '구리', 'twitch'], ['시종', '설', '제안', '서', 'googl', 'doc'], ['시종', '설', '제안', '서', 'googl', 'doc'], ['akaro', 'twitch']]\n1595\n"
     ]
    }
   ],
   "source": [
    "print(X_token[:5])\n",
    "print(len(X_token))"
   ]
  },
  {
   "cell_type": "markdown",
   "metadata": {},
   "source": [
    "# 정수 인코딩 수행"
   ]
  },
  {
   "cell_type": "code",
   "execution_count": 296,
   "metadata": {},
   "outputs": [],
   "source": [
    "max_words = 35000\n",
    "tokenizer = Tokenizer(num_words = max_words) # 상위 35,000개의 단어만 보존\n",
    "tokenizer.fit_on_texts(X_token) \n",
    "X_token = tokenizer.texts_to_sequences(X_token)"
   ]
  },
  {
   "cell_type": "code",
   "execution_count": 297,
   "metadata": {
    "scrolled": true
   },
   "outputs": [
    {
     "output_type": "stream",
     "name": "stdout",
     "text": [
      "[[486, 586, 94, 41, 1108], [146, 1109, 214], [42, 37, 53, 38, 6, 331]]\n1595\n"
     ]
    }
   ],
   "source": [
    "print(X_token[:3])\n",
    "print(len(X_token))"
   ]
  },
  {
   "cell_type": "code",
   "execution_count": 298,
   "metadata": {},
   "outputs": [],
   "source": [
    "word_to_index = tokenizer.word_index"
   ]
  },
  {
   "cell_type": "code",
   "execution_count": 299,
   "metadata": {},
   "outputs": [
    {
     "output_type": "stream",
     "name": "stdout",
     "text": [
      "단어 집합의 크기: 2176\n"
     ]
    }
   ],
   "source": [
    "vocab_size = len(word_to_index)+1\n",
    "print('단어 집합의 크기: {}'.format((vocab_size)))"
   ]
  },
  {
   "cell_type": "markdown",
   "metadata": {},
   "source": [
    "# 전체 데이터 길이 분포 확인"
   ]
  },
  {
   "cell_type": "code",
   "execution_count": 300,
   "metadata": {},
   "outputs": [
    {
     "output_type": "stream",
     "name": "stdout",
     "text": [
      "train data의 최대 길이 : 32\ntrain data의 최소 길이 : 1\ndata의 평균 길이 : 6.30846394984326\n"
     ]
    },
    {
     "output_type": "display_data",
     "data": {
      "text/plain": "<Figure size 432x288 with 1 Axes>",
      "image/svg+xml": "<?xml version=\"1.0\" encoding=\"utf-8\" standalone=\"no\"?>\r\n<!DOCTYPE svg PUBLIC \"-//W3C//DTD SVG 1.1//EN\"\r\n  \"http://www.w3.org/Graphics/SVG/1.1/DTD/svg11.dtd\">\r\n<!-- Created with matplotlib (https://matplotlib.org/) -->\r\n<svg height=\"262.19625pt\" version=\"1.1\" viewBox=\"0 0 388.965625 262.19625\" width=\"388.965625pt\" xmlns=\"http://www.w3.org/2000/svg\" xmlns:xlink=\"http://www.w3.org/1999/xlink\">\r\n <metadata>\r\n  <rdf:RDF xmlns:cc=\"http://creativecommons.org/ns#\" xmlns:dc=\"http://purl.org/dc/elements/1.1/\" xmlns:rdf=\"http://www.w3.org/1999/02/22-rdf-syntax-ns#\">\r\n   <cc:Work>\r\n    <dc:type rdf:resource=\"http://purl.org/dc/dcmitype/StillImage\"/>\r\n    <dc:date>2021-04-20T13:10:55.795118</dc:date>\r\n    <dc:format>image/svg+xml</dc:format>\r\n    <dc:creator>\r\n     <cc:Agent>\r\n      <dc:title>Matplotlib v3.3.4, https://matplotlib.org/</dc:title>\r\n     </cc:Agent>\r\n    </dc:creator>\r\n   </cc:Work>\r\n  </rdf:RDF>\r\n </metadata>\r\n <defs>\r\n  <style type=\"text/css\">*{stroke-linecap:butt;stroke-linejoin:round;}</style>\r\n </defs>\r\n <g id=\"figure_1\">\r\n  <g id=\"patch_1\">\r\n   <path d=\"M 0 262.19625 \r\nL 388.965625 262.19625 \r\nL 388.965625 0 \r\nL 0 0 \r\nz\r\n\" style=\"fill:none;\"/>\r\n  </g>\r\n  <g id=\"axes_1\">\r\n   <g id=\"patch_2\">\r\n    <path d=\"M 46.965625 224.64 \r\nL 381.765625 224.64 \r\nL 381.765625 7.2 \r\nL 46.965625 7.2 \r\nz\r\n\" style=\"fill:#ffffff;\"/>\r\n   </g>\r\n   <g id=\"patch_3\">\r\n    <path clip-path=\"url(#p55b403a1af)\" d=\"M 62.183807 224.64 \r\nL 65.227443 224.64 \r\nL 65.227443 161.296134 \r\nL 62.183807 161.296134 \r\nz\r\n\" style=\"fill:#1f77b4;\"/>\r\n   </g>\r\n   <g id=\"patch_4\">\r\n    <path clip-path=\"url(#p55b403a1af)\" d=\"M 65.227443 224.64 \r\nL 68.27108 224.64 \r\nL 68.27108 224.64 \r\nL 65.227443 224.64 \r\nz\r\n\" style=\"fill:#1f77b4;\"/>\r\n   </g>\r\n   <g id=\"patch_5\">\r\n    <path clip-path=\"url(#p55b403a1af)\" d=\"M 68.27108 224.64 \r\nL 71.314716 224.64 \r\nL 71.314716 224.64 \r\nL 68.27108 224.64 \r\nz\r\n\" style=\"fill:#1f77b4;\"/>\r\n   </g>\r\n   <g id=\"patch_6\">\r\n    <path clip-path=\"url(#p55b403a1af)\" d=\"M 71.314716 224.64 \r\nL 74.358352 224.64 \r\nL 74.358352 118.25479 \r\nL 71.314716 118.25479 \r\nz\r\n\" style=\"fill:#1f77b4;\"/>\r\n   </g>\r\n   <g id=\"patch_7\">\r\n    <path clip-path=\"url(#p55b403a1af)\" d=\"M 74.358352 224.64 \r\nL 77.401989 224.64 \r\nL 77.401989 224.64 \r\nL 74.358352 224.64 \r\nz\r\n\" style=\"fill:#1f77b4;\"/>\r\n   </g>\r\n   <g id=\"patch_8\">\r\n    <path clip-path=\"url(#p55b403a1af)\" d=\"M 77.401989 224.64 \r\nL 80.445625 224.64 \r\nL 80.445625 224.64 \r\nL 77.401989 224.64 \r\nz\r\n\" style=\"fill:#1f77b4;\"/>\r\n   </g>\r\n   <g id=\"patch_9\">\r\n    <path clip-path=\"url(#p55b403a1af)\" d=\"M 80.445625 224.64 \r\nL 83.489261 224.64 \r\nL 83.489261 68.716639 \r\nL 80.445625 68.716639 \r\nz\r\n\" style=\"fill:#1f77b4;\"/>\r\n   </g>\r\n   <g id=\"patch_10\">\r\n    <path clip-path=\"url(#p55b403a1af)\" d=\"M 83.489261 224.64 \r\nL 86.532898 224.64 \r\nL 86.532898 224.64 \r\nL 83.489261 224.64 \r\nz\r\n\" style=\"fill:#1f77b4;\"/>\r\n   </g>\r\n   <g id=\"patch_11\">\r\n    <path clip-path=\"url(#p55b403a1af)\" d=\"M 86.532898 224.64 \r\nL 89.576534 224.64 \r\nL 89.576534 224.64 \r\nL 86.532898 224.64 \r\nz\r\n\" style=\"fill:#1f77b4;\"/>\r\n   </g>\r\n   <g id=\"patch_12\">\r\n    <path clip-path=\"url(#p55b403a1af)\" d=\"M 89.576534 224.64 \r\nL 92.62017 224.64 \r\nL 92.62017 17.554286 \r\nL 89.576534 17.554286 \r\nz\r\n\" style=\"fill:#1f77b4;\"/>\r\n   </g>\r\n   <g id=\"patch_13\">\r\n    <path clip-path=\"url(#p55b403a1af)\" d=\"M 92.62017 224.64 \r\nL 95.663807 224.64 \r\nL 95.663807 224.64 \r\nL 92.62017 224.64 \r\nz\r\n\" style=\"fill:#1f77b4;\"/>\r\n   </g>\r\n   <g id=\"patch_14\">\r\n    <path clip-path=\"url(#p55b403a1af)\" d=\"M 95.663807 224.64 \r\nL 98.707443 224.64 \r\nL 98.707443 224.64 \r\nL 95.663807 224.64 \r\nz\r\n\" style=\"fill:#1f77b4;\"/>\r\n   </g>\r\n   <g id=\"patch_15\">\r\n    <path clip-path=\"url(#p55b403a1af)\" d=\"M 98.707443 224.64 \r\nL 101.75108 224.64 \r\nL 101.75108 110.133782 \r\nL 98.707443 110.133782 \r\nz\r\n\" style=\"fill:#1f77b4;\"/>\r\n   </g>\r\n   <g id=\"patch_16\">\r\n    <path clip-path=\"url(#p55b403a1af)\" d=\"M 101.75108 224.64 \r\nL 104.794716 224.64 \r\nL 104.794716 224.64 \r\nL 101.75108 224.64 \r\nz\r\n\" style=\"fill:#1f77b4;\"/>\r\n   </g>\r\n   <g id=\"patch_17\">\r\n    <path clip-path=\"url(#p55b403a1af)\" d=\"M 104.794716 224.64 \r\nL 107.838352 224.64 \r\nL 107.838352 224.64 \r\nL 104.794716 224.64 \r\nz\r\n\" style=\"fill:#1f77b4;\"/>\r\n   </g>\r\n   <g id=\"patch_18\">\r\n    <path clip-path=\"url(#p55b403a1af)\" d=\"M 107.838352 224.64 \r\nL 110.881989 224.64 \r\nL 110.881989 224.64 \r\nL 107.838352 224.64 \r\nz\r\n\" style=\"fill:#1f77b4;\"/>\r\n   </g>\r\n   <g id=\"patch_19\">\r\n    <path clip-path=\"url(#p55b403a1af)\" d=\"M 110.881989 224.64 \r\nL 113.925625 224.64 \r\nL 113.925625 113.382185 \r\nL 110.881989 113.382185 \r\nz\r\n\" style=\"fill:#1f77b4;\"/>\r\n   </g>\r\n   <g id=\"patch_20\">\r\n    <path clip-path=\"url(#p55b403a1af)\" d=\"M 113.925625 224.64 \r\nL 116.969261 224.64 \r\nL 116.969261 224.64 \r\nL 113.925625 224.64 \r\nz\r\n\" style=\"fill:#1f77b4;\"/>\r\n   </g>\r\n   <g id=\"patch_21\">\r\n    <path clip-path=\"url(#p55b403a1af)\" d=\"M 116.969261 224.64 \r\nL 120.012898 224.64 \r\nL 120.012898 224.64 \r\nL 116.969261 224.64 \r\nz\r\n\" style=\"fill:#1f77b4;\"/>\r\n   </g>\r\n   <g id=\"patch_22\">\r\n    <path clip-path=\"url(#p55b403a1af)\" d=\"M 120.012898 224.64 \r\nL 123.056534 224.64 \r\nL 123.056534 97.952269 \r\nL 120.012898 97.952269 \r\nz\r\n\" style=\"fill:#1f77b4;\"/>\r\n   </g>\r\n   <g id=\"patch_23\">\r\n    <path clip-path=\"url(#p55b403a1af)\" d=\"M 123.056534 224.64 \r\nL 126.10017 224.64 \r\nL 126.10017 224.64 \r\nL 123.056534 224.64 \r\nz\r\n\" style=\"fill:#1f77b4;\"/>\r\n   </g>\r\n   <g id=\"patch_24\">\r\n    <path clip-path=\"url(#p55b403a1af)\" d=\"M 126.10017 224.64 \r\nL 129.143807 224.64 \r\nL 129.143807 224.64 \r\nL 126.10017 224.64 \r\nz\r\n\" style=\"fill:#1f77b4;\"/>\r\n   </g>\r\n   <g id=\"patch_25\">\r\n    <path clip-path=\"url(#p55b403a1af)\" d=\"M 129.143807 224.64 \r\nL 132.187443 224.64 \r\nL 132.187443 125.563697 \r\nL 129.143807 125.563697 \r\nz\r\n\" style=\"fill:#1f77b4;\"/>\r\n   </g>\r\n   <g id=\"patch_26\">\r\n    <path clip-path=\"url(#p55b403a1af)\" d=\"M 132.187443 224.64 \r\nL 135.23108 224.64 \r\nL 135.23108 224.64 \r\nL 132.187443 224.64 \r\nz\r\n\" style=\"fill:#1f77b4;\"/>\r\n   </g>\r\n   <g id=\"patch_27\">\r\n    <path clip-path=\"url(#p55b403a1af)\" d=\"M 135.23108 224.64 \r\nL 138.274716 224.64 \r\nL 138.274716 224.64 \r\nL 135.23108 224.64 \r\nz\r\n\" style=\"fill:#1f77b4;\"/>\r\n   </g>\r\n   <g id=\"patch_28\">\r\n    <path clip-path=\"url(#p55b403a1af)\" d=\"M 138.274716 224.64 \r\nL 141.318352 224.64 \r\nL 141.318352 140.993613 \r\nL 138.274716 140.993613 \r\nz\r\n\" style=\"fill:#1f77b4;\"/>\r\n   </g>\r\n   <g id=\"patch_29\">\r\n    <path clip-path=\"url(#p55b403a1af)\" d=\"M 141.318352 224.64 \r\nL 144.361989 224.64 \r\nL 144.361989 224.64 \r\nL 141.318352 224.64 \r\nz\r\n\" style=\"fill:#1f77b4;\"/>\r\n   </g>\r\n   <g id=\"patch_30\">\r\n    <path clip-path=\"url(#p55b403a1af)\" d=\"M 144.361989 224.64 \r\nL 147.405625 224.64 \r\nL 147.405625 224.64 \r\nL 144.361989 224.64 \r\nz\r\n\" style=\"fill:#1f77b4;\"/>\r\n   </g>\r\n   <g id=\"patch_31\">\r\n    <path clip-path=\"url(#p55b403a1af)\" d=\"M 147.405625 224.64 \r\nL 150.449261 224.64 \r\nL 150.449261 224.64 \r\nL 147.405625 224.64 \r\nz\r\n\" style=\"fill:#1f77b4;\"/>\r\n   </g>\r\n   <g id=\"patch_32\">\r\n    <path clip-path=\"url(#p55b403a1af)\" d=\"M 150.449261 224.64 \r\nL 153.492898 224.64 \r\nL 153.492898 146.678319 \r\nL 150.449261 146.678319 \r\nz\r\n\" style=\"fill:#1f77b4;\"/>\r\n   </g>\r\n   <g id=\"patch_33\">\r\n    <path clip-path=\"url(#p55b403a1af)\" d=\"M 153.492898 224.64 \r\nL 156.536534 224.64 \r\nL 156.536534 224.64 \r\nL 153.492898 224.64 \r\nz\r\n\" style=\"fill:#1f77b4;\"/>\r\n   </g>\r\n   <g id=\"patch_34\">\r\n    <path clip-path=\"url(#p55b403a1af)\" d=\"M 156.536534 224.64 \r\nL 159.58017 224.64 \r\nL 159.58017 224.64 \r\nL 156.536534 224.64 \r\nz\r\n\" style=\"fill:#1f77b4;\"/>\r\n   </g>\r\n   <g id=\"patch_35\">\r\n    <path clip-path=\"url(#p55b403a1af)\" d=\"M 159.58017 224.64 \r\nL 162.623807 224.64 \r\nL 162.623807 193.780168 \r\nL 159.58017 193.780168 \r\nz\r\n\" style=\"fill:#1f77b4;\"/>\r\n   </g>\r\n   <g id=\"patch_36\">\r\n    <path clip-path=\"url(#p55b403a1af)\" d=\"M 162.623807 224.64 \r\nL 165.667443 224.64 \r\nL 165.667443 224.64 \r\nL 162.623807 224.64 \r\nz\r\n\" style=\"fill:#1f77b4;\"/>\r\n   </g>\r\n   <g id=\"patch_37\">\r\n    <path clip-path=\"url(#p55b403a1af)\" d=\"M 165.667443 224.64 \r\nL 168.71108 224.64 \r\nL 168.71108 224.64 \r\nL 165.667443 224.64 \r\nz\r\n\" style=\"fill:#1f77b4;\"/>\r\n   </g>\r\n   <g id=\"patch_38\">\r\n    <path clip-path=\"url(#p55b403a1af)\" d=\"M 168.71108 224.64 \r\nL 171.754716 224.64 \r\nL 171.754716 184.847059 \r\nL 168.71108 184.847059 \r\nz\r\n\" style=\"fill:#1f77b4;\"/>\r\n   </g>\r\n   <g id=\"patch_39\">\r\n    <path clip-path=\"url(#p55b403a1af)\" d=\"M 171.754716 224.64 \r\nL 174.798352 224.64 \r\nL 174.798352 224.64 \r\nL 171.754716 224.64 \r\nz\r\n\" style=\"fill:#1f77b4;\"/>\r\n   </g>\r\n   <g id=\"patch_40\">\r\n    <path clip-path=\"url(#p55b403a1af)\" d=\"M 174.798352 224.64 \r\nL 177.841989 224.64 \r\nL 177.841989 224.64 \r\nL 174.798352 224.64 \r\nz\r\n\" style=\"fill:#1f77b4;\"/>\r\n   </g>\r\n   <g id=\"patch_41\">\r\n    <path clip-path=\"url(#p55b403a1af)\" d=\"M 177.841989 224.64 \r\nL 180.885625 224.64 \r\nL 180.885625 211.646387 \r\nL 177.841989 211.646387 \r\nz\r\n\" style=\"fill:#1f77b4;\"/>\r\n   </g>\r\n   <g id=\"patch_42\">\r\n    <path clip-path=\"url(#p55b403a1af)\" d=\"M 180.885625 224.64 \r\nL 183.929261 224.64 \r\nL 183.929261 224.64 \r\nL 180.885625 224.64 \r\nz\r\n\" style=\"fill:#1f77b4;\"/>\r\n   </g>\r\n   <g id=\"patch_43\">\r\n    <path clip-path=\"url(#p55b403a1af)\" d=\"M 183.929261 224.64 \r\nL 186.972898 224.64 \r\nL 186.972898 224.64 \r\nL 183.929261 224.64 \r\nz\r\n\" style=\"fill:#1f77b4;\"/>\r\n   </g>\r\n   <g id=\"patch_44\">\r\n    <path clip-path=\"url(#p55b403a1af)\" d=\"M 186.972898 224.64 \r\nL 190.016534 224.64 \r\nL 190.016534 210.834286 \r\nL 186.972898 210.834286 \r\nz\r\n\" style=\"fill:#1f77b4;\"/>\r\n   </g>\r\n   <g id=\"patch_45\">\r\n    <path clip-path=\"url(#p55b403a1af)\" d=\"M 190.016534 224.64 \r\nL 193.06017 224.64 \r\nL 193.06017 224.64 \r\nL 190.016534 224.64 \r\nz\r\n\" style=\"fill:#1f77b4;\"/>\r\n   </g>\r\n   <g id=\"patch_46\">\r\n    <path clip-path=\"url(#p55b403a1af)\" d=\"M 193.06017 224.64 \r\nL 196.103807 224.64 \r\nL 196.103807 224.64 \r\nL 193.06017 224.64 \r\nz\r\n\" style=\"fill:#1f77b4;\"/>\r\n   </g>\r\n   <g id=\"patch_47\">\r\n    <path clip-path=\"url(#p55b403a1af)\" d=\"M 196.103807 224.64 \r\nL 199.147443 224.64 \r\nL 199.147443 224.64 \r\nL 196.103807 224.64 \r\nz\r\n\" style=\"fill:#1f77b4;\"/>\r\n   </g>\r\n   <g id=\"patch_48\">\r\n    <path clip-path=\"url(#p55b403a1af)\" d=\"M 199.147443 224.64 \r\nL 202.19108 224.64 \r\nL 202.19108 198.652773 \r\nL 199.147443 198.652773 \r\nz\r\n\" style=\"fill:#1f77b4;\"/>\r\n   </g>\r\n   <g id=\"patch_49\">\r\n    <path clip-path=\"url(#p55b403a1af)\" d=\"M 202.19108 224.64 \r\nL 205.234716 224.64 \r\nL 205.234716 224.64 \r\nL 202.19108 224.64 \r\nz\r\n\" style=\"fill:#1f77b4;\"/>\r\n   </g>\r\n   <g id=\"patch_50\">\r\n    <path clip-path=\"url(#p55b403a1af)\" d=\"M 205.234716 224.64 \r\nL 208.278352 224.64 \r\nL 208.278352 224.64 \r\nL 205.234716 224.64 \r\nz\r\n\" style=\"fill:#1f77b4;\"/>\r\n   </g>\r\n   <g id=\"patch_51\">\r\n    <path clip-path=\"url(#p55b403a1af)\" d=\"M 208.278352 224.64 \r\nL 211.321989 224.64 \r\nL 211.321989 221.391597 \r\nL 208.278352 221.391597 \r\nz\r\n\" style=\"fill:#1f77b4;\"/>\r\n   </g>\r\n   <g id=\"patch_52\">\r\n    <path clip-path=\"url(#p55b403a1af)\" d=\"M 211.321989 224.64 \r\nL 214.365625 224.64 \r\nL 214.365625 224.64 \r\nL 211.321989 224.64 \r\nz\r\n\" style=\"fill:#1f77b4;\"/>\r\n   </g>\r\n   <g id=\"patch_53\">\r\n    <path clip-path=\"url(#p55b403a1af)\" d=\"M 214.365625 224.64 \r\nL 217.409261 224.64 \r\nL 217.409261 224.64 \r\nL 214.365625 224.64 \r\nz\r\n\" style=\"fill:#1f77b4;\"/>\r\n   </g>\r\n   <g id=\"patch_54\">\r\n    <path clip-path=\"url(#p55b403a1af)\" d=\"M 217.409261 224.64 \r\nL 220.452898 224.64 \r\nL 220.452898 221.391597 \r\nL 217.409261 221.391597 \r\nz\r\n\" style=\"fill:#1f77b4;\"/>\r\n   </g>\r\n   <g id=\"patch_55\">\r\n    <path clip-path=\"url(#p55b403a1af)\" d=\"M 220.452898 224.64 \r\nL 223.496534 224.64 \r\nL 223.496534 224.64 \r\nL 220.452898 224.64 \r\nz\r\n\" style=\"fill:#1f77b4;\"/>\r\n   </g>\r\n   <g id=\"patch_56\">\r\n    <path clip-path=\"url(#p55b403a1af)\" d=\"M 223.496534 224.64 \r\nL 226.54017 224.64 \r\nL 226.54017 224.64 \r\nL 223.496534 224.64 \r\nz\r\n\" style=\"fill:#1f77b4;\"/>\r\n   </g>\r\n   <g id=\"patch_57\">\r\n    <path clip-path=\"url(#p55b403a1af)\" d=\"M 226.54017 224.64 \r\nL 229.583807 224.64 \r\nL 229.583807 222.203697 \r\nL 226.54017 222.203697 \r\nz\r\n\" style=\"fill:#1f77b4;\"/>\r\n   </g>\r\n   <g id=\"patch_58\">\r\n    <path clip-path=\"url(#p55b403a1af)\" d=\"M 229.583807 224.64 \r\nL 232.627443 224.64 \r\nL 232.627443 224.64 \r\nL 229.583807 224.64 \r\nz\r\n\" style=\"fill:#1f77b4;\"/>\r\n   </g>\r\n   <g id=\"patch_59\">\r\n    <path clip-path=\"url(#p55b403a1af)\" d=\"M 232.627443 224.64 \r\nL 235.67108 224.64 \r\nL 235.67108 224.64 \r\nL 232.627443 224.64 \r\nz\r\n\" style=\"fill:#1f77b4;\"/>\r\n   </g>\r\n   <g id=\"patch_60\">\r\n    <path clip-path=\"url(#p55b403a1af)\" d=\"M 235.67108 224.64 \r\nL 238.714716 224.64 \r\nL 238.714716 224.64 \r\nL 235.67108 224.64 \r\nz\r\n\" style=\"fill:#1f77b4;\"/>\r\n   </g>\r\n   <g id=\"patch_61\">\r\n    <path clip-path=\"url(#p55b403a1af)\" d=\"M 238.714716 224.64 \r\nL 241.758352 224.64 \r\nL 241.758352 223.827899 \r\nL 238.714716 223.827899 \r\nz\r\n\" style=\"fill:#1f77b4;\"/>\r\n   </g>\r\n   <g id=\"patch_62\">\r\n    <path clip-path=\"url(#p55b403a1af)\" d=\"M 241.758352 224.64 \r\nL 244.801989 224.64 \r\nL 244.801989 224.64 \r\nL 241.758352 224.64 \r\nz\r\n\" style=\"fill:#1f77b4;\"/>\r\n   </g>\r\n   <g id=\"patch_63\">\r\n    <path clip-path=\"url(#p55b403a1af)\" d=\"M 244.801989 224.64 \r\nL 247.845625 224.64 \r\nL 247.845625 224.64 \r\nL 244.801989 224.64 \r\nz\r\n\" style=\"fill:#1f77b4;\"/>\r\n   </g>\r\n   <g id=\"patch_64\">\r\n    <path clip-path=\"url(#p55b403a1af)\" d=\"M 247.845625 224.64 \r\nL 250.889261 224.64 \r\nL 250.889261 218.143193 \r\nL 247.845625 218.143193 \r\nz\r\n\" style=\"fill:#1f77b4;\"/>\r\n   </g>\r\n   <g id=\"patch_65\">\r\n    <path clip-path=\"url(#p55b403a1af)\" d=\"M 250.889261 224.64 \r\nL 253.932898 224.64 \r\nL 253.932898 224.64 \r\nL 250.889261 224.64 \r\nz\r\n\" style=\"fill:#1f77b4;\"/>\r\n   </g>\r\n   <g id=\"patch_66\">\r\n    <path clip-path=\"url(#p55b403a1af)\" d=\"M 253.932898 224.64 \r\nL 256.976534 224.64 \r\nL 256.976534 224.64 \r\nL 253.932898 224.64 \r\nz\r\n\" style=\"fill:#1f77b4;\"/>\r\n   </g>\r\n   <g id=\"patch_67\">\r\n    <path clip-path=\"url(#p55b403a1af)\" d=\"M 256.976534 224.64 \r\nL 260.02017 224.64 \r\nL 260.02017 223.827899 \r\nL 256.976534 223.827899 \r\nz\r\n\" style=\"fill:#1f77b4;\"/>\r\n   </g>\r\n   <g id=\"patch_68\">\r\n    <path clip-path=\"url(#p55b403a1af)\" d=\"M 260.02017 224.64 \r\nL 263.063807 224.64 \r\nL 263.063807 224.64 \r\nL 260.02017 224.64 \r\nz\r\n\" style=\"fill:#1f77b4;\"/>\r\n   </g>\r\n   <g id=\"patch_69\">\r\n    <path clip-path=\"url(#p55b403a1af)\" d=\"M 263.063807 224.64 \r\nL 266.107443 224.64 \r\nL 266.107443 224.64 \r\nL 263.063807 224.64 \r\nz\r\n\" style=\"fill:#1f77b4;\"/>\r\n   </g>\r\n   <g id=\"patch_70\">\r\n    <path clip-path=\"url(#p55b403a1af)\" d=\"M 266.107443 224.64 \r\nL 269.15108 224.64 \r\nL 269.15108 223.827899 \r\nL 266.107443 223.827899 \r\nz\r\n\" style=\"fill:#1f77b4;\"/>\r\n   </g>\r\n   <g id=\"patch_71\">\r\n    <path clip-path=\"url(#p55b403a1af)\" d=\"M 269.15108 224.64 \r\nL 272.194716 224.64 \r\nL 272.194716 224.64 \r\nL 269.15108 224.64 \r\nz\r\n\" style=\"fill:#1f77b4;\"/>\r\n   </g>\r\n   <g id=\"patch_72\">\r\n    <path clip-path=\"url(#p55b403a1af)\" d=\"M 272.194716 224.64 \r\nL 275.238352 224.64 \r\nL 275.238352 224.64 \r\nL 272.194716 224.64 \r\nz\r\n\" style=\"fill:#1f77b4;\"/>\r\n   </g>\r\n   <g id=\"patch_73\">\r\n    <path clip-path=\"url(#p55b403a1af)\" d=\"M 275.238352 224.64 \r\nL 278.281989 224.64 \r\nL 278.281989 223.827899 \r\nL 275.238352 223.827899 \r\nz\r\n\" style=\"fill:#1f77b4;\"/>\r\n   </g>\r\n   <g id=\"patch_74\">\r\n    <path clip-path=\"url(#p55b403a1af)\" d=\"M 278.281989 224.64 \r\nL 281.325625 224.64 \r\nL 281.325625 224.64 \r\nL 278.281989 224.64 \r\nz\r\n\" style=\"fill:#1f77b4;\"/>\r\n   </g>\r\n   <g id=\"patch_75\">\r\n    <path clip-path=\"url(#p55b403a1af)\" d=\"M 281.325625 224.64 \r\nL 284.369261 224.64 \r\nL 284.369261 224.64 \r\nL 281.325625 224.64 \r\nz\r\n\" style=\"fill:#1f77b4;\"/>\r\n   </g>\r\n   <g id=\"patch_76\">\r\n    <path clip-path=\"url(#p55b403a1af)\" d=\"M 284.369261 224.64 \r\nL 287.412898 224.64 \r\nL 287.412898 224.64 \r\nL 284.369261 224.64 \r\nz\r\n\" style=\"fill:#1f77b4;\"/>\r\n   </g>\r\n   <g id=\"patch_77\">\r\n    <path clip-path=\"url(#p55b403a1af)\" d=\"M 287.412898 224.64 \r\nL 290.456534 224.64 \r\nL 290.456534 224.64 \r\nL 287.412898 224.64 \r\nz\r\n\" style=\"fill:#1f77b4;\"/>\r\n   </g>\r\n   <g id=\"patch_78\">\r\n    <path clip-path=\"url(#p55b403a1af)\" d=\"M 290.456534 224.64 \r\nL 293.50017 224.64 \r\nL 293.50017 224.64 \r\nL 290.456534 224.64 \r\nz\r\n\" style=\"fill:#1f77b4;\"/>\r\n   </g>\r\n   <g id=\"patch_79\">\r\n    <path clip-path=\"url(#p55b403a1af)\" d=\"M 293.50017 224.64 \r\nL 296.543807 224.64 \r\nL 296.543807 224.64 \r\nL 293.50017 224.64 \r\nz\r\n\" style=\"fill:#1f77b4;\"/>\r\n   </g>\r\n   <g id=\"patch_80\">\r\n    <path clip-path=\"url(#p55b403a1af)\" d=\"M 296.543807 224.64 \r\nL 299.587443 224.64 \r\nL 299.587443 223.827899 \r\nL 296.543807 223.827899 \r\nz\r\n\" style=\"fill:#1f77b4;\"/>\r\n   </g>\r\n   <g id=\"patch_81\">\r\n    <path clip-path=\"url(#p55b403a1af)\" d=\"M 299.587443 224.64 \r\nL 302.63108 224.64 \r\nL 302.63108 224.64 \r\nL 299.587443 224.64 \r\nz\r\n\" style=\"fill:#1f77b4;\"/>\r\n   </g>\r\n   <g id=\"patch_82\">\r\n    <path clip-path=\"url(#p55b403a1af)\" d=\"M 302.63108 224.64 \r\nL 305.674716 224.64 \r\nL 305.674716 224.64 \r\nL 302.63108 224.64 \r\nz\r\n\" style=\"fill:#1f77b4;\"/>\r\n   </g>\r\n   <g id=\"patch_83\">\r\n    <path clip-path=\"url(#p55b403a1af)\" d=\"M 305.674716 224.64 \r\nL 308.718352 224.64 \r\nL 308.718352 224.64 \r\nL 305.674716 224.64 \r\nz\r\n\" style=\"fill:#1f77b4;\"/>\r\n   </g>\r\n   <g id=\"patch_84\">\r\n    <path clip-path=\"url(#p55b403a1af)\" d=\"M 308.718352 224.64 \r\nL 311.761989 224.64 \r\nL 311.761989 224.64 \r\nL 308.718352 224.64 \r\nz\r\n\" style=\"fill:#1f77b4;\"/>\r\n   </g>\r\n   <g id=\"patch_85\">\r\n    <path clip-path=\"url(#p55b403a1af)\" d=\"M 311.761989 224.64 \r\nL 314.805625 224.64 \r\nL 314.805625 224.64 \r\nL 311.761989 224.64 \r\nz\r\n\" style=\"fill:#1f77b4;\"/>\r\n   </g>\r\n   <g id=\"patch_86\">\r\n    <path clip-path=\"url(#p55b403a1af)\" d=\"M 314.805625 224.64 \r\nL 317.849261 224.64 \r\nL 317.849261 224.64 \r\nL 314.805625 224.64 \r\nz\r\n\" style=\"fill:#1f77b4;\"/>\r\n   </g>\r\n   <g id=\"patch_87\">\r\n    <path clip-path=\"url(#p55b403a1af)\" d=\"M 317.849261 224.64 \r\nL 320.892898 224.64 \r\nL 320.892898 224.64 \r\nL 317.849261 224.64 \r\nz\r\n\" style=\"fill:#1f77b4;\"/>\r\n   </g>\r\n   <g id=\"patch_88\">\r\n    <path clip-path=\"url(#p55b403a1af)\" d=\"M 320.892898 224.64 \r\nL 323.936534 224.64 \r\nL 323.936534 224.64 \r\nL 320.892898 224.64 \r\nz\r\n\" style=\"fill:#1f77b4;\"/>\r\n   </g>\r\n   <g id=\"patch_89\">\r\n    <path clip-path=\"url(#p55b403a1af)\" d=\"M 323.936534 224.64 \r\nL 326.98017 224.64 \r\nL 326.98017 224.64 \r\nL 323.936534 224.64 \r\nz\r\n\" style=\"fill:#1f77b4;\"/>\r\n   </g>\r\n   <g id=\"patch_90\">\r\n    <path clip-path=\"url(#p55b403a1af)\" d=\"M 326.98017 224.64 \r\nL 330.023807 224.64 \r\nL 330.023807 224.64 \r\nL 326.98017 224.64 \r\nz\r\n\" style=\"fill:#1f77b4;\"/>\r\n   </g>\r\n   <g id=\"patch_91\">\r\n    <path clip-path=\"url(#p55b403a1af)\" d=\"M 330.023807 224.64 \r\nL 333.067443 224.64 \r\nL 333.067443 224.64 \r\nL 330.023807 224.64 \r\nz\r\n\" style=\"fill:#1f77b4;\"/>\r\n   </g>\r\n   <g id=\"patch_92\">\r\n    <path clip-path=\"url(#p55b403a1af)\" d=\"M 333.067443 224.64 \r\nL 336.11108 224.64 \r\nL 336.11108 224.64 \r\nL 333.067443 224.64 \r\nz\r\n\" style=\"fill:#1f77b4;\"/>\r\n   </g>\r\n   <g id=\"patch_93\">\r\n    <path clip-path=\"url(#p55b403a1af)\" d=\"M 336.11108 224.64 \r\nL 339.154716 224.64 \r\nL 339.154716 224.64 \r\nL 336.11108 224.64 \r\nz\r\n\" style=\"fill:#1f77b4;\"/>\r\n   </g>\r\n   <g id=\"patch_94\">\r\n    <path clip-path=\"url(#p55b403a1af)\" d=\"M 339.154716 224.64 \r\nL 342.198352 224.64 \r\nL 342.198352 224.64 \r\nL 339.154716 224.64 \r\nz\r\n\" style=\"fill:#1f77b4;\"/>\r\n   </g>\r\n   <g id=\"patch_95\">\r\n    <path clip-path=\"url(#p55b403a1af)\" d=\"M 342.198352 224.64 \r\nL 345.241989 224.64 \r\nL 345.241989 224.64 \r\nL 342.198352 224.64 \r\nz\r\n\" style=\"fill:#1f77b4;\"/>\r\n   </g>\r\n   <g id=\"patch_96\">\r\n    <path clip-path=\"url(#p55b403a1af)\" d=\"M 345.241989 224.64 \r\nL 348.285625 224.64 \r\nL 348.285625 224.64 \r\nL 345.241989 224.64 \r\nz\r\n\" style=\"fill:#1f77b4;\"/>\r\n   </g>\r\n   <g id=\"patch_97\">\r\n    <path clip-path=\"url(#p55b403a1af)\" d=\"M 348.285625 224.64 \r\nL 351.329261 224.64 \r\nL 351.329261 224.64 \r\nL 348.285625 224.64 \r\nz\r\n\" style=\"fill:#1f77b4;\"/>\r\n   </g>\r\n   <g id=\"patch_98\">\r\n    <path clip-path=\"url(#p55b403a1af)\" d=\"M 351.329261 224.64 \r\nL 354.372898 224.64 \r\nL 354.372898 224.64 \r\nL 351.329261 224.64 \r\nz\r\n\" style=\"fill:#1f77b4;\"/>\r\n   </g>\r\n   <g id=\"patch_99\">\r\n    <path clip-path=\"url(#p55b403a1af)\" d=\"M 354.372898 224.64 \r\nL 357.416534 224.64 \r\nL 357.416534 224.64 \r\nL 354.372898 224.64 \r\nz\r\n\" style=\"fill:#1f77b4;\"/>\r\n   </g>\r\n   <g id=\"patch_100\">\r\n    <path clip-path=\"url(#p55b403a1af)\" d=\"M 357.416534 224.64 \r\nL 360.46017 224.64 \r\nL 360.46017 224.64 \r\nL 357.416534 224.64 \r\nz\r\n\" style=\"fill:#1f77b4;\"/>\r\n   </g>\r\n   <g id=\"patch_101\">\r\n    <path clip-path=\"url(#p55b403a1af)\" d=\"M 360.46017 224.64 \r\nL 363.503807 224.64 \r\nL 363.503807 224.64 \r\nL 360.46017 224.64 \r\nz\r\n\" style=\"fill:#1f77b4;\"/>\r\n   </g>\r\n   <g id=\"patch_102\">\r\n    <path clip-path=\"url(#p55b403a1af)\" d=\"M 363.503807 224.64 \r\nL 366.547443 224.64 \r\nL 366.547443 218.143193 \r\nL 363.503807 218.143193 \r\nz\r\n\" style=\"fill:#1f77b4;\"/>\r\n   </g>\r\n   <g id=\"matplotlib.axis_1\">\r\n    <g id=\"xtick_1\">\r\n     <g id=\"line2d_1\">\r\n      <defs>\r\n       <path d=\"M 0 0 \r\nL 0 3.5 \r\n\" id=\"m7ac36fc1b7\" style=\"stroke:#000000;stroke-width:0.8;\"/>\r\n      </defs>\r\n      <g>\r\n       <use style=\"stroke:#000000;stroke-width:0.8;\" x=\"52.365625\" xlink:href=\"#m7ac36fc1b7\" y=\"224.64\"/>\r\n      </g>\r\n     </g>\r\n     <g id=\"text_1\">\r\n      <!-- 0 -->\r\n      <g transform=\"translate(49.184375 239.238438)scale(0.1 -0.1)\">\r\n       <defs>\r\n        <path d=\"M 31.78125 66.40625 \r\nQ 24.171875 66.40625 20.328125 58.90625 \r\nQ 16.5 51.421875 16.5 36.375 \r\nQ 16.5 21.390625 20.328125 13.890625 \r\nQ 24.171875 6.390625 31.78125 6.390625 \r\nQ 39.453125 6.390625 43.28125 13.890625 \r\nQ 47.125 21.390625 47.125 36.375 \r\nQ 47.125 51.421875 43.28125 58.90625 \r\nQ 39.453125 66.40625 31.78125 66.40625 \r\nz\r\nM 31.78125 74.21875 \r\nQ 44.046875 74.21875 50.515625 64.515625 \r\nQ 56.984375 54.828125 56.984375 36.375 \r\nQ 56.984375 17.96875 50.515625 8.265625 \r\nQ 44.046875 -1.421875 31.78125 -1.421875 \r\nQ 19.53125 -1.421875 13.0625 8.265625 \r\nQ 6.59375 17.96875 6.59375 36.375 \r\nQ 6.59375 54.828125 13.0625 64.515625 \r\nQ 19.53125 74.21875 31.78125 74.21875 \r\nz\r\n\" id=\"DejaVuSans-48\"/>\r\n       </defs>\r\n       <use xlink:href=\"#DejaVuSans-48\"/>\r\n      </g>\r\n     </g>\r\n    </g>\r\n    <g id=\"xtick_2\">\r\n     <g id=\"line2d_2\">\r\n      <g>\r\n       <use style=\"stroke:#000000;stroke-width:0.8;\" x=\"101.456534\" xlink:href=\"#m7ac36fc1b7\" y=\"224.64\"/>\r\n      </g>\r\n     </g>\r\n     <g id=\"text_2\">\r\n      <!-- 5 -->\r\n      <g transform=\"translate(98.275284 239.238438)scale(0.1 -0.1)\">\r\n       <defs>\r\n        <path d=\"M 10.796875 72.90625 \r\nL 49.515625 72.90625 \r\nL 49.515625 64.59375 \r\nL 19.828125 64.59375 \r\nL 19.828125 46.734375 \r\nQ 21.96875 47.46875 24.109375 47.828125 \r\nQ 26.265625 48.1875 28.421875 48.1875 \r\nQ 40.625 48.1875 47.75 41.5 \r\nQ 54.890625 34.8125 54.890625 23.390625 \r\nQ 54.890625 11.625 47.5625 5.09375 \r\nQ 40.234375 -1.421875 26.90625 -1.421875 \r\nQ 22.3125 -1.421875 17.546875 -0.640625 \r\nQ 12.796875 0.140625 7.71875 1.703125 \r\nL 7.71875 11.625 \r\nQ 12.109375 9.234375 16.796875 8.0625 \r\nQ 21.484375 6.890625 26.703125 6.890625 \r\nQ 35.15625 6.890625 40.078125 11.328125 \r\nQ 45.015625 15.765625 45.015625 23.390625 \r\nQ 45.015625 31 40.078125 35.4375 \r\nQ 35.15625 39.890625 26.703125 39.890625 \r\nQ 22.75 39.890625 18.8125 39.015625 \r\nQ 14.890625 38.140625 10.796875 36.28125 \r\nz\r\n\" id=\"DejaVuSans-53\"/>\r\n       </defs>\r\n       <use xlink:href=\"#DejaVuSans-53\"/>\r\n      </g>\r\n     </g>\r\n    </g>\r\n    <g id=\"xtick_3\">\r\n     <g id=\"line2d_3\">\r\n      <g>\r\n       <use style=\"stroke:#000000;stroke-width:0.8;\" x=\"150.547443\" xlink:href=\"#m7ac36fc1b7\" y=\"224.64\"/>\r\n      </g>\r\n     </g>\r\n     <g id=\"text_3\">\r\n      <!-- 10 -->\r\n      <g transform=\"translate(144.184943 239.238438)scale(0.1 -0.1)\">\r\n       <defs>\r\n        <path d=\"M 12.40625 8.296875 \r\nL 28.515625 8.296875 \r\nL 28.515625 63.921875 \r\nL 10.984375 60.40625 \r\nL 10.984375 69.390625 \r\nL 28.421875 72.90625 \r\nL 38.28125 72.90625 \r\nL 38.28125 8.296875 \r\nL 54.390625 8.296875 \r\nL 54.390625 0 \r\nL 12.40625 0 \r\nz\r\n\" id=\"DejaVuSans-49\"/>\r\n       </defs>\r\n       <use xlink:href=\"#DejaVuSans-49\"/>\r\n       <use x=\"63.623047\" xlink:href=\"#DejaVuSans-48\"/>\r\n      </g>\r\n     </g>\r\n    </g>\r\n    <g id=\"xtick_4\">\r\n     <g id=\"line2d_4\">\r\n      <g>\r\n       <use style=\"stroke:#000000;stroke-width:0.8;\" x=\"199.638352\" xlink:href=\"#m7ac36fc1b7\" y=\"224.64\"/>\r\n      </g>\r\n     </g>\r\n     <g id=\"text_4\">\r\n      <!-- 15 -->\r\n      <g transform=\"translate(193.275852 239.238438)scale(0.1 -0.1)\">\r\n       <use xlink:href=\"#DejaVuSans-49\"/>\r\n       <use x=\"63.623047\" xlink:href=\"#DejaVuSans-53\"/>\r\n      </g>\r\n     </g>\r\n    </g>\r\n    <g id=\"xtick_5\">\r\n     <g id=\"line2d_5\">\r\n      <g>\r\n       <use style=\"stroke:#000000;stroke-width:0.8;\" x=\"248.729261\" xlink:href=\"#m7ac36fc1b7\" y=\"224.64\"/>\r\n      </g>\r\n     </g>\r\n     <g id=\"text_5\">\r\n      <!-- 20 -->\r\n      <g transform=\"translate(242.366761 239.238438)scale(0.1 -0.1)\">\r\n       <defs>\r\n        <path d=\"M 19.1875 8.296875 \r\nL 53.609375 8.296875 \r\nL 53.609375 0 \r\nL 7.328125 0 \r\nL 7.328125 8.296875 \r\nQ 12.9375 14.109375 22.625 23.890625 \r\nQ 32.328125 33.6875 34.8125 36.53125 \r\nQ 39.546875 41.84375 41.421875 45.53125 \r\nQ 43.3125 49.21875 43.3125 52.78125 \r\nQ 43.3125 58.59375 39.234375 62.25 \r\nQ 35.15625 65.921875 28.609375 65.921875 \r\nQ 23.96875 65.921875 18.8125 64.3125 \r\nQ 13.671875 62.703125 7.8125 59.421875 \r\nL 7.8125 69.390625 \r\nQ 13.765625 71.78125 18.9375 73 \r\nQ 24.125 74.21875 28.421875 74.21875 \r\nQ 39.75 74.21875 46.484375 68.546875 \r\nQ 53.21875 62.890625 53.21875 53.421875 \r\nQ 53.21875 48.921875 51.53125 44.890625 \r\nQ 49.859375 40.875 45.40625 35.40625 \r\nQ 44.1875 33.984375 37.640625 27.21875 \r\nQ 31.109375 20.453125 19.1875 8.296875 \r\nz\r\n\" id=\"DejaVuSans-50\"/>\r\n       </defs>\r\n       <use xlink:href=\"#DejaVuSans-50\"/>\r\n       <use x=\"63.623047\" xlink:href=\"#DejaVuSans-48\"/>\r\n      </g>\r\n     </g>\r\n    </g>\r\n    <g id=\"xtick_6\">\r\n     <g id=\"line2d_6\">\r\n      <g>\r\n       <use style=\"stroke:#000000;stroke-width:0.8;\" x=\"297.82017\" xlink:href=\"#m7ac36fc1b7\" y=\"224.64\"/>\r\n      </g>\r\n     </g>\r\n     <g id=\"text_6\">\r\n      <!-- 25 -->\r\n      <g transform=\"translate(291.45767 239.238438)scale(0.1 -0.1)\">\r\n       <use xlink:href=\"#DejaVuSans-50\"/>\r\n       <use x=\"63.623047\" xlink:href=\"#DejaVuSans-53\"/>\r\n      </g>\r\n     </g>\r\n    </g>\r\n    <g id=\"xtick_7\">\r\n     <g id=\"line2d_7\">\r\n      <g>\r\n       <use style=\"stroke:#000000;stroke-width:0.8;\" x=\"346.91108\" xlink:href=\"#m7ac36fc1b7\" y=\"224.64\"/>\r\n      </g>\r\n     </g>\r\n     <g id=\"text_7\">\r\n      <!-- 30 -->\r\n      <g transform=\"translate(340.54858 239.238438)scale(0.1 -0.1)\">\r\n       <defs>\r\n        <path d=\"M 40.578125 39.3125 \r\nQ 47.65625 37.796875 51.625 33 \r\nQ 55.609375 28.21875 55.609375 21.1875 \r\nQ 55.609375 10.40625 48.1875 4.484375 \r\nQ 40.765625 -1.421875 27.09375 -1.421875 \r\nQ 22.515625 -1.421875 17.65625 -0.515625 \r\nQ 12.796875 0.390625 7.625 2.203125 \r\nL 7.625 11.71875 \r\nQ 11.71875 9.328125 16.59375 8.109375 \r\nQ 21.484375 6.890625 26.8125 6.890625 \r\nQ 36.078125 6.890625 40.9375 10.546875 \r\nQ 45.796875 14.203125 45.796875 21.1875 \r\nQ 45.796875 27.640625 41.28125 31.265625 \r\nQ 36.765625 34.90625 28.71875 34.90625 \r\nL 20.21875 34.90625 \r\nL 20.21875 43.015625 \r\nL 29.109375 43.015625 \r\nQ 36.375 43.015625 40.234375 45.921875 \r\nQ 44.09375 48.828125 44.09375 54.296875 \r\nQ 44.09375 59.90625 40.109375 62.90625 \r\nQ 36.140625 65.921875 28.71875 65.921875 \r\nQ 24.65625 65.921875 20.015625 65.03125 \r\nQ 15.375 64.15625 9.8125 62.3125 \r\nL 9.8125 71.09375 \r\nQ 15.4375 72.65625 20.34375 73.4375 \r\nQ 25.25 74.21875 29.59375 74.21875 \r\nQ 40.828125 74.21875 47.359375 69.109375 \r\nQ 53.90625 64.015625 53.90625 55.328125 \r\nQ 53.90625 49.265625 50.4375 45.09375 \r\nQ 46.96875 40.921875 40.578125 39.3125 \r\nz\r\n\" id=\"DejaVuSans-51\"/>\r\n       </defs>\r\n       <use xlink:href=\"#DejaVuSans-51\"/>\r\n       <use x=\"63.623047\" xlink:href=\"#DejaVuSans-48\"/>\r\n      </g>\r\n     </g>\r\n    </g>\r\n    <g id=\"text_8\">\r\n     <!-- length of Data -->\r\n     <g transform=\"translate(178.492188 252.916563)scale(0.1 -0.1)\">\r\n      <defs>\r\n       <path d=\"M 9.421875 75.984375 \r\nL 18.40625 75.984375 \r\nL 18.40625 0 \r\nL 9.421875 0 \r\nz\r\n\" id=\"DejaVuSans-108\"/>\r\n       <path d=\"M 56.203125 29.59375 \r\nL 56.203125 25.203125 \r\nL 14.890625 25.203125 \r\nQ 15.484375 15.921875 20.484375 11.0625 \r\nQ 25.484375 6.203125 34.421875 6.203125 \r\nQ 39.59375 6.203125 44.453125 7.46875 \r\nQ 49.3125 8.734375 54.109375 11.28125 \r\nL 54.109375 2.78125 \r\nQ 49.265625 0.734375 44.1875 -0.34375 \r\nQ 39.109375 -1.421875 33.890625 -1.421875 \r\nQ 20.796875 -1.421875 13.15625 6.1875 \r\nQ 5.515625 13.8125 5.515625 26.8125 \r\nQ 5.515625 40.234375 12.765625 48.109375 \r\nQ 20.015625 56 32.328125 56 \r\nQ 43.359375 56 49.78125 48.890625 \r\nQ 56.203125 41.796875 56.203125 29.59375 \r\nz\r\nM 47.21875 32.234375 \r\nQ 47.125 39.59375 43.09375 43.984375 \r\nQ 39.0625 48.390625 32.421875 48.390625 \r\nQ 24.90625 48.390625 20.390625 44.140625 \r\nQ 15.875 39.890625 15.1875 32.171875 \r\nz\r\n\" id=\"DejaVuSans-101\"/>\r\n       <path d=\"M 54.890625 33.015625 \r\nL 54.890625 0 \r\nL 45.90625 0 \r\nL 45.90625 32.71875 \r\nQ 45.90625 40.484375 42.875 44.328125 \r\nQ 39.84375 48.1875 33.796875 48.1875 \r\nQ 26.515625 48.1875 22.3125 43.546875 \r\nQ 18.109375 38.921875 18.109375 30.90625 \r\nL 18.109375 0 \r\nL 9.078125 0 \r\nL 9.078125 54.6875 \r\nL 18.109375 54.6875 \r\nL 18.109375 46.1875 \r\nQ 21.34375 51.125 25.703125 53.5625 \r\nQ 30.078125 56 35.796875 56 \r\nQ 45.21875 56 50.046875 50.171875 \r\nQ 54.890625 44.34375 54.890625 33.015625 \r\nz\r\n\" id=\"DejaVuSans-110\"/>\r\n       <path d=\"M 45.40625 27.984375 \r\nQ 45.40625 37.75 41.375 43.109375 \r\nQ 37.359375 48.484375 30.078125 48.484375 \r\nQ 22.859375 48.484375 18.828125 43.109375 \r\nQ 14.796875 37.75 14.796875 27.984375 \r\nQ 14.796875 18.265625 18.828125 12.890625 \r\nQ 22.859375 7.515625 30.078125 7.515625 \r\nQ 37.359375 7.515625 41.375 12.890625 \r\nQ 45.40625 18.265625 45.40625 27.984375 \r\nz\r\nM 54.390625 6.78125 \r\nQ 54.390625 -7.171875 48.1875 -13.984375 \r\nQ 42 -20.796875 29.203125 -20.796875 \r\nQ 24.46875 -20.796875 20.265625 -20.09375 \r\nQ 16.0625 -19.390625 12.109375 -17.921875 \r\nL 12.109375 -9.1875 \r\nQ 16.0625 -11.328125 19.921875 -12.34375 \r\nQ 23.78125 -13.375 27.78125 -13.375 \r\nQ 36.625 -13.375 41.015625 -8.765625 \r\nQ 45.40625 -4.15625 45.40625 5.171875 \r\nL 45.40625 9.625 \r\nQ 42.625 4.78125 38.28125 2.390625 \r\nQ 33.9375 0 27.875 0 \r\nQ 17.828125 0 11.671875 7.65625 \r\nQ 5.515625 15.328125 5.515625 27.984375 \r\nQ 5.515625 40.671875 11.671875 48.328125 \r\nQ 17.828125 56 27.875 56 \r\nQ 33.9375 56 38.28125 53.609375 \r\nQ 42.625 51.21875 45.40625 46.390625 \r\nL 45.40625 54.6875 \r\nL 54.390625 54.6875 \r\nz\r\n\" id=\"DejaVuSans-103\"/>\r\n       <path d=\"M 18.3125 70.21875 \r\nL 18.3125 54.6875 \r\nL 36.8125 54.6875 \r\nL 36.8125 47.703125 \r\nL 18.3125 47.703125 \r\nL 18.3125 18.015625 \r\nQ 18.3125 11.328125 20.140625 9.421875 \r\nQ 21.96875 7.515625 27.59375 7.515625 \r\nL 36.8125 7.515625 \r\nL 36.8125 0 \r\nL 27.59375 0 \r\nQ 17.1875 0 13.234375 3.875 \r\nQ 9.28125 7.765625 9.28125 18.015625 \r\nL 9.28125 47.703125 \r\nL 2.6875 47.703125 \r\nL 2.6875 54.6875 \r\nL 9.28125 54.6875 \r\nL 9.28125 70.21875 \r\nz\r\n\" id=\"DejaVuSans-116\"/>\r\n       <path d=\"M 54.890625 33.015625 \r\nL 54.890625 0 \r\nL 45.90625 0 \r\nL 45.90625 32.71875 \r\nQ 45.90625 40.484375 42.875 44.328125 \r\nQ 39.84375 48.1875 33.796875 48.1875 \r\nQ 26.515625 48.1875 22.3125 43.546875 \r\nQ 18.109375 38.921875 18.109375 30.90625 \r\nL 18.109375 0 \r\nL 9.078125 0 \r\nL 9.078125 75.984375 \r\nL 18.109375 75.984375 \r\nL 18.109375 46.1875 \r\nQ 21.34375 51.125 25.703125 53.5625 \r\nQ 30.078125 56 35.796875 56 \r\nQ 45.21875 56 50.046875 50.171875 \r\nQ 54.890625 44.34375 54.890625 33.015625 \r\nz\r\n\" id=\"DejaVuSans-104\"/>\r\n       <path id=\"DejaVuSans-32\"/>\r\n       <path d=\"M 30.609375 48.390625 \r\nQ 23.390625 48.390625 19.1875 42.75 \r\nQ 14.984375 37.109375 14.984375 27.296875 \r\nQ 14.984375 17.484375 19.15625 11.84375 \r\nQ 23.34375 6.203125 30.609375 6.203125 \r\nQ 37.796875 6.203125 41.984375 11.859375 \r\nQ 46.1875 17.53125 46.1875 27.296875 \r\nQ 46.1875 37.015625 41.984375 42.703125 \r\nQ 37.796875 48.390625 30.609375 48.390625 \r\nz\r\nM 30.609375 56 \r\nQ 42.328125 56 49.015625 48.375 \r\nQ 55.71875 40.765625 55.71875 27.296875 \r\nQ 55.71875 13.875 49.015625 6.21875 \r\nQ 42.328125 -1.421875 30.609375 -1.421875 \r\nQ 18.84375 -1.421875 12.171875 6.21875 \r\nQ 5.515625 13.875 5.515625 27.296875 \r\nQ 5.515625 40.765625 12.171875 48.375 \r\nQ 18.84375 56 30.609375 56 \r\nz\r\n\" id=\"DejaVuSans-111\"/>\r\n       <path d=\"M 37.109375 75.984375 \r\nL 37.109375 68.5 \r\nL 28.515625 68.5 \r\nQ 23.6875 68.5 21.796875 66.546875 \r\nQ 19.921875 64.59375 19.921875 59.515625 \r\nL 19.921875 54.6875 \r\nL 34.71875 54.6875 \r\nL 34.71875 47.703125 \r\nL 19.921875 47.703125 \r\nL 19.921875 0 \r\nL 10.890625 0 \r\nL 10.890625 47.703125 \r\nL 2.296875 47.703125 \r\nL 2.296875 54.6875 \r\nL 10.890625 54.6875 \r\nL 10.890625 58.5 \r\nQ 10.890625 67.625 15.140625 71.796875 \r\nQ 19.390625 75.984375 28.609375 75.984375 \r\nz\r\n\" id=\"DejaVuSans-102\"/>\r\n       <path d=\"M 19.671875 64.796875 \r\nL 19.671875 8.109375 \r\nL 31.59375 8.109375 \r\nQ 46.6875 8.109375 53.6875 14.9375 \r\nQ 60.6875 21.78125 60.6875 36.53125 \r\nQ 60.6875 51.171875 53.6875 57.984375 \r\nQ 46.6875 64.796875 31.59375 64.796875 \r\nz\r\nM 9.8125 72.90625 \r\nL 30.078125 72.90625 \r\nQ 51.265625 72.90625 61.171875 64.09375 \r\nQ 71.09375 55.28125 71.09375 36.53125 \r\nQ 71.09375 17.671875 61.125 8.828125 \r\nQ 51.171875 0 30.078125 0 \r\nL 9.8125 0 \r\nz\r\n\" id=\"DejaVuSans-68\"/>\r\n       <path d=\"M 34.28125 27.484375 \r\nQ 23.390625 27.484375 19.1875 25 \r\nQ 14.984375 22.515625 14.984375 16.5 \r\nQ 14.984375 11.71875 18.140625 8.90625 \r\nQ 21.296875 6.109375 26.703125 6.109375 \r\nQ 34.1875 6.109375 38.703125 11.40625 \r\nQ 43.21875 16.703125 43.21875 25.484375 \r\nL 43.21875 27.484375 \r\nz\r\nM 52.203125 31.203125 \r\nL 52.203125 0 \r\nL 43.21875 0 \r\nL 43.21875 8.296875 \r\nQ 40.140625 3.328125 35.546875 0.953125 \r\nQ 30.953125 -1.421875 24.3125 -1.421875 \r\nQ 15.921875 -1.421875 10.953125 3.296875 \r\nQ 6 8.015625 6 15.921875 \r\nQ 6 25.140625 12.171875 29.828125 \r\nQ 18.359375 34.515625 30.609375 34.515625 \r\nL 43.21875 34.515625 \r\nL 43.21875 35.40625 \r\nQ 43.21875 41.609375 39.140625 45 \r\nQ 35.0625 48.390625 27.6875 48.390625 \r\nQ 23 48.390625 18.546875 47.265625 \r\nQ 14.109375 46.140625 10.015625 43.890625 \r\nL 10.015625 52.203125 \r\nQ 14.9375 54.109375 19.578125 55.046875 \r\nQ 24.21875 56 28.609375 56 \r\nQ 40.484375 56 46.34375 49.84375 \r\nQ 52.203125 43.703125 52.203125 31.203125 \r\nz\r\n\" id=\"DejaVuSans-97\"/>\r\n      </defs>\r\n      <use xlink:href=\"#DejaVuSans-108\"/>\r\n      <use x=\"27.783203\" xlink:href=\"#DejaVuSans-101\"/>\r\n      <use x=\"89.306641\" xlink:href=\"#DejaVuSans-110\"/>\r\n      <use x=\"152.685547\" xlink:href=\"#DejaVuSans-103\"/>\r\n      <use x=\"216.162109\" xlink:href=\"#DejaVuSans-116\"/>\r\n      <use x=\"255.371094\" xlink:href=\"#DejaVuSans-104\"/>\r\n      <use x=\"318.75\" xlink:href=\"#DejaVuSans-32\"/>\r\n      <use x=\"350.537109\" xlink:href=\"#DejaVuSans-111\"/>\r\n      <use x=\"411.71875\" xlink:href=\"#DejaVuSans-102\"/>\r\n      <use x=\"446.923828\" xlink:href=\"#DejaVuSans-32\"/>\r\n      <use x=\"478.710938\" xlink:href=\"#DejaVuSans-68\"/>\r\n      <use x=\"555.712891\" xlink:href=\"#DejaVuSans-97\"/>\r\n      <use x=\"616.992188\" xlink:href=\"#DejaVuSans-116\"/>\r\n      <use x=\"656.201172\" xlink:href=\"#DejaVuSans-97\"/>\r\n     </g>\r\n    </g>\r\n   </g>\r\n   <g id=\"matplotlib.axis_2\">\r\n    <g id=\"ytick_1\">\r\n     <g id=\"line2d_8\">\r\n      <defs>\r\n       <path d=\"M 0 0 \r\nL -3.5 0 \r\n\" id=\"m9db4d25f13\" style=\"stroke:#000000;stroke-width:0.8;\"/>\r\n      </defs>\r\n      <g>\r\n       <use style=\"stroke:#000000;stroke-width:0.8;\" x=\"46.965625\" xlink:href=\"#m9db4d25f13\" y=\"224.64\"/>\r\n      </g>\r\n     </g>\r\n     <g id=\"text_9\">\r\n      <!-- 0 -->\r\n      <g transform=\"translate(33.603125 228.439219)scale(0.1 -0.1)\">\r\n       <use xlink:href=\"#DejaVuSans-48\"/>\r\n      </g>\r\n     </g>\r\n    </g>\r\n    <g id=\"ytick_2\">\r\n     <g id=\"line2d_9\">\r\n      <g>\r\n       <use style=\"stroke:#000000;stroke-width:0.8;\" x=\"46.965625\" xlink:href=\"#m9db4d25f13\" y=\"184.034958\"/>\r\n      </g>\r\n     </g>\r\n     <g id=\"text_10\">\r\n      <!-- 50 -->\r\n      <g transform=\"translate(27.240625 187.834177)scale(0.1 -0.1)\">\r\n       <use xlink:href=\"#DejaVuSans-53\"/>\r\n       <use x=\"63.623047\" xlink:href=\"#DejaVuSans-48\"/>\r\n      </g>\r\n     </g>\r\n    </g>\r\n    <g id=\"ytick_3\">\r\n     <g id=\"line2d_10\">\r\n      <g>\r\n       <use style=\"stroke:#000000;stroke-width:0.8;\" x=\"46.965625\" xlink:href=\"#m9db4d25f13\" y=\"143.429916\"/>\r\n      </g>\r\n     </g>\r\n     <g id=\"text_11\">\r\n      <!-- 100 -->\r\n      <g transform=\"translate(20.878125 147.229135)scale(0.1 -0.1)\">\r\n       <use xlink:href=\"#DejaVuSans-49\"/>\r\n       <use x=\"63.623047\" xlink:href=\"#DejaVuSans-48\"/>\r\n       <use x=\"127.246094\" xlink:href=\"#DejaVuSans-48\"/>\r\n      </g>\r\n     </g>\r\n    </g>\r\n    <g id=\"ytick_4\">\r\n     <g id=\"line2d_11\">\r\n      <g>\r\n       <use style=\"stroke:#000000;stroke-width:0.8;\" x=\"46.965625\" xlink:href=\"#m9db4d25f13\" y=\"102.824874\"/>\r\n      </g>\r\n     </g>\r\n     <g id=\"text_12\">\r\n      <!-- 150 -->\r\n      <g transform=\"translate(20.878125 106.624093)scale(0.1 -0.1)\">\r\n       <use xlink:href=\"#DejaVuSans-49\"/>\r\n       <use x=\"63.623047\" xlink:href=\"#DejaVuSans-53\"/>\r\n       <use x=\"127.246094\" xlink:href=\"#DejaVuSans-48\"/>\r\n      </g>\r\n     </g>\r\n    </g>\r\n    <g id=\"ytick_5\">\r\n     <g id=\"line2d_12\">\r\n      <g>\r\n       <use style=\"stroke:#000000;stroke-width:0.8;\" x=\"46.965625\" xlink:href=\"#m9db4d25f13\" y=\"62.219832\"/>\r\n      </g>\r\n     </g>\r\n     <g id=\"text_13\">\r\n      <!-- 200 -->\r\n      <g transform=\"translate(20.878125 66.019051)scale(0.1 -0.1)\">\r\n       <use xlink:href=\"#DejaVuSans-50\"/>\r\n       <use x=\"63.623047\" xlink:href=\"#DejaVuSans-48\"/>\r\n       <use x=\"127.246094\" xlink:href=\"#DejaVuSans-48\"/>\r\n      </g>\r\n     </g>\r\n    </g>\r\n    <g id=\"ytick_6\">\r\n     <g id=\"line2d_13\">\r\n      <g>\r\n       <use style=\"stroke:#000000;stroke-width:0.8;\" x=\"46.965625\" xlink:href=\"#m9db4d25f13\" y=\"21.61479\"/>\r\n      </g>\r\n     </g>\r\n     <g id=\"text_14\">\r\n      <!-- 250 -->\r\n      <g transform=\"translate(20.878125 25.414009)scale(0.1 -0.1)\">\r\n       <use xlink:href=\"#DejaVuSans-50\"/>\r\n       <use x=\"63.623047\" xlink:href=\"#DejaVuSans-53\"/>\r\n       <use x=\"127.246094\" xlink:href=\"#DejaVuSans-48\"/>\r\n      </g>\r\n     </g>\r\n    </g>\r\n    <g id=\"text_15\">\r\n     <!-- number of Data -->\r\n     <g transform=\"translate(14.798438 155.37)rotate(-90)scale(0.1 -0.1)\">\r\n      <defs>\r\n       <path d=\"M 8.5 21.578125 \r\nL 8.5 54.6875 \r\nL 17.484375 54.6875 \r\nL 17.484375 21.921875 \r\nQ 17.484375 14.15625 20.5 10.265625 \r\nQ 23.53125 6.390625 29.59375 6.390625 \r\nQ 36.859375 6.390625 41.078125 11.03125 \r\nQ 45.3125 15.671875 45.3125 23.6875 \r\nL 45.3125 54.6875 \r\nL 54.296875 54.6875 \r\nL 54.296875 0 \r\nL 45.3125 0 \r\nL 45.3125 8.40625 \r\nQ 42.046875 3.421875 37.71875 1 \r\nQ 33.40625 -1.421875 27.6875 -1.421875 \r\nQ 18.265625 -1.421875 13.375 4.4375 \r\nQ 8.5 10.296875 8.5 21.578125 \r\nz\r\nM 31.109375 56 \r\nz\r\n\" id=\"DejaVuSans-117\"/>\r\n       <path d=\"M 52 44.1875 \r\nQ 55.375 50.25 60.0625 53.125 \r\nQ 64.75 56 71.09375 56 \r\nQ 79.640625 56 84.28125 50.015625 \r\nQ 88.921875 44.046875 88.921875 33.015625 \r\nL 88.921875 0 \r\nL 79.890625 0 \r\nL 79.890625 32.71875 \r\nQ 79.890625 40.578125 77.09375 44.375 \r\nQ 74.3125 48.1875 68.609375 48.1875 \r\nQ 61.625 48.1875 57.5625 43.546875 \r\nQ 53.515625 38.921875 53.515625 30.90625 \r\nL 53.515625 0 \r\nL 44.484375 0 \r\nL 44.484375 32.71875 \r\nQ 44.484375 40.625 41.703125 44.40625 \r\nQ 38.921875 48.1875 33.109375 48.1875 \r\nQ 26.21875 48.1875 22.15625 43.53125 \r\nQ 18.109375 38.875 18.109375 30.90625 \r\nL 18.109375 0 \r\nL 9.078125 0 \r\nL 9.078125 54.6875 \r\nL 18.109375 54.6875 \r\nL 18.109375 46.1875 \r\nQ 21.1875 51.21875 25.484375 53.609375 \r\nQ 29.78125 56 35.6875 56 \r\nQ 41.65625 56 45.828125 52.96875 \r\nQ 50 49.953125 52 44.1875 \r\nz\r\n\" id=\"DejaVuSans-109\"/>\r\n       <path d=\"M 48.6875 27.296875 \r\nQ 48.6875 37.203125 44.609375 42.84375 \r\nQ 40.53125 48.484375 33.40625 48.484375 \r\nQ 26.265625 48.484375 22.1875 42.84375 \r\nQ 18.109375 37.203125 18.109375 27.296875 \r\nQ 18.109375 17.390625 22.1875 11.75 \r\nQ 26.265625 6.109375 33.40625 6.109375 \r\nQ 40.53125 6.109375 44.609375 11.75 \r\nQ 48.6875 17.390625 48.6875 27.296875 \r\nz\r\nM 18.109375 46.390625 \r\nQ 20.953125 51.265625 25.265625 53.625 \r\nQ 29.59375 56 35.59375 56 \r\nQ 45.5625 56 51.78125 48.09375 \r\nQ 58.015625 40.1875 58.015625 27.296875 \r\nQ 58.015625 14.40625 51.78125 6.484375 \r\nQ 45.5625 -1.421875 35.59375 -1.421875 \r\nQ 29.59375 -1.421875 25.265625 0.953125 \r\nQ 20.953125 3.328125 18.109375 8.203125 \r\nL 18.109375 0 \r\nL 9.078125 0 \r\nL 9.078125 75.984375 \r\nL 18.109375 75.984375 \r\nz\r\n\" id=\"DejaVuSans-98\"/>\r\n       <path d=\"M 41.109375 46.296875 \r\nQ 39.59375 47.171875 37.8125 47.578125 \r\nQ 36.03125 48 33.890625 48 \r\nQ 26.265625 48 22.1875 43.046875 \r\nQ 18.109375 38.09375 18.109375 28.8125 \r\nL 18.109375 0 \r\nL 9.078125 0 \r\nL 9.078125 54.6875 \r\nL 18.109375 54.6875 \r\nL 18.109375 46.1875 \r\nQ 20.953125 51.171875 25.484375 53.578125 \r\nQ 30.03125 56 36.53125 56 \r\nQ 37.453125 56 38.578125 55.875 \r\nQ 39.703125 55.765625 41.0625 55.515625 \r\nz\r\n\" id=\"DejaVuSans-114\"/>\r\n      </defs>\r\n      <use xlink:href=\"#DejaVuSans-110\"/>\r\n      <use x=\"63.378906\" xlink:href=\"#DejaVuSans-117\"/>\r\n      <use x=\"126.757812\" xlink:href=\"#DejaVuSans-109\"/>\r\n      <use x=\"224.169922\" xlink:href=\"#DejaVuSans-98\"/>\r\n      <use x=\"287.646484\" xlink:href=\"#DejaVuSans-101\"/>\r\n      <use x=\"349.169922\" xlink:href=\"#DejaVuSans-114\"/>\r\n      <use x=\"390.283203\" xlink:href=\"#DejaVuSans-32\"/>\r\n      <use x=\"422.070312\" xlink:href=\"#DejaVuSans-111\"/>\r\n      <use x=\"483.251953\" xlink:href=\"#DejaVuSans-102\"/>\r\n      <use x=\"518.457031\" xlink:href=\"#DejaVuSans-32\"/>\r\n      <use x=\"550.244141\" xlink:href=\"#DejaVuSans-68\"/>\r\n      <use x=\"627.246094\" xlink:href=\"#DejaVuSans-97\"/>\r\n      <use x=\"688.525391\" xlink:href=\"#DejaVuSans-116\"/>\r\n      <use x=\"727.734375\" xlink:href=\"#DejaVuSans-97\"/>\r\n     </g>\r\n    </g>\r\n   </g>\r\n   <g id=\"patch_103\">\r\n    <path d=\"M 46.965625 224.64 \r\nL 46.965625 7.2 \r\n\" style=\"fill:none;stroke:#000000;stroke-linecap:square;stroke-linejoin:miter;stroke-width:0.8;\"/>\r\n   </g>\r\n   <g id=\"patch_104\">\r\n    <path d=\"M 381.765625 224.64 \r\nL 381.765625 7.2 \r\n\" style=\"fill:none;stroke:#000000;stroke-linecap:square;stroke-linejoin:miter;stroke-width:0.8;\"/>\r\n   </g>\r\n   <g id=\"patch_105\">\r\n    <path d=\"M 46.965625 224.64 \r\nL 381.765625 224.64 \r\n\" style=\"fill:none;stroke:#000000;stroke-linecap:square;stroke-linejoin:miter;stroke-width:0.8;\"/>\r\n   </g>\r\n   <g id=\"patch_106\">\r\n    <path d=\"M 46.965625 7.2 \r\nL 381.765625 7.2 \r\n\" style=\"fill:none;stroke:#000000;stroke-linecap:square;stroke-linejoin:miter;stroke-width:0.8;\"/>\r\n   </g>\r\n  </g>\r\n </g>\r\n <defs>\r\n  <clipPath id=\"p55b403a1af\">\r\n   <rect height=\"217.44\" width=\"334.8\" x=\"46.965625\" y=\"7.2\"/>\r\n  </clipPath>\r\n </defs>\r\n</svg>\r\n",
      "image/png": "[encoded data removed]"
     },
     "metadata": {
      "needs_background": "light"
     }
    }
   ],
   "source": [
    "print('train data의 최대 길이 :',max(len(l) for l in X_token))\n",
    "print('train data의 최소 길이 :',min(len(l) for l in X_token))\n",
    "print('data의 평균 길이 :',sum(map(len, X_token))/len(X_token))\n",
    "plt.hist([len(s) for s in X_token], bins=100)\n",
    "plt.xlabel('length of Data')\n",
    "plt.ylabel('number of Data')\n",
    "plt.show()"
   ]
  },
  {
   "cell_type": "code",
   "execution_count": 301,
   "metadata": {},
   "outputs": [
    {
     "output_type": "stream",
     "name": "stdout",
     "text": [
      "X data shape:  (1595, 32)\ny data shape:  (1595,)\n"
     ]
    }
   ],
   "source": [
    "max_len = max(len(l) for l in X_token)\n",
    "X_data = pad_sequences(X_token, maxlen=max_len)\n",
    "print(\"X data shape: \", X_data.shape)\n",
    "print(\"y data shape: \", y_data.shape)"
   ]
  },
  {
   "cell_type": "code",
   "execution_count": 302,
   "metadata": {},
   "outputs": [],
   "source": [
    "y_data = np.array(y_data).reshape(-1, 1)"
   ]
  },
  {
   "cell_type": "code",
   "execution_count": 274,
   "metadata": {},
   "outputs": [
    {
     "output_type": "stream",
     "name": "stdout",
     "text": [
      "[[ 0  0  0  0  0  8  9 10 11 12]\n [ 0  0  0  0  0  0  0 13 14  1]\n [ 0  0  0  0  2  3  4  5  6  7]]\n[[nan]\n [ 1.]\n [ 5.]]\n"
     ]
    }
   ],
   "source": [
    "print(X_data[:3])\n",
    "print(y_data[:3])"
   ]
  },
  {
   "cell_type": "markdown",
   "metadata": {},
   "source": [
    "# 데이터 분리"
   ]
  },
  {
   "cell_type": "code",
   "execution_count": 303,
   "metadata": {},
   "outputs": [],
   "source": [
    "from sklearn.model_selection import train_test_split\n",
    "X_train, X_test, y_train, y_test = train_test_split(X_data, y_data, test_size= 0.3, random_state=1234)"
   ]
  },
  {
   "cell_type": "code",
   "execution_count": 304,
   "metadata": {},
   "outputs": [
    {
     "output_type": "stream",
     "name": "stdout",
     "text": [
      "[[  0   0   0   0   0   0   0   0   0   0   0   0   0   0   0   0   0   0\n    0   0   0   0   0   0   0   0 448   3 175 141   3   4]\n [  0   0   0   0   0   0   0   0   0   0   0   0   0   0   0   0   0   0\n    0   0   0   0   0   0   0   0   0   0   0 356 355 357]\n [  0   0   0   0   0   0   0   0   0   0   0   0   0   0   0   0   0   0\n    0   0   0   0   0   0   0   0   0   0  10  11   5   9]]\n[[ 3.]\n [nan]\n [ 1.]]\n"
     ]
    }
   ],
   "source": [
    "print(X_train[:3])\n",
    "print(y_train[:3]) "
   ]
  },
  {
   "cell_type": "markdown",
   "metadata": {},
   "source": [
    "# 모델 만들기(loss: 0. - acc: 0.)"
   ]
  },
  {
   "cell_type": "code",
   "execution_count": 305,
   "metadata": {},
   "outputs": [],
   "source": [
    "from tensorflow.keras.layers import Embedding, Dense, LSTM\n",
    "from tensorflow.keras.models import Sequential"
   ]
  },
  {
   "cell_type": "code",
   "execution_count": 306,
   "metadata": {},
   "outputs": [
    {
     "output_type": "stream",
     "name": "stdout",
     "text": [
      "Train on 892 samples, validate on 224 samples\n",
      "Epoch 1/10\n",
      "892/892 [==============================] - 5s 6ms/sample - loss: nan - acc: 0.0213 - val_loss: nan - val_acc: 0.0357\n",
      "Epoch 2/10\n",
      "892/892 [==============================] - 1s 1ms/sample - loss: nan - acc: 0.0191 - val_loss: nan - val_acc: 0.0357\n",
      "Epoch 3/10\n",
      "892/892 [==============================] - 1s 1ms/sample - loss: nan - acc: 0.0191 - val_loss: nan - val_acc: 0.0357\n",
      "Epoch 4/10\n",
      "892/892 [==============================] - 1s 1ms/sample - loss: nan - acc: 0.0191 - val_loss: nan - val_acc: 0.0357\n",
      "Epoch 5/10\n",
      "892/892 [==============================] - 1s 1ms/sample - loss: nan - acc: 0.0191 - val_loss: nan - val_acc: 0.0357\n",
      "Epoch 6/10\n",
      "892/892 [==============================] - 1s 2ms/sample - loss: nan - acc: 0.0191 - val_loss: nan - val_acc: 0.0357\n",
      "Epoch 7/10\n",
      "892/892 [==============================] - 1s 1ms/sample - loss: nan - acc: 0.0191 - val_loss: nan - val_acc: 0.0357\n",
      "Epoch 8/10\n",
      "892/892 [==============================] - 1s 1ms/sample - loss: nan - acc: 0.0191 - val_loss: nan - val_acc: 0.0357\n",
      "Epoch 9/10\n",
      "892/892 [==============================] - 1s 1ms/sample - loss: nan - acc: 0.0191 - val_loss: nan - val_acc: 0.0357\n",
      "Epoch 10/10\n",
      "892/892 [==============================] - 1s 1ms/sample - loss: nan - acc: 0.0191 - val_loss: nan - val_acc: 0.0357\n"
     ]
    }
   ],
   "source": [
    "model = Sequential()\n",
    "model.add(Embedding(max_words, 100))\n",
    "model.add(LSTM(128))\n",
    "model.add(Dense(1, activation='sigmoid'))\n",
    "\n",
    "model.compile(optimizer='adam', loss='binary_crossentropy', metrics=['acc'])\n",
    "history = model.fit(X_train, y_train, epochs=10, batch_size=32, validation_split = 0.2)"
   ]
  },
  {
   "cell_type": "code",
   "execution_count": 307,
   "metadata": {
    "scrolled": true
   },
   "outputs": [
    {
     "output_type": "stream",
     "name": "stdout",
     "text": [
      "479/1 [==================================================================================================================================================================================================================================================================================================================================================================================================================================================================================================================================================================================================================================================================================================================================================================================================================================================================================================================================================================================================================================================================================================================================================================================================================================================================================================================================================================================================================================================================================================================================================================================================================================================================================================================================================================================================================================================================================================================================================================================================================================================================================================================================================================================================================================================================================================================================================================================================================================================================================================================================================================================================================================================================================================================================================================================================================================================================================================================================================================================================================================================================================================================================================================================================================================================================================================================================================================================================================================================================================================================================================================================================================================================================================================================================================================================================================================================================================================================================================================================================================================================================================================================================================================================================================================================================================================================================================================================================================================================================================================================================================================================================================================================================================================================================================================================================================================================================================================================================================================================================================================================================================================================================================================================================================================================================================================================================================================================================================================================================================================================================================================================================================================================================================================================================================================================================================================================================================================================================================================================================================================================================================================================================================================================================================================================================================================================================================================================================================================================================================================================================================================================================================================================================================================================================================================================================================================================================================================================================================================================================================================================================================================================================================================================================================================================================================================================================================================================================================================================================================================================================================================================================================================================================================================================================================================================================================================================================================================================================================================================================================================================================================================================================================================================================================================================================================================================================================================================================================================================================================================================================================================================================================================================================================================================================================================================================================================================================================================================================================================================================================================================================================================================================================================================================================================================================================================================================================================================================================================================================================================================================================================================================================================================================================================================================================================================================================================================================================================================================================================================================================================================================================================================================================================================================================================================================================================================================================================================================================================================================================================================================================================================================================================================================================================================================================================================================================================================================================================================================================================================================================================================================================================================================================================================================================================================================================================================================================================================================================================================================================================================================================================================================================================================================================================================================================================================================================================================================================================================================================================================================================================================================================================================================================================================================================================================================================================================================================================================================================================================================================================================================================================================================================================================================================================================================================================================================================================================================================================================================================================================================================================================================================================================================================================================================================================================================================================================================================================================================================================================================================================================================================================================================================================================================================================================================================================================================================================================================================================================================================================================================================================================================================================================================================================================================================================================================================================================================================================================================================================================================================================================================================================================================================================================================================================================================================================================================================================================================================================================================================================] - 0s 833us/sample - loss: nan - acc: 0.0209\n",
      "\n",
      " 테스트 정확도: 0.0209\n"
     ]
    }
   ],
   "source": [
    "print(\"\\n 테스트 정확도: %.4f\" % (model.evaluate(X_test, y_test)[1]))"
   ]
  },
  {
   "cell_type": "code",
   "execution_count": 308,
   "metadata": {},
   "outputs": [
    {
     "output_type": "display_data",
     "data": {
      "text/plain": "<Figure size 432x288 with 1 Axes>",
      "image/svg+xml": "<?xml version=\"1.0\" encoding=\"utf-8\" standalone=\"no\"?>\r\n<!DOCTYPE svg PUBLIC \"-//W3C//DTD SVG 1.1//EN\"\r\n  \"http://www.w3.org/Graphics/SVG/1.1/DTD/svg11.dtd\">\r\n<!-- Created with matplotlib (https://matplotlib.org/) -->\r\n<svg height=\"277.314375pt\" version=\"1.1\" viewBox=\"0 0 404.86875 277.314375\" width=\"404.86875pt\" xmlns=\"http://www.w3.org/2000/svg\" xmlns:xlink=\"http://www.w3.org/1999/xlink\">\r\n <metadata>\r\n  <rdf:RDF xmlns:cc=\"http://creativecommons.org/ns#\" xmlns:dc=\"http://purl.org/dc/elements/1.1/\" xmlns:rdf=\"http://www.w3.org/1999/02/22-rdf-syntax-ns#\">\r\n   <cc:Work>\r\n    <dc:type rdf:resource=\"http://purl.org/dc/dcmitype/StillImage\"/>\r\n    <dc:date>2021-04-20T13:11:37.645886</dc:date>\r\n    <dc:format>image/svg+xml</dc:format>\r\n    <dc:creator>\r\n     <cc:Agent>\r\n      <dc:title>Matplotlib v3.3.4, https://matplotlib.org/</dc:title>\r\n     </cc:Agent>\r\n    </dc:creator>\r\n   </cc:Work>\r\n  </rdf:RDF>\r\n </metadata>\r\n <defs>\r\n  <style type=\"text/css\">*{stroke-linecap:butt;stroke-linejoin:round;}</style>\r\n </defs>\r\n <g id=\"figure_1\">\r\n  <g id=\"patch_1\">\r\n   <path d=\"M 0 277.314375 \r\nL 404.86875 277.314375 \r\nL 404.86875 0 \r\nL 0 0 \r\nz\r\n\" style=\"fill:none;\"/>\r\n  </g>\r\n  <g id=\"axes_1\">\r\n   <g id=\"patch_2\">\r\n    <path d=\"M 62.86875 239.758125 \r\nL 397.66875 239.758125 \r\nL 397.66875 22.318125 \r\nL 62.86875 22.318125 \r\nz\r\n\" style=\"fill:#ffffff;\"/>\r\n   </g>\r\n   <g id=\"matplotlib.axis_1\">\r\n    <g id=\"xtick_1\">\r\n     <g id=\"line2d_1\">\r\n      <defs>\r\n       <path d=\"M 0 0 \r\nL 0 3.5 \r\n\" id=\"m0e01e9f92d\" style=\"stroke:#000000;stroke-width:0.8;\"/>\r\n      </defs>\r\n      <g>\r\n       <use style=\"stroke:#000000;stroke-width:0.8;\" x=\"111.905114\" xlink:href=\"#m0e01e9f92d\" y=\"239.758125\"/>\r\n      </g>\r\n     </g>\r\n     <g id=\"text_1\">\r\n      <!-- 2 -->\r\n      <g transform=\"translate(108.723864 254.356562)scale(0.1 -0.1)\">\r\n       <defs>\r\n        <path d=\"M 19.1875 8.296875 \r\nL 53.609375 8.296875 \r\nL 53.609375 0 \r\nL 7.328125 0 \r\nL 7.328125 8.296875 \r\nQ 12.9375 14.109375 22.625 23.890625 \r\nQ 32.328125 33.6875 34.8125 36.53125 \r\nQ 39.546875 41.84375 41.421875 45.53125 \r\nQ 43.3125 49.21875 43.3125 52.78125 \r\nQ 43.3125 58.59375 39.234375 62.25 \r\nQ 35.15625 65.921875 28.609375 65.921875 \r\nQ 23.96875 65.921875 18.8125 64.3125 \r\nQ 13.671875 62.703125 7.8125 59.421875 \r\nL 7.8125 69.390625 \r\nQ 13.765625 71.78125 18.9375 73 \r\nQ 24.125 74.21875 28.421875 74.21875 \r\nQ 39.75 74.21875 46.484375 68.546875 \r\nQ 53.21875 62.890625 53.21875 53.421875 \r\nQ 53.21875 48.921875 51.53125 44.890625 \r\nQ 49.859375 40.875 45.40625 35.40625 \r\nQ 44.1875 33.984375 37.640625 27.21875 \r\nQ 31.109375 20.453125 19.1875 8.296875 \r\nz\r\n\" id=\"DejaVuSans-50\"/>\r\n       </defs>\r\n       <use xlink:href=\"#DejaVuSans-50\"/>\r\n      </g>\r\n     </g>\r\n    </g>\r\n    <g id=\"xtick_2\">\r\n     <g id=\"line2d_2\">\r\n      <g>\r\n       <use style=\"stroke:#000000;stroke-width:0.8;\" x=\"179.541477\" xlink:href=\"#m0e01e9f92d\" y=\"239.758125\"/>\r\n      </g>\r\n     </g>\r\n     <g id=\"text_2\">\r\n      <!-- 4 -->\r\n      <g transform=\"translate(176.360227 254.356562)scale(0.1 -0.1)\">\r\n       <defs>\r\n        <path d=\"M 37.796875 64.3125 \r\nL 12.890625 25.390625 \r\nL 37.796875 25.390625 \r\nz\r\nM 35.203125 72.90625 \r\nL 47.609375 72.90625 \r\nL 47.609375 25.390625 \r\nL 58.015625 25.390625 \r\nL 58.015625 17.1875 \r\nL 47.609375 17.1875 \r\nL 47.609375 0 \r\nL 37.796875 0 \r\nL 37.796875 17.1875 \r\nL 4.890625 17.1875 \r\nL 4.890625 26.703125 \r\nz\r\n\" id=\"DejaVuSans-52\"/>\r\n       </defs>\r\n       <use xlink:href=\"#DejaVuSans-52\"/>\r\n      </g>\r\n     </g>\r\n    </g>\r\n    <g id=\"xtick_3\">\r\n     <g id=\"line2d_3\">\r\n      <g>\r\n       <use style=\"stroke:#000000;stroke-width:0.8;\" x=\"247.177841\" xlink:href=\"#m0e01e9f92d\" y=\"239.758125\"/>\r\n      </g>\r\n     </g>\r\n     <g id=\"text_3\">\r\n      <!-- 6 -->\r\n      <g transform=\"translate(243.996591 254.356562)scale(0.1 -0.1)\">\r\n       <defs>\r\n        <path d=\"M 33.015625 40.375 \r\nQ 26.375 40.375 22.484375 35.828125 \r\nQ 18.609375 31.296875 18.609375 23.390625 \r\nQ 18.609375 15.53125 22.484375 10.953125 \r\nQ 26.375 6.390625 33.015625 6.390625 \r\nQ 39.65625 6.390625 43.53125 10.953125 \r\nQ 47.40625 15.53125 47.40625 23.390625 \r\nQ 47.40625 31.296875 43.53125 35.828125 \r\nQ 39.65625 40.375 33.015625 40.375 \r\nz\r\nM 52.59375 71.296875 \r\nL 52.59375 62.3125 \r\nQ 48.875 64.0625 45.09375 64.984375 \r\nQ 41.3125 65.921875 37.59375 65.921875 \r\nQ 27.828125 65.921875 22.671875 59.328125 \r\nQ 17.53125 52.734375 16.796875 39.40625 \r\nQ 19.671875 43.65625 24.015625 45.921875 \r\nQ 28.375 48.1875 33.59375 48.1875 \r\nQ 44.578125 48.1875 50.953125 41.515625 \r\nQ 57.328125 34.859375 57.328125 23.390625 \r\nQ 57.328125 12.15625 50.6875 5.359375 \r\nQ 44.046875 -1.421875 33.015625 -1.421875 \r\nQ 20.359375 -1.421875 13.671875 8.265625 \r\nQ 6.984375 17.96875 6.984375 36.375 \r\nQ 6.984375 53.65625 15.1875 63.9375 \r\nQ 23.390625 74.21875 37.203125 74.21875 \r\nQ 40.921875 74.21875 44.703125 73.484375 \r\nQ 48.484375 72.75 52.59375 71.296875 \r\nz\r\n\" id=\"DejaVuSans-54\"/>\r\n       </defs>\r\n       <use xlink:href=\"#DejaVuSans-54\"/>\r\n      </g>\r\n     </g>\r\n    </g>\r\n    <g id=\"xtick_4\">\r\n     <g id=\"line2d_4\">\r\n      <g>\r\n       <use style=\"stroke:#000000;stroke-width:0.8;\" x=\"314.814205\" xlink:href=\"#m0e01e9f92d\" y=\"239.758125\"/>\r\n      </g>\r\n     </g>\r\n     <g id=\"text_4\">\r\n      <!-- 8 -->\r\n      <g transform=\"translate(311.632955 254.356562)scale(0.1 -0.1)\">\r\n       <defs>\r\n        <path d=\"M 31.78125 34.625 \r\nQ 24.75 34.625 20.71875 30.859375 \r\nQ 16.703125 27.09375 16.703125 20.515625 \r\nQ 16.703125 13.921875 20.71875 10.15625 \r\nQ 24.75 6.390625 31.78125 6.390625 \r\nQ 38.8125 6.390625 42.859375 10.171875 \r\nQ 46.921875 13.96875 46.921875 20.515625 \r\nQ 46.921875 27.09375 42.890625 30.859375 \r\nQ 38.875 34.625 31.78125 34.625 \r\nz\r\nM 21.921875 38.8125 \r\nQ 15.578125 40.375 12.03125 44.71875 \r\nQ 8.5 49.078125 8.5 55.328125 \r\nQ 8.5 64.0625 14.71875 69.140625 \r\nQ 20.953125 74.21875 31.78125 74.21875 \r\nQ 42.671875 74.21875 48.875 69.140625 \r\nQ 55.078125 64.0625 55.078125 55.328125 \r\nQ 55.078125 49.078125 51.53125 44.71875 \r\nQ 48 40.375 41.703125 38.8125 \r\nQ 48.828125 37.15625 52.796875 32.3125 \r\nQ 56.78125 27.484375 56.78125 20.515625 \r\nQ 56.78125 9.90625 50.3125 4.234375 \r\nQ 43.84375 -1.421875 31.78125 -1.421875 \r\nQ 19.734375 -1.421875 13.25 4.234375 \r\nQ 6.78125 9.90625 6.78125 20.515625 \r\nQ 6.78125 27.484375 10.78125 32.3125 \r\nQ 14.796875 37.15625 21.921875 38.8125 \r\nz\r\nM 18.3125 54.390625 \r\nQ 18.3125 48.734375 21.84375 45.5625 \r\nQ 25.390625 42.390625 31.78125 42.390625 \r\nQ 38.140625 42.390625 41.71875 45.5625 \r\nQ 45.3125 48.734375 45.3125 54.390625 \r\nQ 45.3125 60.0625 41.71875 63.234375 \r\nQ 38.140625 66.40625 31.78125 66.40625 \r\nQ 25.390625 66.40625 21.84375 63.234375 \r\nQ 18.3125 60.0625 18.3125 54.390625 \r\nz\r\n\" id=\"DejaVuSans-56\"/>\r\n       </defs>\r\n       <use xlink:href=\"#DejaVuSans-56\"/>\r\n      </g>\r\n     </g>\r\n    </g>\r\n    <g id=\"xtick_5\">\r\n     <g id=\"line2d_5\">\r\n      <g>\r\n       <use style=\"stroke:#000000;stroke-width:0.8;\" x=\"382.450568\" xlink:href=\"#m0e01e9f92d\" y=\"239.758125\"/>\r\n      </g>\r\n     </g>\r\n     <g id=\"text_5\">\r\n      <!-- 10 -->\r\n      <g transform=\"translate(376.088068 254.356562)scale(0.1 -0.1)\">\r\n       <defs>\r\n        <path d=\"M 12.40625 8.296875 \r\nL 28.515625 8.296875 \r\nL 28.515625 63.921875 \r\nL 10.984375 60.40625 \r\nL 10.984375 69.390625 \r\nL 28.421875 72.90625 \r\nL 38.28125 72.90625 \r\nL 38.28125 8.296875 \r\nL 54.390625 8.296875 \r\nL 54.390625 0 \r\nL 12.40625 0 \r\nz\r\n\" id=\"DejaVuSans-49\"/>\r\n        <path d=\"M 31.78125 66.40625 \r\nQ 24.171875 66.40625 20.328125 58.90625 \r\nQ 16.5 51.421875 16.5 36.375 \r\nQ 16.5 21.390625 20.328125 13.890625 \r\nQ 24.171875 6.390625 31.78125 6.390625 \r\nQ 39.453125 6.390625 43.28125 13.890625 \r\nQ 47.125 21.390625 47.125 36.375 \r\nQ 47.125 51.421875 43.28125 58.90625 \r\nQ 39.453125 66.40625 31.78125 66.40625 \r\nz\r\nM 31.78125 74.21875 \r\nQ 44.046875 74.21875 50.515625 64.515625 \r\nQ 56.984375 54.828125 56.984375 36.375 \r\nQ 56.984375 17.96875 50.515625 8.265625 \r\nQ 44.046875 -1.421875 31.78125 -1.421875 \r\nQ 19.53125 -1.421875 13.0625 8.265625 \r\nQ 6.59375 17.96875 6.59375 36.375 \r\nQ 6.59375 54.828125 13.0625 64.515625 \r\nQ 19.53125 74.21875 31.78125 74.21875 \r\nz\r\n\" id=\"DejaVuSans-48\"/>\r\n       </defs>\r\n       <use xlink:href=\"#DejaVuSans-49\"/>\r\n       <use x=\"63.623047\" xlink:href=\"#DejaVuSans-48\"/>\r\n      </g>\r\n     </g>\r\n    </g>\r\n    <g id=\"text_6\">\r\n     <!-- epoch -->\r\n     <g transform=\"translate(215.040625 268.034687)scale(0.1 -0.1)\">\r\n      <defs>\r\n       <path d=\"M 56.203125 29.59375 \r\nL 56.203125 25.203125 \r\nL 14.890625 25.203125 \r\nQ 15.484375 15.921875 20.484375 11.0625 \r\nQ 25.484375 6.203125 34.421875 6.203125 \r\nQ 39.59375 6.203125 44.453125 7.46875 \r\nQ 49.3125 8.734375 54.109375 11.28125 \r\nL 54.109375 2.78125 \r\nQ 49.265625 0.734375 44.1875 -0.34375 \r\nQ 39.109375 -1.421875 33.890625 -1.421875 \r\nQ 20.796875 -1.421875 13.15625 6.1875 \r\nQ 5.515625 13.8125 5.515625 26.8125 \r\nQ 5.515625 40.234375 12.765625 48.109375 \r\nQ 20.015625 56 32.328125 56 \r\nQ 43.359375 56 49.78125 48.890625 \r\nQ 56.203125 41.796875 56.203125 29.59375 \r\nz\r\nM 47.21875 32.234375 \r\nQ 47.125 39.59375 43.09375 43.984375 \r\nQ 39.0625 48.390625 32.421875 48.390625 \r\nQ 24.90625 48.390625 20.390625 44.140625 \r\nQ 15.875 39.890625 15.1875 32.171875 \r\nz\r\n\" id=\"DejaVuSans-101\"/>\r\n       <path d=\"M 18.109375 8.203125 \r\nL 18.109375 -20.796875 \r\nL 9.078125 -20.796875 \r\nL 9.078125 54.6875 \r\nL 18.109375 54.6875 \r\nL 18.109375 46.390625 \r\nQ 20.953125 51.265625 25.265625 53.625 \r\nQ 29.59375 56 35.59375 56 \r\nQ 45.5625 56 51.78125 48.09375 \r\nQ 58.015625 40.1875 58.015625 27.296875 \r\nQ 58.015625 14.40625 51.78125 6.484375 \r\nQ 45.5625 -1.421875 35.59375 -1.421875 \r\nQ 29.59375 -1.421875 25.265625 0.953125 \r\nQ 20.953125 3.328125 18.109375 8.203125 \r\nz\r\nM 48.6875 27.296875 \r\nQ 48.6875 37.203125 44.609375 42.84375 \r\nQ 40.53125 48.484375 33.40625 48.484375 \r\nQ 26.265625 48.484375 22.1875 42.84375 \r\nQ 18.109375 37.203125 18.109375 27.296875 \r\nQ 18.109375 17.390625 22.1875 11.75 \r\nQ 26.265625 6.109375 33.40625 6.109375 \r\nQ 40.53125 6.109375 44.609375 11.75 \r\nQ 48.6875 17.390625 48.6875 27.296875 \r\nz\r\n\" id=\"DejaVuSans-112\"/>\r\n       <path d=\"M 30.609375 48.390625 \r\nQ 23.390625 48.390625 19.1875 42.75 \r\nQ 14.984375 37.109375 14.984375 27.296875 \r\nQ 14.984375 17.484375 19.15625 11.84375 \r\nQ 23.34375 6.203125 30.609375 6.203125 \r\nQ 37.796875 6.203125 41.984375 11.859375 \r\nQ 46.1875 17.53125 46.1875 27.296875 \r\nQ 46.1875 37.015625 41.984375 42.703125 \r\nQ 37.796875 48.390625 30.609375 48.390625 \r\nz\r\nM 30.609375 56 \r\nQ 42.328125 56 49.015625 48.375 \r\nQ 55.71875 40.765625 55.71875 27.296875 \r\nQ 55.71875 13.875 49.015625 6.21875 \r\nQ 42.328125 -1.421875 30.609375 -1.421875 \r\nQ 18.84375 -1.421875 12.171875 6.21875 \r\nQ 5.515625 13.875 5.515625 27.296875 \r\nQ 5.515625 40.765625 12.171875 48.375 \r\nQ 18.84375 56 30.609375 56 \r\nz\r\n\" id=\"DejaVuSans-111\"/>\r\n       <path d=\"M 48.78125 52.59375 \r\nL 48.78125 44.1875 \r\nQ 44.96875 46.296875 41.140625 47.34375 \r\nQ 37.3125 48.390625 33.40625 48.390625 \r\nQ 24.65625 48.390625 19.8125 42.84375 \r\nQ 14.984375 37.3125 14.984375 27.296875 \r\nQ 14.984375 17.28125 19.8125 11.734375 \r\nQ 24.65625 6.203125 33.40625 6.203125 \r\nQ 37.3125 6.203125 41.140625 7.25 \r\nQ 44.96875 8.296875 48.78125 10.40625 \r\nL 48.78125 2.09375 \r\nQ 45.015625 0.34375 40.984375 -0.53125 \r\nQ 36.96875 -1.421875 32.421875 -1.421875 \r\nQ 20.0625 -1.421875 12.78125 6.34375 \r\nQ 5.515625 14.109375 5.515625 27.296875 \r\nQ 5.515625 40.671875 12.859375 48.328125 \r\nQ 20.21875 56 33.015625 56 \r\nQ 37.15625 56 41.109375 55.140625 \r\nQ 45.0625 54.296875 48.78125 52.59375 \r\nz\r\n\" id=\"DejaVuSans-99\"/>\r\n       <path d=\"M 54.890625 33.015625 \r\nL 54.890625 0 \r\nL 45.90625 0 \r\nL 45.90625 32.71875 \r\nQ 45.90625 40.484375 42.875 44.328125 \r\nQ 39.84375 48.1875 33.796875 48.1875 \r\nQ 26.515625 48.1875 22.3125 43.546875 \r\nQ 18.109375 38.921875 18.109375 30.90625 \r\nL 18.109375 0 \r\nL 9.078125 0 \r\nL 9.078125 75.984375 \r\nL 18.109375 75.984375 \r\nL 18.109375 46.1875 \r\nQ 21.34375 51.125 25.703125 53.5625 \r\nQ 30.078125 56 35.796875 56 \r\nQ 45.21875 56 50.046875 50.171875 \r\nQ 54.890625 44.34375 54.890625 33.015625 \r\nz\r\n\" id=\"DejaVuSans-104\"/>\r\n      </defs>\r\n      <use xlink:href=\"#DejaVuSans-101\"/>\r\n      <use x=\"61.523438\" xlink:href=\"#DejaVuSans-112\"/>\r\n      <use x=\"125\" xlink:href=\"#DejaVuSans-111\"/>\r\n      <use x=\"186.181641\" xlink:href=\"#DejaVuSans-99\"/>\r\n      <use x=\"241.162109\" xlink:href=\"#DejaVuSans-104\"/>\r\n     </g>\r\n    </g>\r\n   </g>\r\n   <g id=\"matplotlib.axis_2\">\r\n    <g id=\"ytick_1\">\r\n     <g id=\"line2d_6\">\r\n      <defs>\r\n       <path d=\"M 0 0 \r\nL -3.5 0 \r\n\" id=\"m7b29e92673\" style=\"stroke:#000000;stroke-width:0.8;\"/>\r\n      </defs>\r\n      <g>\r\n       <use style=\"stroke:#000000;stroke-width:0.8;\" x=\"62.86875\" xlink:href=\"#m7b29e92673\" y=\"218.698383\"/>\r\n      </g>\r\n     </g>\r\n     <g id=\"text_7\">\r\n      <!-- 0.0200 -->\r\n      <g transform=\"translate(20.878125 222.497602)scale(0.1 -0.1)\">\r\n       <defs>\r\n        <path d=\"M 10.6875 12.40625 \r\nL 21 12.40625 \r\nL 21 0 \r\nL 10.6875 0 \r\nz\r\n\" id=\"DejaVuSans-46\"/>\r\n       </defs>\r\n       <use xlink:href=\"#DejaVuSans-48\"/>\r\n       <use x=\"63.623047\" xlink:href=\"#DejaVuSans-46\"/>\r\n       <use x=\"95.410156\" xlink:href=\"#DejaVuSans-48\"/>\r\n       <use x=\"159.033203\" xlink:href=\"#DejaVuSans-50\"/>\r\n       <use x=\"222.65625\" xlink:href=\"#DejaVuSans-48\"/>\r\n       <use x=\"286.279297\" xlink:href=\"#DejaVuSans-48\"/>\r\n      </g>\r\n     </g>\r\n    </g>\r\n    <g id=\"ytick_2\">\r\n     <g id=\"line2d_7\">\r\n      <g>\r\n       <use style=\"stroke:#000000;stroke-width:0.8;\" x=\"62.86875\" xlink:href=\"#m7b29e92673\" y=\"189.028469\"/>\r\n      </g>\r\n     </g>\r\n     <g id=\"text_8\">\r\n      <!-- 0.0225 -->\r\n      <g transform=\"translate(20.878125 192.827688)scale(0.1 -0.1)\">\r\n       <defs>\r\n        <path d=\"M 10.796875 72.90625 \r\nL 49.515625 72.90625 \r\nL 49.515625 64.59375 \r\nL 19.828125 64.59375 \r\nL 19.828125 46.734375 \r\nQ 21.96875 47.46875 24.109375 47.828125 \r\nQ 26.265625 48.1875 28.421875 48.1875 \r\nQ 40.625 48.1875 47.75 41.5 \r\nQ 54.890625 34.8125 54.890625 23.390625 \r\nQ 54.890625 11.625 47.5625 5.09375 \r\nQ 40.234375 -1.421875 26.90625 -1.421875 \r\nQ 22.3125 -1.421875 17.546875 -0.640625 \r\nQ 12.796875 0.140625 7.71875 1.703125 \r\nL 7.71875 11.625 \r\nQ 12.109375 9.234375 16.796875 8.0625 \r\nQ 21.484375 6.890625 26.703125 6.890625 \r\nQ 35.15625 6.890625 40.078125 11.328125 \r\nQ 45.015625 15.765625 45.015625 23.390625 \r\nQ 45.015625 31 40.078125 35.4375 \r\nQ 35.15625 39.890625 26.703125 39.890625 \r\nQ 22.75 39.890625 18.8125 39.015625 \r\nQ 14.890625 38.140625 10.796875 36.28125 \r\nz\r\n\" id=\"DejaVuSans-53\"/>\r\n       </defs>\r\n       <use xlink:href=\"#DejaVuSans-48\"/>\r\n       <use x=\"63.623047\" xlink:href=\"#DejaVuSans-46\"/>\r\n       <use x=\"95.410156\" xlink:href=\"#DejaVuSans-48\"/>\r\n       <use x=\"159.033203\" xlink:href=\"#DejaVuSans-50\"/>\r\n       <use x=\"222.65625\" xlink:href=\"#DejaVuSans-50\"/>\r\n       <use x=\"286.279297\" xlink:href=\"#DejaVuSans-53\"/>\r\n      </g>\r\n     </g>\r\n    </g>\r\n    <g id=\"ytick_3\">\r\n     <g id=\"line2d_8\">\r\n      <g>\r\n       <use style=\"stroke:#000000;stroke-width:0.8;\" x=\"62.86875\" xlink:href=\"#m7b29e92673\" y=\"159.358555\"/>\r\n      </g>\r\n     </g>\r\n     <g id=\"text_9\">\r\n      <!-- 0.0250 -->\r\n      <g transform=\"translate(20.878125 163.157774)scale(0.1 -0.1)\">\r\n       <use xlink:href=\"#DejaVuSans-48\"/>\r\n       <use x=\"63.623047\" xlink:href=\"#DejaVuSans-46\"/>\r\n       <use x=\"95.410156\" xlink:href=\"#DejaVuSans-48\"/>\r\n       <use x=\"159.033203\" xlink:href=\"#DejaVuSans-50\"/>\r\n       <use x=\"222.65625\" xlink:href=\"#DejaVuSans-53\"/>\r\n       <use x=\"286.279297\" xlink:href=\"#DejaVuSans-48\"/>\r\n      </g>\r\n     </g>\r\n    </g>\r\n    <g id=\"ytick_4\">\r\n     <g id=\"line2d_9\">\r\n      <g>\r\n       <use style=\"stroke:#000000;stroke-width:0.8;\" x=\"62.86875\" xlink:href=\"#m7b29e92673\" y=\"129.688641\"/>\r\n      </g>\r\n     </g>\r\n     <g id=\"text_10\">\r\n      <!-- 0.0275 -->\r\n      <g transform=\"translate(20.878125 133.48786)scale(0.1 -0.1)\">\r\n       <defs>\r\n        <path d=\"M 8.203125 72.90625 \r\nL 55.078125 72.90625 \r\nL 55.078125 68.703125 \r\nL 28.609375 0 \r\nL 18.3125 0 \r\nL 43.21875 64.59375 \r\nL 8.203125 64.59375 \r\nz\r\n\" id=\"DejaVuSans-55\"/>\r\n       </defs>\r\n       <use xlink:href=\"#DejaVuSans-48\"/>\r\n       <use x=\"63.623047\" xlink:href=\"#DejaVuSans-46\"/>\r\n       <use x=\"95.410156\" xlink:href=\"#DejaVuSans-48\"/>\r\n       <use x=\"159.033203\" xlink:href=\"#DejaVuSans-50\"/>\r\n       <use x=\"222.65625\" xlink:href=\"#DejaVuSans-55\"/>\r\n       <use x=\"286.279297\" xlink:href=\"#DejaVuSans-53\"/>\r\n      </g>\r\n     </g>\r\n    </g>\r\n    <g id=\"ytick_5\">\r\n     <g id=\"line2d_10\">\r\n      <g>\r\n       <use style=\"stroke:#000000;stroke-width:0.8;\" x=\"62.86875\" xlink:href=\"#m7b29e92673\" y=\"100.018727\"/>\r\n      </g>\r\n     </g>\r\n     <g id=\"text_11\">\r\n      <!-- 0.0300 -->\r\n      <g transform=\"translate(20.878125 103.817946)scale(0.1 -0.1)\">\r\n       <defs>\r\n        <path d=\"M 40.578125 39.3125 \r\nQ 47.65625 37.796875 51.625 33 \r\nQ 55.609375 28.21875 55.609375 21.1875 \r\nQ 55.609375 10.40625 48.1875 4.484375 \r\nQ 40.765625 -1.421875 27.09375 -1.421875 \r\nQ 22.515625 -1.421875 17.65625 -0.515625 \r\nQ 12.796875 0.390625 7.625 2.203125 \r\nL 7.625 11.71875 \r\nQ 11.71875 9.328125 16.59375 8.109375 \r\nQ 21.484375 6.890625 26.8125 6.890625 \r\nQ 36.078125 6.890625 40.9375 10.546875 \r\nQ 45.796875 14.203125 45.796875 21.1875 \r\nQ 45.796875 27.640625 41.28125 31.265625 \r\nQ 36.765625 34.90625 28.71875 34.90625 \r\nL 20.21875 34.90625 \r\nL 20.21875 43.015625 \r\nL 29.109375 43.015625 \r\nQ 36.375 43.015625 40.234375 45.921875 \r\nQ 44.09375 48.828125 44.09375 54.296875 \r\nQ 44.09375 59.90625 40.109375 62.90625 \r\nQ 36.140625 65.921875 28.71875 65.921875 \r\nQ 24.65625 65.921875 20.015625 65.03125 \r\nQ 15.375 64.15625 9.8125 62.3125 \r\nL 9.8125 71.09375 \r\nQ 15.4375 72.65625 20.34375 73.4375 \r\nQ 25.25 74.21875 29.59375 74.21875 \r\nQ 40.828125 74.21875 47.359375 69.109375 \r\nQ 53.90625 64.015625 53.90625 55.328125 \r\nQ 53.90625 49.265625 50.4375 45.09375 \r\nQ 46.96875 40.921875 40.578125 39.3125 \r\nz\r\n\" id=\"DejaVuSans-51\"/>\r\n       </defs>\r\n       <use xlink:href=\"#DejaVuSans-48\"/>\r\n       <use x=\"63.623047\" xlink:href=\"#DejaVuSans-46\"/>\r\n       <use x=\"95.410156\" xlink:href=\"#DejaVuSans-48\"/>\r\n       <use x=\"159.033203\" xlink:href=\"#DejaVuSans-51\"/>\r\n       <use x=\"222.65625\" xlink:href=\"#DejaVuSans-48\"/>\r\n       <use x=\"286.279297\" xlink:href=\"#DejaVuSans-48\"/>\r\n      </g>\r\n     </g>\r\n    </g>\r\n    <g id=\"ytick_6\">\r\n     <g id=\"line2d_11\">\r\n      <g>\r\n       <use style=\"stroke:#000000;stroke-width:0.8;\" x=\"62.86875\" xlink:href=\"#m7b29e92673\" y=\"70.348813\"/>\r\n      </g>\r\n     </g>\r\n     <g id=\"text_12\">\r\n      <!-- 0.0325 -->\r\n      <g transform=\"translate(20.878125 74.148031)scale(0.1 -0.1)\">\r\n       <use xlink:href=\"#DejaVuSans-48\"/>\r\n       <use x=\"63.623047\" xlink:href=\"#DejaVuSans-46\"/>\r\n       <use x=\"95.410156\" xlink:href=\"#DejaVuSans-48\"/>\r\n       <use x=\"159.033203\" xlink:href=\"#DejaVuSans-51\"/>\r\n       <use x=\"222.65625\" xlink:href=\"#DejaVuSans-50\"/>\r\n       <use x=\"286.279297\" xlink:href=\"#DejaVuSans-53\"/>\r\n      </g>\r\n     </g>\r\n    </g>\r\n    <g id=\"ytick_7\">\r\n     <g id=\"line2d_12\">\r\n      <g>\r\n       <use style=\"stroke:#000000;stroke-width:0.8;\" x=\"62.86875\" xlink:href=\"#m7b29e92673\" y=\"40.678899\"/>\r\n      </g>\r\n     </g>\r\n     <g id=\"text_13\">\r\n      <!-- 0.0350 -->\r\n      <g transform=\"translate(20.878125 44.478117)scale(0.1 -0.1)\">\r\n       <use xlink:href=\"#DejaVuSans-48\"/>\r\n       <use x=\"63.623047\" xlink:href=\"#DejaVuSans-46\"/>\r\n       <use x=\"95.410156\" xlink:href=\"#DejaVuSans-48\"/>\r\n       <use x=\"159.033203\" xlink:href=\"#DejaVuSans-51\"/>\r\n       <use x=\"222.65625\" xlink:href=\"#DejaVuSans-53\"/>\r\n       <use x=\"286.279297\" xlink:href=\"#DejaVuSans-48\"/>\r\n      </g>\r\n     </g>\r\n    </g>\r\n    <g id=\"text_14\">\r\n     <!-- accuracy -->\r\n     <g transform=\"translate(14.798438 153.5975)rotate(-90)scale(0.1 -0.1)\">\r\n      <defs>\r\n       <path d=\"M 34.28125 27.484375 \r\nQ 23.390625 27.484375 19.1875 25 \r\nQ 14.984375 22.515625 14.984375 16.5 \r\nQ 14.984375 11.71875 18.140625 8.90625 \r\nQ 21.296875 6.109375 26.703125 6.109375 \r\nQ 34.1875 6.109375 38.703125 11.40625 \r\nQ 43.21875 16.703125 43.21875 25.484375 \r\nL 43.21875 27.484375 \r\nz\r\nM 52.203125 31.203125 \r\nL 52.203125 0 \r\nL 43.21875 0 \r\nL 43.21875 8.296875 \r\nQ 40.140625 3.328125 35.546875 0.953125 \r\nQ 30.953125 -1.421875 24.3125 -1.421875 \r\nQ 15.921875 -1.421875 10.953125 3.296875 \r\nQ 6 8.015625 6 15.921875 \r\nQ 6 25.140625 12.171875 29.828125 \r\nQ 18.359375 34.515625 30.609375 34.515625 \r\nL 43.21875 34.515625 \r\nL 43.21875 35.40625 \r\nQ 43.21875 41.609375 39.140625 45 \r\nQ 35.0625 48.390625 27.6875 48.390625 \r\nQ 23 48.390625 18.546875 47.265625 \r\nQ 14.109375 46.140625 10.015625 43.890625 \r\nL 10.015625 52.203125 \r\nQ 14.9375 54.109375 19.578125 55.046875 \r\nQ 24.21875 56 28.609375 56 \r\nQ 40.484375 56 46.34375 49.84375 \r\nQ 52.203125 43.703125 52.203125 31.203125 \r\nz\r\n\" id=\"DejaVuSans-97\"/>\r\n       <path d=\"M 8.5 21.578125 \r\nL 8.5 54.6875 \r\nL 17.484375 54.6875 \r\nL 17.484375 21.921875 \r\nQ 17.484375 14.15625 20.5 10.265625 \r\nQ 23.53125 6.390625 29.59375 6.390625 \r\nQ 36.859375 6.390625 41.078125 11.03125 \r\nQ 45.3125 15.671875 45.3125 23.6875 \r\nL 45.3125 54.6875 \r\nL 54.296875 54.6875 \r\nL 54.296875 0 \r\nL 45.3125 0 \r\nL 45.3125 8.40625 \r\nQ 42.046875 3.421875 37.71875 1 \r\nQ 33.40625 -1.421875 27.6875 -1.421875 \r\nQ 18.265625 -1.421875 13.375 4.4375 \r\nQ 8.5 10.296875 8.5 21.578125 \r\nz\r\nM 31.109375 56 \r\nz\r\n\" id=\"DejaVuSans-117\"/>\r\n       <path d=\"M 41.109375 46.296875 \r\nQ 39.59375 47.171875 37.8125 47.578125 \r\nQ 36.03125 48 33.890625 48 \r\nQ 26.265625 48 22.1875 43.046875 \r\nQ 18.109375 38.09375 18.109375 28.8125 \r\nL 18.109375 0 \r\nL 9.078125 0 \r\nL 9.078125 54.6875 \r\nL 18.109375 54.6875 \r\nL 18.109375 46.1875 \r\nQ 20.953125 51.171875 25.484375 53.578125 \r\nQ 30.03125 56 36.53125 56 \r\nQ 37.453125 56 38.578125 55.875 \r\nQ 39.703125 55.765625 41.0625 55.515625 \r\nz\r\n\" id=\"DejaVuSans-114\"/>\r\n       <path d=\"M 32.171875 -5.078125 \r\nQ 28.375 -14.84375 24.75 -17.8125 \r\nQ 21.140625 -20.796875 15.09375 -20.796875 \r\nL 7.90625 -20.796875 \r\nL 7.90625 -13.28125 \r\nL 13.1875 -13.28125 \r\nQ 16.890625 -13.28125 18.9375 -11.515625 \r\nQ 21 -9.765625 23.484375 -3.21875 \r\nL 25.09375 0.875 \r\nL 2.984375 54.6875 \r\nL 12.5 54.6875 \r\nL 29.59375 11.921875 \r\nL 46.6875 54.6875 \r\nL 56.203125 54.6875 \r\nz\r\n\" id=\"DejaVuSans-121\"/>\r\n      </defs>\r\n      <use xlink:href=\"#DejaVuSans-97\"/>\r\n      <use x=\"61.279297\" xlink:href=\"#DejaVuSans-99\"/>\r\n      <use x=\"116.259766\" xlink:href=\"#DejaVuSans-99\"/>\r\n      <use x=\"171.240234\" xlink:href=\"#DejaVuSans-117\"/>\r\n      <use x=\"234.619141\" xlink:href=\"#DejaVuSans-114\"/>\r\n      <use x=\"275.732422\" xlink:href=\"#DejaVuSans-97\"/>\r\n      <use x=\"337.011719\" xlink:href=\"#DejaVuSans-99\"/>\r\n      <use x=\"391.992188\" xlink:href=\"#DejaVuSans-121\"/>\r\n     </g>\r\n    </g>\r\n   </g>\r\n   <g id=\"line2d_13\">\r\n    <path clip-path=\"url(#p8a6436cc49)\" d=\"M 78.086932 203.26471 \r\nL 111.905114 229.874489 \r\nL 145.723295 229.874489 \r\nL 179.541477 229.874489 \r\nL 213.359659 229.874489 \r\nL 247.177841 229.874489 \r\nL 280.996023 229.874489 \r\nL 314.814205 229.874489 \r\nL 348.632386 229.874489 \r\nL 382.450568 229.874489 \r\n\" style=\"fill:none;stroke:#1f77b4;stroke-linecap:square;stroke-width:1.5;\"/>\r\n   </g>\r\n   <g id=\"line2d_14\">\r\n    <path clip-path=\"url(#p8a6436cc49)\" d=\"M 78.086932 32.201761 \r\nL 111.905114 32.201761 \r\nL 145.723295 32.201761 \r\nL 179.541477 32.201761 \r\nL 213.359659 32.201761 \r\nL 247.177841 32.201761 \r\nL 280.996023 32.201761 \r\nL 314.814205 32.201761 \r\nL 348.632386 32.201761 \r\nL 382.450568 32.201761 \r\n\" style=\"fill:none;stroke:#ff7f0e;stroke-linecap:square;stroke-width:1.5;\"/>\r\n   </g>\r\n   <g id=\"patch_3\">\r\n    <path d=\"M 62.86875 239.758125 \r\nL 62.86875 22.318125 \r\n\" style=\"fill:none;stroke:#000000;stroke-linecap:square;stroke-linejoin:miter;stroke-width:0.8;\"/>\r\n   </g>\r\n   <g id=\"patch_4\">\r\n    <path d=\"M 397.66875 239.758125 \r\nL 397.66875 22.318125 \r\n\" style=\"fill:none;stroke:#000000;stroke-linecap:square;stroke-linejoin:miter;stroke-width:0.8;\"/>\r\n   </g>\r\n   <g id=\"patch_5\">\r\n    <path d=\"M 62.86875 239.758125 \r\nL 397.66875 239.758125 \r\n\" style=\"fill:none;stroke:#000000;stroke-linecap:square;stroke-linejoin:miter;stroke-width:0.8;\"/>\r\n   </g>\r\n   <g id=\"patch_6\">\r\n    <path d=\"M 62.86875 22.318125 \r\nL 397.66875 22.318125 \r\n\" style=\"fill:none;stroke:#000000;stroke-linecap:square;stroke-linejoin:miter;stroke-width:0.8;\"/>\r\n   </g>\r\n   <g id=\"text_15\">\r\n    <!-- model accuracy -->\r\n    <g transform=\"translate(182.607188 16.318125)scale(0.12 -0.12)\">\r\n     <defs>\r\n      <path d=\"M 52 44.1875 \r\nQ 55.375 50.25 60.0625 53.125 \r\nQ 64.75 56 71.09375 56 \r\nQ 79.640625 56 84.28125 50.015625 \r\nQ 88.921875 44.046875 88.921875 33.015625 \r\nL 88.921875 0 \r\nL 79.890625 0 \r\nL 79.890625 32.71875 \r\nQ 79.890625 40.578125 77.09375 44.375 \r\nQ 74.3125 48.1875 68.609375 48.1875 \r\nQ 61.625 48.1875 57.5625 43.546875 \r\nQ 53.515625 38.921875 53.515625 30.90625 \r\nL 53.515625 0 \r\nL 44.484375 0 \r\nL 44.484375 32.71875 \r\nQ 44.484375 40.625 41.703125 44.40625 \r\nQ 38.921875 48.1875 33.109375 48.1875 \r\nQ 26.21875 48.1875 22.15625 43.53125 \r\nQ 18.109375 38.875 18.109375 30.90625 \r\nL 18.109375 0 \r\nL 9.078125 0 \r\nL 9.078125 54.6875 \r\nL 18.109375 54.6875 \r\nL 18.109375 46.1875 \r\nQ 21.1875 51.21875 25.484375 53.609375 \r\nQ 29.78125 56 35.6875 56 \r\nQ 41.65625 56 45.828125 52.96875 \r\nQ 50 49.953125 52 44.1875 \r\nz\r\n\" id=\"DejaVuSans-109\"/>\r\n      <path d=\"M 45.40625 46.390625 \r\nL 45.40625 75.984375 \r\nL 54.390625 75.984375 \r\nL 54.390625 0 \r\nL 45.40625 0 \r\nL 45.40625 8.203125 \r\nQ 42.578125 3.328125 38.25 0.953125 \r\nQ 33.9375 -1.421875 27.875 -1.421875 \r\nQ 17.96875 -1.421875 11.734375 6.484375 \r\nQ 5.515625 14.40625 5.515625 27.296875 \r\nQ 5.515625 40.1875 11.734375 48.09375 \r\nQ 17.96875 56 27.875 56 \r\nQ 33.9375 56 38.25 53.625 \r\nQ 42.578125 51.265625 45.40625 46.390625 \r\nz\r\nM 14.796875 27.296875 \r\nQ 14.796875 17.390625 18.875 11.75 \r\nQ 22.953125 6.109375 30.078125 6.109375 \r\nQ 37.203125 6.109375 41.296875 11.75 \r\nQ 45.40625 17.390625 45.40625 27.296875 \r\nQ 45.40625 37.203125 41.296875 42.84375 \r\nQ 37.203125 48.484375 30.078125 48.484375 \r\nQ 22.953125 48.484375 18.875 42.84375 \r\nQ 14.796875 37.203125 14.796875 27.296875 \r\nz\r\n\" id=\"DejaVuSans-100\"/>\r\n      <path d=\"M 9.421875 75.984375 \r\nL 18.40625 75.984375 \r\nL 18.40625 0 \r\nL 9.421875 0 \r\nz\r\n\" id=\"DejaVuSans-108\"/>\r\n      <path id=\"DejaVuSans-32\"/>\r\n     </defs>\r\n     <use xlink:href=\"#DejaVuSans-109\"/>\r\n     <use x=\"97.412109\" xlink:href=\"#DejaVuSans-111\"/>\r\n     <use x=\"158.59375\" xlink:href=\"#DejaVuSans-100\"/>\r\n     <use x=\"222.070312\" xlink:href=\"#DejaVuSans-101\"/>\r\n     <use x=\"283.59375\" xlink:href=\"#DejaVuSans-108\"/>\r\n     <use x=\"311.376953\" xlink:href=\"#DejaVuSans-32\"/>\r\n     <use x=\"343.164062\" xlink:href=\"#DejaVuSans-97\"/>\r\n     <use x=\"404.443359\" xlink:href=\"#DejaVuSans-99\"/>\r\n     <use x=\"459.423828\" xlink:href=\"#DejaVuSans-99\"/>\r\n     <use x=\"514.404297\" xlink:href=\"#DejaVuSans-117\"/>\r\n     <use x=\"577.783203\" xlink:href=\"#DejaVuSans-114\"/>\r\n     <use x=\"618.896484\" xlink:href=\"#DejaVuSans-97\"/>\r\n     <use x=\"680.175781\" xlink:href=\"#DejaVuSans-99\"/>\r\n     <use x=\"735.15625\" xlink:href=\"#DejaVuSans-121\"/>\r\n    </g>\r\n   </g>\r\n   <g id=\"legend_1\">\r\n    <g id=\"patch_7\">\r\n     <path d=\"M 69.86875 59.674375 \r\nL 125.14375 59.674375 \r\nQ 127.14375 59.674375 127.14375 57.674375 \r\nL 127.14375 29.318125 \r\nQ 127.14375 27.318125 125.14375 27.318125 \r\nL 69.86875 27.318125 \r\nQ 67.86875 27.318125 67.86875 29.318125 \r\nL 67.86875 57.674375 \r\nQ 67.86875 59.674375 69.86875 59.674375 \r\nz\r\n\" style=\"fill:#ffffff;opacity:0.8;stroke:#cccccc;stroke-linejoin:miter;\"/>\r\n    </g>\r\n    <g id=\"line2d_15\">\r\n     <path d=\"M 71.86875 35.416562 \r\nL 91.86875 35.416562 \r\n\" style=\"fill:none;stroke:#1f77b4;stroke-linecap:square;stroke-width:1.5;\"/>\r\n    </g>\r\n    <g id=\"line2d_16\"/>\r\n    <g id=\"text_16\">\r\n     <!-- train -->\r\n     <g transform=\"translate(99.86875 38.916562)scale(0.1 -0.1)\">\r\n      <defs>\r\n       <path d=\"M 18.3125 70.21875 \r\nL 18.3125 54.6875 \r\nL 36.8125 54.6875 \r\nL 36.8125 47.703125 \r\nL 18.3125 47.703125 \r\nL 18.3125 18.015625 \r\nQ 18.3125 11.328125 20.140625 9.421875 \r\nQ 21.96875 7.515625 27.59375 7.515625 \r\nL 36.8125 7.515625 \r\nL 36.8125 0 \r\nL 27.59375 0 \r\nQ 17.1875 0 13.234375 3.875 \r\nQ 9.28125 7.765625 9.28125 18.015625 \r\nL 9.28125 47.703125 \r\nL 2.6875 47.703125 \r\nL 2.6875 54.6875 \r\nL 9.28125 54.6875 \r\nL 9.28125 70.21875 \r\nz\r\n\" id=\"DejaVuSans-116\"/>\r\n       <path d=\"M 9.421875 54.6875 \r\nL 18.40625 54.6875 \r\nL 18.40625 0 \r\nL 9.421875 0 \r\nz\r\nM 9.421875 75.984375 \r\nL 18.40625 75.984375 \r\nL 18.40625 64.59375 \r\nL 9.421875 64.59375 \r\nz\r\n\" id=\"DejaVuSans-105\"/>\r\n       <path d=\"M 54.890625 33.015625 \r\nL 54.890625 0 \r\nL 45.90625 0 \r\nL 45.90625 32.71875 \r\nQ 45.90625 40.484375 42.875 44.328125 \r\nQ 39.84375 48.1875 33.796875 48.1875 \r\nQ 26.515625 48.1875 22.3125 43.546875 \r\nQ 18.109375 38.921875 18.109375 30.90625 \r\nL 18.109375 0 \r\nL 9.078125 0 \r\nL 9.078125 54.6875 \r\nL 18.109375 54.6875 \r\nL 18.109375 46.1875 \r\nQ 21.34375 51.125 25.703125 53.5625 \r\nQ 30.078125 56 35.796875 56 \r\nQ 45.21875 56 50.046875 50.171875 \r\nQ 54.890625 44.34375 54.890625 33.015625 \r\nz\r\n\" id=\"DejaVuSans-110\"/>\r\n      </defs>\r\n      <use xlink:href=\"#DejaVuSans-116\"/>\r\n      <use x=\"39.208984\" xlink:href=\"#DejaVuSans-114\"/>\r\n      <use x=\"80.322266\" xlink:href=\"#DejaVuSans-97\"/>\r\n      <use x=\"141.601562\" xlink:href=\"#DejaVuSans-105\"/>\r\n      <use x=\"169.384766\" xlink:href=\"#DejaVuSans-110\"/>\r\n     </g>\r\n    </g>\r\n    <g id=\"line2d_17\">\r\n     <path d=\"M 71.86875 50.094687 \r\nL 91.86875 50.094687 \r\n\" style=\"fill:none;stroke:#ff7f0e;stroke-linecap:square;stroke-width:1.5;\"/>\r\n    </g>\r\n    <g id=\"line2d_18\"/>\r\n    <g id=\"text_17\">\r\n     <!-- val -->\r\n     <g transform=\"translate(99.86875 53.594687)scale(0.1 -0.1)\">\r\n      <defs>\r\n       <path d=\"M 2.984375 54.6875 \r\nL 12.5 54.6875 \r\nL 29.59375 8.796875 \r\nL 46.6875 54.6875 \r\nL 56.203125 54.6875 \r\nL 35.6875 0 \r\nL 23.484375 0 \r\nz\r\n\" id=\"DejaVuSans-118\"/>\r\n      </defs>\r\n      <use xlink:href=\"#DejaVuSans-118\"/>\r\n      <use x=\"59.179688\" xlink:href=\"#DejaVuSans-97\"/>\r\n      <use x=\"120.458984\" xlink:href=\"#DejaVuSans-108\"/>\r\n     </g>\r\n    </g>\r\n   </g>\r\n  </g>\r\n </g>\r\n <defs>\r\n  <clipPath id=\"p8a6436cc49\">\r\n   <rect height=\"217.44\" width=\"334.8\" x=\"62.86875\" y=\"22.318125\"/>\r\n  </clipPath>\r\n </defs>\r\n</svg>\r\n",
      "image/png": "[encoded data removed]"
     },
     "metadata": {
      "needs_background": "light"
     }
    }
   ],
   "source": [
    "epochs = range(1, len(history.history['acc']) + 1)\n",
    "plt.plot(epochs, history.history['acc'])\n",
    "plt.plot(epochs, history.history['val_acc'])\n",
    "plt.title('model accuracy')\n",
    "plt.ylabel('accuracy')\n",
    "plt.xlabel('epoch')\n",
    "plt.legend(['train', 'val'], loc='upper left')\n",
    "plt.show()"
   ]
  },
  {
   "cell_type": "code",
   "execution_count": 309,
   "metadata": {},
   "outputs": [
    {
     "output_type": "display_data",
     "data": {
      "text/plain": "<Figure size 432x288 with 1 Axes>",
      "image/svg+xml": "<?xml version=\"1.0\" encoding=\"utf-8\" standalone=\"no\"?>\r\n<!DOCTYPE svg PUBLIC \"-//W3C//DTD SVG 1.1//EN\"\r\n  \"http://www.w3.org/Graphics/SVG/1.1/DTD/svg11.dtd\">\r\n<!-- Created with matplotlib (https://matplotlib.org/) -->\r\n<svg height=\"277.314375pt\" version=\"1.1\" viewBox=\"0 0 400.523437 277.314375\" width=\"400.523437pt\" xmlns=\"http://www.w3.org/2000/svg\" xmlns:xlink=\"http://www.w3.org/1999/xlink\">\r\n <metadata>\r\n  <rdf:RDF xmlns:cc=\"http://creativecommons.org/ns#\" xmlns:dc=\"http://purl.org/dc/elements/1.1/\" xmlns:rdf=\"http://www.w3.org/1999/02/22-rdf-syntax-ns#\">\r\n   <cc:Work>\r\n    <dc:type rdf:resource=\"http://purl.org/dc/dcmitype/StillImage\"/>\r\n    <dc:date>2021-04-20T13:11:45.817188</dc:date>\r\n    <dc:format>image/svg+xml</dc:format>\r\n    <dc:creator>\r\n     <cc:Agent>\r\n      <dc:title>Matplotlib v3.3.4, https://matplotlib.org/</dc:title>\r\n     </cc:Agent>\r\n    </dc:creator>\r\n   </cc:Work>\r\n  </rdf:RDF>\r\n </metadata>\r\n <defs>\r\n  <style type=\"text/css\">*{stroke-linecap:butt;stroke-linejoin:round;}</style>\r\n </defs>\r\n <g id=\"figure_1\">\r\n  <g id=\"patch_1\">\r\n   <path d=\"M 0 277.314375 \r\nL 400.523437 277.314375 \r\nL 400.523437 0 \r\nL 0 0 \r\nz\r\n\" style=\"fill:none;\"/>\r\n  </g>\r\n  <g id=\"axes_1\">\r\n   <g id=\"patch_2\">\r\n    <path d=\"M 58.523438 239.758125 \r\nL 393.323438 239.758125 \r\nL 393.323438 22.318125 \r\nL 58.523438 22.318125 \r\nz\r\n\" style=\"fill:#ffffff;\"/>\r\n   </g>\r\n   <g id=\"matplotlib.axis_1\">\r\n    <g id=\"xtick_1\">\r\n     <g id=\"line2d_1\">\r\n      <defs>\r\n       <path d=\"M 0 0 \r\nL 0 3.5 \r\n\" id=\"mea1e3e6ac7\" style=\"stroke:#000000;stroke-width:0.8;\"/>\r\n      </defs>\r\n      <g>\r\n       <use style=\"stroke:#000000;stroke-width:0.8;\" x=\"104.177983\" xlink:href=\"#mea1e3e6ac7\" y=\"239.758125\"/>\r\n      </g>\r\n     </g>\r\n     <g id=\"text_1\">\r\n      <!-- −0.04 -->\r\n      <g transform=\"translate(88.855327 254.356562)scale(0.1 -0.1)\">\r\n       <defs>\r\n        <path d=\"M 10.59375 35.5 \r\nL 73.1875 35.5 \r\nL 73.1875 27.203125 \r\nL 10.59375 27.203125 \r\nz\r\n\" id=\"DejaVuSans-8722\"/>\r\n        <path d=\"M 31.78125 66.40625 \r\nQ 24.171875 66.40625 20.328125 58.90625 \r\nQ 16.5 51.421875 16.5 36.375 \r\nQ 16.5 21.390625 20.328125 13.890625 \r\nQ 24.171875 6.390625 31.78125 6.390625 \r\nQ 39.453125 6.390625 43.28125 13.890625 \r\nQ 47.125 21.390625 47.125 36.375 \r\nQ 47.125 51.421875 43.28125 58.90625 \r\nQ 39.453125 66.40625 31.78125 66.40625 \r\nz\r\nM 31.78125 74.21875 \r\nQ 44.046875 74.21875 50.515625 64.515625 \r\nQ 56.984375 54.828125 56.984375 36.375 \r\nQ 56.984375 17.96875 50.515625 8.265625 \r\nQ 44.046875 -1.421875 31.78125 -1.421875 \r\nQ 19.53125 -1.421875 13.0625 8.265625 \r\nQ 6.59375 17.96875 6.59375 36.375 \r\nQ 6.59375 54.828125 13.0625 64.515625 \r\nQ 19.53125 74.21875 31.78125 74.21875 \r\nz\r\n\" id=\"DejaVuSans-48\"/>\r\n        <path d=\"M 10.6875 12.40625 \r\nL 21 12.40625 \r\nL 21 0 \r\nL 10.6875 0 \r\nz\r\n\" id=\"DejaVuSans-46\"/>\r\n        <path d=\"M 37.796875 64.3125 \r\nL 12.890625 25.390625 \r\nL 37.796875 25.390625 \r\nz\r\nM 35.203125 72.90625 \r\nL 47.609375 72.90625 \r\nL 47.609375 25.390625 \r\nL 58.015625 25.390625 \r\nL 58.015625 17.1875 \r\nL 47.609375 17.1875 \r\nL 47.609375 0 \r\nL 37.796875 0 \r\nL 37.796875 17.1875 \r\nL 4.890625 17.1875 \r\nL 4.890625 26.703125 \r\nz\r\n\" id=\"DejaVuSans-52\"/>\r\n       </defs>\r\n       <use xlink:href=\"#DejaVuSans-8722\"/>\r\n       <use x=\"83.789062\" xlink:href=\"#DejaVuSans-48\"/>\r\n       <use x=\"147.412109\" xlink:href=\"#DejaVuSans-46\"/>\r\n       <use x=\"179.199219\" xlink:href=\"#DejaVuSans-48\"/>\r\n       <use x=\"242.822266\" xlink:href=\"#DejaVuSans-52\"/>\r\n      </g>\r\n     </g>\r\n    </g>\r\n    <g id=\"xtick_2\">\r\n     <g id=\"line2d_2\">\r\n      <g>\r\n       <use style=\"stroke:#000000;stroke-width:0.8;\" x=\"165.05071\" xlink:href=\"#mea1e3e6ac7\" y=\"239.758125\"/>\r\n      </g>\r\n     </g>\r\n     <g id=\"text_2\">\r\n      <!-- −0.02 -->\r\n      <g transform=\"translate(149.728054 254.356562)scale(0.1 -0.1)\">\r\n       <defs>\r\n        <path d=\"M 19.1875 8.296875 \r\nL 53.609375 8.296875 \r\nL 53.609375 0 \r\nL 7.328125 0 \r\nL 7.328125 8.296875 \r\nQ 12.9375 14.109375 22.625 23.890625 \r\nQ 32.328125 33.6875 34.8125 36.53125 \r\nQ 39.546875 41.84375 41.421875 45.53125 \r\nQ 43.3125 49.21875 43.3125 52.78125 \r\nQ 43.3125 58.59375 39.234375 62.25 \r\nQ 35.15625 65.921875 28.609375 65.921875 \r\nQ 23.96875 65.921875 18.8125 64.3125 \r\nQ 13.671875 62.703125 7.8125 59.421875 \r\nL 7.8125 69.390625 \r\nQ 13.765625 71.78125 18.9375 73 \r\nQ 24.125 74.21875 28.421875 74.21875 \r\nQ 39.75 74.21875 46.484375 68.546875 \r\nQ 53.21875 62.890625 53.21875 53.421875 \r\nQ 53.21875 48.921875 51.53125 44.890625 \r\nQ 49.859375 40.875 45.40625 35.40625 \r\nQ 44.1875 33.984375 37.640625 27.21875 \r\nQ 31.109375 20.453125 19.1875 8.296875 \r\nz\r\n\" id=\"DejaVuSans-50\"/>\r\n       </defs>\r\n       <use xlink:href=\"#DejaVuSans-8722\"/>\r\n       <use x=\"83.789062\" xlink:href=\"#DejaVuSans-48\"/>\r\n       <use x=\"147.412109\" xlink:href=\"#DejaVuSans-46\"/>\r\n       <use x=\"179.199219\" xlink:href=\"#DejaVuSans-48\"/>\r\n       <use x=\"242.822266\" xlink:href=\"#DejaVuSans-50\"/>\r\n      </g>\r\n     </g>\r\n    </g>\r\n    <g id=\"xtick_3\">\r\n     <g id=\"line2d_3\">\r\n      <g>\r\n       <use style=\"stroke:#000000;stroke-width:0.8;\" x=\"225.923438\" xlink:href=\"#mea1e3e6ac7\" y=\"239.758125\"/>\r\n      </g>\r\n     </g>\r\n     <g id=\"text_3\">\r\n      <!-- 0.00 -->\r\n      <g transform=\"translate(214.790625 254.356562)scale(0.1 -0.1)\">\r\n       <use xlink:href=\"#DejaVuSans-48\"/>\r\n       <use x=\"63.623047\" xlink:href=\"#DejaVuSans-46\"/>\r\n       <use x=\"95.410156\" xlink:href=\"#DejaVuSans-48\"/>\r\n       <use x=\"159.033203\" xlink:href=\"#DejaVuSans-48\"/>\r\n      </g>\r\n     </g>\r\n    </g>\r\n    <g id=\"xtick_4\">\r\n     <g id=\"line2d_4\">\r\n      <g>\r\n       <use style=\"stroke:#000000;stroke-width:0.8;\" x=\"286.796165\" xlink:href=\"#mea1e3e6ac7\" y=\"239.758125\"/>\r\n      </g>\r\n     </g>\r\n     <g id=\"text_4\">\r\n      <!-- 0.02 -->\r\n      <g transform=\"translate(275.663352 254.356562)scale(0.1 -0.1)\">\r\n       <use xlink:href=\"#DejaVuSans-48\"/>\r\n       <use x=\"63.623047\" xlink:href=\"#DejaVuSans-46\"/>\r\n       <use x=\"95.410156\" xlink:href=\"#DejaVuSans-48\"/>\r\n       <use x=\"159.033203\" xlink:href=\"#DejaVuSans-50\"/>\r\n      </g>\r\n     </g>\r\n    </g>\r\n    <g id=\"xtick_5\">\r\n     <g id=\"line2d_5\">\r\n      <g>\r\n       <use style=\"stroke:#000000;stroke-width:0.8;\" x=\"347.668892\" xlink:href=\"#mea1e3e6ac7\" y=\"239.758125\"/>\r\n      </g>\r\n     </g>\r\n     <g id=\"text_5\">\r\n      <!-- 0.04 -->\r\n      <g transform=\"translate(336.53608 254.356562)scale(0.1 -0.1)\">\r\n       <use xlink:href=\"#DejaVuSans-48\"/>\r\n       <use x=\"63.623047\" xlink:href=\"#DejaVuSans-46\"/>\r\n       <use x=\"95.410156\" xlink:href=\"#DejaVuSans-48\"/>\r\n       <use x=\"159.033203\" xlink:href=\"#DejaVuSans-52\"/>\r\n      </g>\r\n     </g>\r\n    </g>\r\n    <g id=\"text_6\">\r\n     <!-- epoch -->\r\n     <g transform=\"translate(210.695312 268.034687)scale(0.1 -0.1)\">\r\n      <defs>\r\n       <path d=\"M 56.203125 29.59375 \r\nL 56.203125 25.203125 \r\nL 14.890625 25.203125 \r\nQ 15.484375 15.921875 20.484375 11.0625 \r\nQ 25.484375 6.203125 34.421875 6.203125 \r\nQ 39.59375 6.203125 44.453125 7.46875 \r\nQ 49.3125 8.734375 54.109375 11.28125 \r\nL 54.109375 2.78125 \r\nQ 49.265625 0.734375 44.1875 -0.34375 \r\nQ 39.109375 -1.421875 33.890625 -1.421875 \r\nQ 20.796875 -1.421875 13.15625 6.1875 \r\nQ 5.515625 13.8125 5.515625 26.8125 \r\nQ 5.515625 40.234375 12.765625 48.109375 \r\nQ 20.015625 56 32.328125 56 \r\nQ 43.359375 56 49.78125 48.890625 \r\nQ 56.203125 41.796875 56.203125 29.59375 \r\nz\r\nM 47.21875 32.234375 \r\nQ 47.125 39.59375 43.09375 43.984375 \r\nQ 39.0625 48.390625 32.421875 48.390625 \r\nQ 24.90625 48.390625 20.390625 44.140625 \r\nQ 15.875 39.890625 15.1875 32.171875 \r\nz\r\n\" id=\"DejaVuSans-101\"/>\r\n       <path d=\"M 18.109375 8.203125 \r\nL 18.109375 -20.796875 \r\nL 9.078125 -20.796875 \r\nL 9.078125 54.6875 \r\nL 18.109375 54.6875 \r\nL 18.109375 46.390625 \r\nQ 20.953125 51.265625 25.265625 53.625 \r\nQ 29.59375 56 35.59375 56 \r\nQ 45.5625 56 51.78125 48.09375 \r\nQ 58.015625 40.1875 58.015625 27.296875 \r\nQ 58.015625 14.40625 51.78125 6.484375 \r\nQ 45.5625 -1.421875 35.59375 -1.421875 \r\nQ 29.59375 -1.421875 25.265625 0.953125 \r\nQ 20.953125 3.328125 18.109375 8.203125 \r\nz\r\nM 48.6875 27.296875 \r\nQ 48.6875 37.203125 44.609375 42.84375 \r\nQ 40.53125 48.484375 33.40625 48.484375 \r\nQ 26.265625 48.484375 22.1875 42.84375 \r\nQ 18.109375 37.203125 18.109375 27.296875 \r\nQ 18.109375 17.390625 22.1875 11.75 \r\nQ 26.265625 6.109375 33.40625 6.109375 \r\nQ 40.53125 6.109375 44.609375 11.75 \r\nQ 48.6875 17.390625 48.6875 27.296875 \r\nz\r\n\" id=\"DejaVuSans-112\"/>\r\n       <path d=\"M 30.609375 48.390625 \r\nQ 23.390625 48.390625 19.1875 42.75 \r\nQ 14.984375 37.109375 14.984375 27.296875 \r\nQ 14.984375 17.484375 19.15625 11.84375 \r\nQ 23.34375 6.203125 30.609375 6.203125 \r\nQ 37.796875 6.203125 41.984375 11.859375 \r\nQ 46.1875 17.53125 46.1875 27.296875 \r\nQ 46.1875 37.015625 41.984375 42.703125 \r\nQ 37.796875 48.390625 30.609375 48.390625 \r\nz\r\nM 30.609375 56 \r\nQ 42.328125 56 49.015625 48.375 \r\nQ 55.71875 40.765625 55.71875 27.296875 \r\nQ 55.71875 13.875 49.015625 6.21875 \r\nQ 42.328125 -1.421875 30.609375 -1.421875 \r\nQ 18.84375 -1.421875 12.171875 6.21875 \r\nQ 5.515625 13.875 5.515625 27.296875 \r\nQ 5.515625 40.765625 12.171875 48.375 \r\nQ 18.84375 56 30.609375 56 \r\nz\r\n\" id=\"DejaVuSans-111\"/>\r\n       <path d=\"M 48.78125 52.59375 \r\nL 48.78125 44.1875 \r\nQ 44.96875 46.296875 41.140625 47.34375 \r\nQ 37.3125 48.390625 33.40625 48.390625 \r\nQ 24.65625 48.390625 19.8125 42.84375 \r\nQ 14.984375 37.3125 14.984375 27.296875 \r\nQ 14.984375 17.28125 19.8125 11.734375 \r\nQ 24.65625 6.203125 33.40625 6.203125 \r\nQ 37.3125 6.203125 41.140625 7.25 \r\nQ 44.96875 8.296875 48.78125 10.40625 \r\nL 48.78125 2.09375 \r\nQ 45.015625 0.34375 40.984375 -0.53125 \r\nQ 36.96875 -1.421875 32.421875 -1.421875 \r\nQ 20.0625 -1.421875 12.78125 6.34375 \r\nQ 5.515625 14.109375 5.515625 27.296875 \r\nQ 5.515625 40.671875 12.859375 48.328125 \r\nQ 20.21875 56 33.015625 56 \r\nQ 37.15625 56 41.109375 55.140625 \r\nQ 45.0625 54.296875 48.78125 52.59375 \r\nz\r\n\" id=\"DejaVuSans-99\"/>\r\n       <path d=\"M 54.890625 33.015625 \r\nL 54.890625 0 \r\nL 45.90625 0 \r\nL 45.90625 32.71875 \r\nQ 45.90625 40.484375 42.875 44.328125 \r\nQ 39.84375 48.1875 33.796875 48.1875 \r\nQ 26.515625 48.1875 22.3125 43.546875 \r\nQ 18.109375 38.921875 18.109375 30.90625 \r\nL 18.109375 0 \r\nL 9.078125 0 \r\nL 9.078125 75.984375 \r\nL 18.109375 75.984375 \r\nL 18.109375 46.1875 \r\nQ 21.34375 51.125 25.703125 53.5625 \r\nQ 30.078125 56 35.796875 56 \r\nQ 45.21875 56 50.046875 50.171875 \r\nQ 54.890625 44.34375 54.890625 33.015625 \r\nz\r\n\" id=\"DejaVuSans-104\"/>\r\n      </defs>\r\n      <use xlink:href=\"#DejaVuSans-101\"/>\r\n      <use x=\"61.523438\" xlink:href=\"#DejaVuSans-112\"/>\r\n      <use x=\"125\" xlink:href=\"#DejaVuSans-111\"/>\r\n      <use x=\"186.181641\" xlink:href=\"#DejaVuSans-99\"/>\r\n      <use x=\"241.162109\" xlink:href=\"#DejaVuSans-104\"/>\r\n     </g>\r\n    </g>\r\n   </g>\r\n   <g id=\"matplotlib.axis_2\">\r\n    <g id=\"ytick_1\">\r\n     <g id=\"line2d_6\">\r\n      <defs>\r\n       <path d=\"M 0 0 \r\nL -3.5 0 \r\n\" id=\"mf4f14b77f1\" style=\"stroke:#000000;stroke-width:0.8;\"/>\r\n      </defs>\r\n      <g>\r\n       <use style=\"stroke:#000000;stroke-width:0.8;\" x=\"58.523438\" xlink:href=\"#mf4f14b77f1\" y=\"210.107216\"/>\r\n      </g>\r\n     </g>\r\n     <g id=\"text_7\">\r\n      <!-- −0.04 -->\r\n      <g transform=\"translate(20.878125 213.906435)scale(0.1 -0.1)\">\r\n       <use xlink:href=\"#DejaVuSans-8722\"/>\r\n       <use x=\"83.789062\" xlink:href=\"#DejaVuSans-48\"/>\r\n       <use x=\"147.412109\" xlink:href=\"#DejaVuSans-46\"/>\r\n       <use x=\"179.199219\" xlink:href=\"#DejaVuSans-48\"/>\r\n       <use x=\"242.822266\" xlink:href=\"#DejaVuSans-52\"/>\r\n      </g>\r\n     </g>\r\n    </g>\r\n    <g id=\"ytick_2\">\r\n     <g id=\"line2d_7\">\r\n      <g>\r\n       <use style=\"stroke:#000000;stroke-width:0.8;\" x=\"58.523438\" xlink:href=\"#mf4f14b77f1\" y=\"170.57267\"/>\r\n      </g>\r\n     </g>\r\n     <g id=\"text_8\">\r\n      <!-- −0.02 -->\r\n      <g transform=\"translate(20.878125 174.371889)scale(0.1 -0.1)\">\r\n       <use xlink:href=\"#DejaVuSans-8722\"/>\r\n       <use x=\"83.789062\" xlink:href=\"#DejaVuSans-48\"/>\r\n       <use x=\"147.412109\" xlink:href=\"#DejaVuSans-46\"/>\r\n       <use x=\"179.199219\" xlink:href=\"#DejaVuSans-48\"/>\r\n       <use x=\"242.822266\" xlink:href=\"#DejaVuSans-50\"/>\r\n      </g>\r\n     </g>\r\n    </g>\r\n    <g id=\"ytick_3\">\r\n     <g id=\"line2d_8\">\r\n      <g>\r\n       <use style=\"stroke:#000000;stroke-width:0.8;\" x=\"58.523438\" xlink:href=\"#mf4f14b77f1\" y=\"131.038125\"/>\r\n      </g>\r\n     </g>\r\n     <g id=\"text_9\">\r\n      <!-- 0.00 -->\r\n      <g transform=\"translate(29.257813 134.837344)scale(0.1 -0.1)\">\r\n       <use xlink:href=\"#DejaVuSans-48\"/>\r\n       <use x=\"63.623047\" xlink:href=\"#DejaVuSans-46\"/>\r\n       <use x=\"95.410156\" xlink:href=\"#DejaVuSans-48\"/>\r\n       <use x=\"159.033203\" xlink:href=\"#DejaVuSans-48\"/>\r\n      </g>\r\n     </g>\r\n    </g>\r\n    <g id=\"ytick_4\">\r\n     <g id=\"line2d_9\">\r\n      <g>\r\n       <use style=\"stroke:#000000;stroke-width:0.8;\" x=\"58.523438\" xlink:href=\"#mf4f14b77f1\" y=\"91.50358\"/>\r\n      </g>\r\n     </g>\r\n     <g id=\"text_10\">\r\n      <!-- 0.02 -->\r\n      <g transform=\"translate(29.257813 95.302798)scale(0.1 -0.1)\">\r\n       <use xlink:href=\"#DejaVuSans-48\"/>\r\n       <use x=\"63.623047\" xlink:href=\"#DejaVuSans-46\"/>\r\n       <use x=\"95.410156\" xlink:href=\"#DejaVuSans-48\"/>\r\n       <use x=\"159.033203\" xlink:href=\"#DejaVuSans-50\"/>\r\n      </g>\r\n     </g>\r\n    </g>\r\n    <g id=\"ytick_5\">\r\n     <g id=\"line2d_10\">\r\n      <g>\r\n       <use style=\"stroke:#000000;stroke-width:0.8;\" x=\"58.523438\" xlink:href=\"#mf4f14b77f1\" y=\"51.969034\"/>\r\n      </g>\r\n     </g>\r\n     <g id=\"text_11\">\r\n      <!-- 0.04 -->\r\n      <g transform=\"translate(29.257813 55.768253)scale(0.1 -0.1)\">\r\n       <use xlink:href=\"#DejaVuSans-48\"/>\r\n       <use x=\"63.623047\" xlink:href=\"#DejaVuSans-46\"/>\r\n       <use x=\"95.410156\" xlink:href=\"#DejaVuSans-48\"/>\r\n       <use x=\"159.033203\" xlink:href=\"#DejaVuSans-52\"/>\r\n      </g>\r\n     </g>\r\n    </g>\r\n    <g id=\"text_12\">\r\n     <!-- loss -->\r\n     <g transform=\"translate(14.798438 140.695937)rotate(-90)scale(0.1 -0.1)\">\r\n      <defs>\r\n       <path d=\"M 9.421875 75.984375 \r\nL 18.40625 75.984375 \r\nL 18.40625 0 \r\nL 9.421875 0 \r\nz\r\n\" id=\"DejaVuSans-108\"/>\r\n       <path d=\"M 44.28125 53.078125 \r\nL 44.28125 44.578125 \r\nQ 40.484375 46.53125 36.375 47.5 \r\nQ 32.28125 48.484375 27.875 48.484375 \r\nQ 21.1875 48.484375 17.84375 46.4375 \r\nQ 14.5 44.390625 14.5 40.28125 \r\nQ 14.5 37.15625 16.890625 35.375 \r\nQ 19.28125 33.59375 26.515625 31.984375 \r\nL 29.59375 31.296875 \r\nQ 39.15625 29.25 43.1875 25.515625 \r\nQ 47.21875 21.78125 47.21875 15.09375 \r\nQ 47.21875 7.46875 41.1875 3.015625 \r\nQ 35.15625 -1.421875 24.609375 -1.421875 \r\nQ 20.21875 -1.421875 15.453125 -0.5625 \r\nQ 10.6875 0.296875 5.421875 2 \r\nL 5.421875 11.28125 \r\nQ 10.40625 8.6875 15.234375 7.390625 \r\nQ 20.0625 6.109375 24.8125 6.109375 \r\nQ 31.15625 6.109375 34.5625 8.28125 \r\nQ 37.984375 10.453125 37.984375 14.40625 \r\nQ 37.984375 18.0625 35.515625 20.015625 \r\nQ 33.0625 21.96875 24.703125 23.78125 \r\nL 21.578125 24.515625 \r\nQ 13.234375 26.265625 9.515625 29.90625 \r\nQ 5.8125 33.546875 5.8125 39.890625 \r\nQ 5.8125 47.609375 11.28125 51.796875 \r\nQ 16.75 56 26.8125 56 \r\nQ 31.78125 56 36.171875 55.265625 \r\nQ 40.578125 54.546875 44.28125 53.078125 \r\nz\r\n\" id=\"DejaVuSans-115\"/>\r\n      </defs>\r\n      <use xlink:href=\"#DejaVuSans-108\"/>\r\n      <use x=\"27.783203\" xlink:href=\"#DejaVuSans-111\"/>\r\n      <use x=\"88.964844\" xlink:href=\"#DejaVuSans-115\"/>\r\n      <use x=\"141.064453\" xlink:href=\"#DejaVuSans-115\"/>\r\n     </g>\r\n    </g>\r\n   </g>\r\n   <g id=\"line2d_11\">\r\n    <path clip-path=\"url(#p8fca43bf76)\" d=\"M 0 0 \r\n\" style=\"fill:none;stroke:#1f77b4;stroke-linecap:square;stroke-width:1.5;\"/>\r\n   </g>\r\n   <g id=\"line2d_12\">\r\n    <path clip-path=\"url(#p8fca43bf76)\" d=\"M 0 0 \r\n\" style=\"fill:none;stroke:#ff7f0e;stroke-linecap:square;stroke-width:1.5;\"/>\r\n   </g>\r\n   <g id=\"patch_3\">\r\n    <path d=\"M 58.523438 239.758125 \r\nL 58.523438 22.318125 \r\n\" style=\"fill:none;stroke:#000000;stroke-linecap:square;stroke-linejoin:miter;stroke-width:0.8;\"/>\r\n   </g>\r\n   <g id=\"patch_4\">\r\n    <path d=\"M 393.323438 239.758125 \r\nL 393.323438 22.318125 \r\n\" style=\"fill:none;stroke:#000000;stroke-linecap:square;stroke-linejoin:miter;stroke-width:0.8;\"/>\r\n   </g>\r\n   <g id=\"patch_5\">\r\n    <path d=\"M 58.523438 239.758125 \r\nL 393.323438 239.758125 \r\n\" style=\"fill:none;stroke:#000000;stroke-linecap:square;stroke-linejoin:miter;stroke-width:0.8;\"/>\r\n   </g>\r\n   <g id=\"patch_6\">\r\n    <path d=\"M 58.523438 22.318125 \r\nL 393.323438 22.318125 \r\n\" style=\"fill:none;stroke:#000000;stroke-linecap:square;stroke-linejoin:miter;stroke-width:0.8;\"/>\r\n   </g>\r\n   <g id=\"text_13\">\r\n    <!-- model loss -->\r\n    <g transform=\"translate(193.74375 16.318125)scale(0.12 -0.12)\">\r\n     <defs>\r\n      <path d=\"M 52 44.1875 \r\nQ 55.375 50.25 60.0625 53.125 \r\nQ 64.75 56 71.09375 56 \r\nQ 79.640625 56 84.28125 50.015625 \r\nQ 88.921875 44.046875 88.921875 33.015625 \r\nL 88.921875 0 \r\nL 79.890625 0 \r\nL 79.890625 32.71875 \r\nQ 79.890625 40.578125 77.09375 44.375 \r\nQ 74.3125 48.1875 68.609375 48.1875 \r\nQ 61.625 48.1875 57.5625 43.546875 \r\nQ 53.515625 38.921875 53.515625 30.90625 \r\nL 53.515625 0 \r\nL 44.484375 0 \r\nL 44.484375 32.71875 \r\nQ 44.484375 40.625 41.703125 44.40625 \r\nQ 38.921875 48.1875 33.109375 48.1875 \r\nQ 26.21875 48.1875 22.15625 43.53125 \r\nQ 18.109375 38.875 18.109375 30.90625 \r\nL 18.109375 0 \r\nL 9.078125 0 \r\nL 9.078125 54.6875 \r\nL 18.109375 54.6875 \r\nL 18.109375 46.1875 \r\nQ 21.1875 51.21875 25.484375 53.609375 \r\nQ 29.78125 56 35.6875 56 \r\nQ 41.65625 56 45.828125 52.96875 \r\nQ 50 49.953125 52 44.1875 \r\nz\r\n\" id=\"DejaVuSans-109\"/>\r\n      <path d=\"M 45.40625 46.390625 \r\nL 45.40625 75.984375 \r\nL 54.390625 75.984375 \r\nL 54.390625 0 \r\nL 45.40625 0 \r\nL 45.40625 8.203125 \r\nQ 42.578125 3.328125 38.25 0.953125 \r\nQ 33.9375 -1.421875 27.875 -1.421875 \r\nQ 17.96875 -1.421875 11.734375 6.484375 \r\nQ 5.515625 14.40625 5.515625 27.296875 \r\nQ 5.515625 40.1875 11.734375 48.09375 \r\nQ 17.96875 56 27.875 56 \r\nQ 33.9375 56 38.25 53.625 \r\nQ 42.578125 51.265625 45.40625 46.390625 \r\nz\r\nM 14.796875 27.296875 \r\nQ 14.796875 17.390625 18.875 11.75 \r\nQ 22.953125 6.109375 30.078125 6.109375 \r\nQ 37.203125 6.109375 41.296875 11.75 \r\nQ 45.40625 17.390625 45.40625 27.296875 \r\nQ 45.40625 37.203125 41.296875 42.84375 \r\nQ 37.203125 48.484375 30.078125 48.484375 \r\nQ 22.953125 48.484375 18.875 42.84375 \r\nQ 14.796875 37.203125 14.796875 27.296875 \r\nz\r\n\" id=\"DejaVuSans-100\"/>\r\n      <path id=\"DejaVuSans-32\"/>\r\n     </defs>\r\n     <use xlink:href=\"#DejaVuSans-109\"/>\r\n     <use x=\"97.412109\" xlink:href=\"#DejaVuSans-111\"/>\r\n     <use x=\"158.59375\" xlink:href=\"#DejaVuSans-100\"/>\r\n     <use x=\"222.070312\" xlink:href=\"#DejaVuSans-101\"/>\r\n     <use x=\"283.59375\" xlink:href=\"#DejaVuSans-108\"/>\r\n     <use x=\"311.376953\" xlink:href=\"#DejaVuSans-32\"/>\r\n     <use x=\"343.164062\" xlink:href=\"#DejaVuSans-108\"/>\r\n     <use x=\"370.947266\" xlink:href=\"#DejaVuSans-111\"/>\r\n     <use x=\"432.128906\" xlink:href=\"#DejaVuSans-115\"/>\r\n     <use x=\"484.228516\" xlink:href=\"#DejaVuSans-115\"/>\r\n    </g>\r\n   </g>\r\n   <g id=\"legend_1\">\r\n    <g id=\"patch_7\">\r\n     <path d=\"M 65.523438 59.674375 \r\nL 120.798438 59.674375 \r\nQ 122.798438 59.674375 122.798438 57.674375 \r\nL 122.798438 29.318125 \r\nQ 122.798438 27.318125 120.798438 27.318125 \r\nL 65.523438 27.318125 \r\nQ 63.523438 27.318125 63.523438 29.318125 \r\nL 63.523438 57.674375 \r\nQ 63.523438 59.674375 65.523438 59.674375 \r\nz\r\n\" style=\"fill:#ffffff;opacity:0.8;stroke:#cccccc;stroke-linejoin:miter;\"/>\r\n    </g>\r\n    <g id=\"line2d_13\">\r\n     <path d=\"M 67.523438 35.416562 \r\nL 87.523438 35.416562 \r\n\" style=\"fill:none;stroke:#1f77b4;stroke-linecap:square;stroke-width:1.5;\"/>\r\n    </g>\r\n    <g id=\"line2d_14\"/>\r\n    <g id=\"text_14\">\r\n     <!-- train -->\r\n     <g transform=\"translate(95.523438 38.916562)scale(0.1 -0.1)\">\r\n      <defs>\r\n       <path d=\"M 18.3125 70.21875 \r\nL 18.3125 54.6875 \r\nL 36.8125 54.6875 \r\nL 36.8125 47.703125 \r\nL 18.3125 47.703125 \r\nL 18.3125 18.015625 \r\nQ 18.3125 11.328125 20.140625 9.421875 \r\nQ 21.96875 7.515625 27.59375 7.515625 \r\nL 36.8125 7.515625 \r\nL 36.8125 0 \r\nL 27.59375 0 \r\nQ 17.1875 0 13.234375 3.875 \r\nQ 9.28125 7.765625 9.28125 18.015625 \r\nL 9.28125 47.703125 \r\nL 2.6875 47.703125 \r\nL 2.6875 54.6875 \r\nL 9.28125 54.6875 \r\nL 9.28125 70.21875 \r\nz\r\n\" id=\"DejaVuSans-116\"/>\r\n       <path d=\"M 41.109375 46.296875 \r\nQ 39.59375 47.171875 37.8125 47.578125 \r\nQ 36.03125 48 33.890625 48 \r\nQ 26.265625 48 22.1875 43.046875 \r\nQ 18.109375 38.09375 18.109375 28.8125 \r\nL 18.109375 0 \r\nL 9.078125 0 \r\nL 9.078125 54.6875 \r\nL 18.109375 54.6875 \r\nL 18.109375 46.1875 \r\nQ 20.953125 51.171875 25.484375 53.578125 \r\nQ 30.03125 56 36.53125 56 \r\nQ 37.453125 56 38.578125 55.875 \r\nQ 39.703125 55.765625 41.0625 55.515625 \r\nz\r\n\" id=\"DejaVuSans-114\"/>\r\n       <path d=\"M 34.28125 27.484375 \r\nQ 23.390625 27.484375 19.1875 25 \r\nQ 14.984375 22.515625 14.984375 16.5 \r\nQ 14.984375 11.71875 18.140625 8.90625 \r\nQ 21.296875 6.109375 26.703125 6.109375 \r\nQ 34.1875 6.109375 38.703125 11.40625 \r\nQ 43.21875 16.703125 43.21875 25.484375 \r\nL 43.21875 27.484375 \r\nz\r\nM 52.203125 31.203125 \r\nL 52.203125 0 \r\nL 43.21875 0 \r\nL 43.21875 8.296875 \r\nQ 40.140625 3.328125 35.546875 0.953125 \r\nQ 30.953125 -1.421875 24.3125 -1.421875 \r\nQ 15.921875 -1.421875 10.953125 3.296875 \r\nQ 6 8.015625 6 15.921875 \r\nQ 6 25.140625 12.171875 29.828125 \r\nQ 18.359375 34.515625 30.609375 34.515625 \r\nL 43.21875 34.515625 \r\nL 43.21875 35.40625 \r\nQ 43.21875 41.609375 39.140625 45 \r\nQ 35.0625 48.390625 27.6875 48.390625 \r\nQ 23 48.390625 18.546875 47.265625 \r\nQ 14.109375 46.140625 10.015625 43.890625 \r\nL 10.015625 52.203125 \r\nQ 14.9375 54.109375 19.578125 55.046875 \r\nQ 24.21875 56 28.609375 56 \r\nQ 40.484375 56 46.34375 49.84375 \r\nQ 52.203125 43.703125 52.203125 31.203125 \r\nz\r\n\" id=\"DejaVuSans-97\"/>\r\n       <path d=\"M 9.421875 54.6875 \r\nL 18.40625 54.6875 \r\nL 18.40625 0 \r\nL 9.421875 0 \r\nz\r\nM 9.421875 75.984375 \r\nL 18.40625 75.984375 \r\nL 18.40625 64.59375 \r\nL 9.421875 64.59375 \r\nz\r\n\" id=\"DejaVuSans-105\"/>\r\n       <path d=\"M 54.890625 33.015625 \r\nL 54.890625 0 \r\nL 45.90625 0 \r\nL 45.90625 32.71875 \r\nQ 45.90625 40.484375 42.875 44.328125 \r\nQ 39.84375 48.1875 33.796875 48.1875 \r\nQ 26.515625 48.1875 22.3125 43.546875 \r\nQ 18.109375 38.921875 18.109375 30.90625 \r\nL 18.109375 0 \r\nL 9.078125 0 \r\nL 9.078125 54.6875 \r\nL 18.109375 54.6875 \r\nL 18.109375 46.1875 \r\nQ 21.34375 51.125 25.703125 53.5625 \r\nQ 30.078125 56 35.796875 56 \r\nQ 45.21875 56 50.046875 50.171875 \r\nQ 54.890625 44.34375 54.890625 33.015625 \r\nz\r\n\" id=\"DejaVuSans-110\"/>\r\n      </defs>\r\n      <use xlink:href=\"#DejaVuSans-116\"/>\r\n      <use x=\"39.208984\" xlink:href=\"#DejaVuSans-114\"/>\r\n      <use x=\"80.322266\" xlink:href=\"#DejaVuSans-97\"/>\r\n      <use x=\"141.601562\" xlink:href=\"#DejaVuSans-105\"/>\r\n      <use x=\"169.384766\" xlink:href=\"#DejaVuSans-110\"/>\r\n     </g>\r\n    </g>\r\n    <g id=\"line2d_15\">\r\n     <path d=\"M 67.523438 50.094687 \r\nL 87.523438 50.094687 \r\n\" style=\"fill:none;stroke:#ff7f0e;stroke-linecap:square;stroke-width:1.5;\"/>\r\n    </g>\r\n    <g id=\"line2d_16\"/>\r\n    <g id=\"text_15\">\r\n     <!-- val -->\r\n     <g transform=\"translate(95.523438 53.594687)scale(0.1 -0.1)\">\r\n      <defs>\r\n       <path d=\"M 2.984375 54.6875 \r\nL 12.5 54.6875 \r\nL 29.59375 8.796875 \r\nL 46.6875 54.6875 \r\nL 56.203125 54.6875 \r\nL 35.6875 0 \r\nL 23.484375 0 \r\nz\r\n\" id=\"DejaVuSans-118\"/>\r\n      </defs>\r\n      <use xlink:href=\"#DejaVuSans-118\"/>\r\n      <use x=\"59.179688\" xlink:href=\"#DejaVuSans-97\"/>\r\n      <use x=\"120.458984\" xlink:href=\"#DejaVuSans-108\"/>\r\n     </g>\r\n    </g>\r\n   </g>\r\n  </g>\r\n </g>\r\n <defs>\r\n  <clipPath id=\"p8fca43bf76\">\r\n   <rect height=\"217.44\" width=\"334.8\" x=\"58.523438\" y=\"22.318125\"/>\r\n  </clipPath>\r\n </defs>\r\n</svg>\r\n",
      "image/png": "[encoded data removed]"
     },
     "metadata": {
      "needs_background": "light"
     }
    }
   ],
   "source": [
    "epochs = range(1, len(history.history['acc']) + 1)\n",
    "plt.plot(epochs, history.history['loss'])\n",
    "plt.plot(epochs, history.history['val_loss'])\n",
    "plt.title('model loss')\n",
    "plt.ylabel('loss')\n",
    "plt.xlabel('epoch')\n",
    "plt.legend(['train', 'val'], loc='upper left')\n",
    "plt.show()"
   ]
  },
  {
   "cell_type": "code",
   "execution_count": null,
   "metadata": {},
   "outputs": [],
   "source": []
  }
 ],
 "metadata": {
  "kernelspec": {
   "name": "python3710jvsc74a57bd077160980b57d06325a3d3988f966ff7044cd2b89b77b17d41e2f6eb795137afc",
   "display_name": "Python 3.7.10 64-bit ('capstone': conda)"
  },
  "language_info": {
   "codemirror_mode": {
    "name": "ipython",
    "version": 3
   },
   "file_extension": ".py",
   "mimetype": "text/x-python",
   "name": "python",
   "nbconvert_exporter": "python",
   "pygments_lexer": "ipython3",
   "version": "3.7.10"
  }
 },
 "nbformat": 4,
 "nbformat_minor": 2
}